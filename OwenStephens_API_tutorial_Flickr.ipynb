{
 "cells": [
  {
   "cell_type": "markdown",
   "metadata": {},
   "source": [
    "# Flickr 'API' access tutorial: notebookerised"
   ]
  },
  {
   "cell_type": "markdown",
   "metadata": {},
   "source": [
    "## This notebook:\n",
    "- Follows [the tutorial](https://wiki.bl.uk:8443/download/attachments/139627026/9%20Using%20an%20API%20-%20hands-on%20exercises%202014.pdf?api=v2) developed by Owen Stephens on behalf of the British Library to access a Flickr \"API\" (actually just the RSS feed) at the BL\n",
    "- Applies it in a Jupyter notebook\n",
    "- Flickr has a powerful API (requires registration)!\n",
    "    - You will not be using it\n",
    "        - Just the RSS feeds for simplicity\n",
    "- The tutorial relies on google spreadsheets to make API requests and format the responses\n",
    "    - You will not be using that!\n",
    "    - This notebook uses python libraries to achieve the same effect\n",
    "        - pandas, BeautifulSoup, numpy, feedparser and many more"
   ]
  },
  {
   "cell_type": "markdown",
   "metadata": {},
   "source": [
    "### Example URL:  \n",
    "https://api.flickr.com/services/feeds/photos_public.gne?tags=food&format=rss"
   ]
  },
  {
   "cell_type": "code",
   "execution_count": 101,
   "metadata": {},
   "outputs": [],
   "source": [
    "import requests as rq\n",
    "import xml.etree.ElementTree as ET\n",
    "from PIL import Image\n",
    "from io import BytesIO\n",
    "import json"
   ]
  },
  {
   "cell_type": "code",
   "execution_count": 307,
   "metadata": {},
   "outputs": [
    {
     "data": {
      "text/plain": [
       "'https://api.flickr.com/services/feeds/photos_public.gne?tags=food&format=rss2'"
      ]
     },
     "execution_count": 307,
     "metadata": {},
     "output_type": "execute_result"
    }
   ],
   "source": [
    "base_url='https://api.flickr.com/services/feeds/photos_public.gne'\n",
    "tags='food'\n",
    "response_format='rss2'\n",
    "api_request=base_url + '?'+ 'tags=' + tags + '&format=' + response_format\n",
    "api_request"
   ]
  },
  {
   "cell_type": "markdown",
   "metadata": {},
   "source": [
    "|Parameter|Value|Description |\n",
    "| ------------- |-------------|------|\n",
    "| base URL | https://api.flickr.com/services/feeds/photos_public.gne| With server and prefix, forms address where API request is made |\n",
    "| tags | food | A comma-delimited list of tags |\n",
    "| response format | rss |How should the API present the response? |\n"
   ]
  },
  {
   "cell_type": "markdown",
   "metadata": {},
   "source": [
    "There are several python libraries you can use to parse the xml returned from the rss API request. I've looked at a couple here, but you may end up finding a favourite after a google!\n",
    "\n",
    "Trying with feedparser:"
   ]
  },
  {
   "cell_type": "code",
   "execution_count": 103,
   "metadata": {},
   "outputs": [
    {
     "name": "stdout",
     "output_type": "stream",
     "text": [
      "{'feed': {'title': 'Recent Uploads tagged food', 'title_detail': {'type': 'text/plain', 'language': None, 'base': 'https://api.flickr.com/services/feeds/photos_public.gne?tags=food&format=rss2', 'value': 'Recent Uploads tagged food'}, 'links': [{'rel': 'alternate', 'type': 'text/html', 'href': 'https://www.flickr.com/photos/tags/food/'}], 'link': 'https://www.flickr.com/photos/tags/food/', 'subtitle': '', 'subtitle_detail': {'type': 'text/html', 'language': None, 'base': 'https://api.flickr.com/services/feeds/photos_public.gne?tags=food&format=rss2', 'value': ''}, 'published': 'Fri, 07 Feb 2020 03:32:40 -0800', 'published_parsed': time.struct_time(tm_year=2020, tm_mon=2, tm_mday=7, tm_hour=11, tm_min=32, tm_sec=40, tm_wday=4, tm_yday=38, tm_isdst=0), 'updated': 'Fri, 07 Feb 2020 03:32:40 -0800', 'updated_parsed': time.struct_time(tm_year=2020, tm_mon=2, tm_mday=7, tm_hour=11, tm_min=32, tm_sec=40, tm_wday=4, tm_yday=38, tm_isdst=0), 'generator_detail': {'name': 'https://www.flickr.com/'}, 'generator': 'https://www.flickr.com/', 'image': {'href': 'https://combo.staticflickr.com/pw/images/buddyicon.gif', 'title': 'Recent Uploads tagged food', 'title_detail': {'type': 'text/plain', 'language': None, 'base': 'https://api.flickr.com/services/feeds/photos_public.gne?tags=food&format=rss2', 'value': 'Recent Uploads tagged food'}, 'links': [{'rel': 'alternate', 'type': 'text/html', 'href': 'https://www.flickr.com/photos/tags/food/'}], 'link': 'https://www.flickr.com/photos/tags/food/'}}, 'entries': [{'title': 'DSCF6429', 'title_detail': {'type': 'text/plain', 'language': None, 'base': 'https://api.flickr.com/services/feeds/photos_public.gne?tags=food&format=rss2', 'value': 'DSCF6429'}, 'links': [{'rel': 'alternate', 'type': 'text/html', 'href': 'https://www.flickr.com/photos/aaroncaley/49500908251/'}, {'type': 'image/jpeg', 'href': 'https://live.staticflickr.com/65535/49500908251_5c02783515_b.jpg', 'rel': 'enclosure'}], 'link': 'https://www.flickr.com/photos/aaroncaley/49500908251/', 'summary': '<p><a href=\"https://www.flickr.com/people/aaroncaley/\">aaroncaley</a> posted a photo:</p>\\n\\t\\n<p><a href=\"https://www.flickr.com/photos/aaroncaley/49500908251/\" title=\"DSCF6429\"><img src=\"https://live.staticflickr.com/65535/49500908251_5c02783515_m.jpg\" width=\"160\" height=\"240\" alt=\"DSCF6429\" /></a></p>', 'summary_detail': {'type': 'text/html', 'language': None, 'base': 'https://api.flickr.com/services/feeds/photos_public.gne?tags=food&format=rss2', 'value': '<p><a href=\"https://www.flickr.com/people/aaroncaley/\">aaroncaley</a> posted a photo:</p>\\n\\t\\n<p><a href=\"https://www.flickr.com/photos/aaroncaley/49500908251/\" title=\"DSCF6429\"><img src=\"https://live.staticflickr.com/65535/49500908251_5c02783515_m.jpg\" width=\"160\" height=\"240\" alt=\"DSCF6429\" /></a></p>'}, 'published': 'Fri, 07 Feb 2020 03:32:40 -0800', 'published_parsed': time.struct_time(tm_year=2020, tm_mon=2, tm_mday=7, tm_hour=11, tm_min=32, tm_sec=40, tm_wday=4, tm_yday=38, tm_isdst=0), 'dc_date.taken': '2020-01-24T22:21:33-08:00', 'authors': [{'name': 'aaroncaley', 'email': 'nobody@flickr.com'}], 'author': 'nobody@flickr.com (aaroncaley)', 'author_detail': {'name': 'aaroncaley', 'email': 'nobody@flickr.com'}, 'id': 'tag:flickr.com,2004:/photo/49500908251', 'guidislink': False, 'media_content': [{'url': 'https://live.staticflickr.com/65535/49500908251_5c02783515_b.jpg', 'type': 'image/jpeg', 'height': '1024', 'width': '683'}], 'media_thumbnail': [{'url': 'https://live.staticflickr.com/65535/49500908251_5c02783515_s.jpg', 'height': '75', 'width': '75'}], 'href': '', 'media_credit': [{'role': 'photographer', 'content': 'aaroncaley'}], 'credit': 'aaroncaley', 'tags': [{'term': 'india tamilnadu food indianfood people prithvi juliet', 'scheme': 'urn:flickr:tags', 'label': None}]}, {'title': 'DSCF6434', 'title_detail': {'type': 'text/plain', 'language': None, 'base': 'https://api.flickr.com/services/feeds/photos_public.gne?tags=food&format=rss2', 'value': 'DSCF6434'}, 'links': [{'rel': 'alternate', 'type': 'text/html', 'href': 'https://www.flickr.com/photos/aaroncaley/49501127827/'}, {'type': 'image/jpeg', 'href': 'https://live.staticflickr.com/65535/49501127827_c7f32d9a18_b.jpg', 'rel': 'enclosure'}], 'link': 'https://www.flickr.com/photos/aaroncaley/49501127827/', 'summary': '<p><a href=\"https://www.flickr.com/people/aaroncaley/\">aaroncaley</a> posted a photo:</p>\\n\\t\\n<p><a href=\"https://www.flickr.com/photos/aaroncaley/49501127827/\" title=\"DSCF6434\"><img src=\"https://live.staticflickr.com/65535/49501127827_c7f32d9a18_m.jpg\" width=\"240\" height=\"160\" alt=\"DSCF6434\" /></a></p>', 'summary_detail': {'type': 'text/html', 'language': None, 'base': 'https://api.flickr.com/services/feeds/photos_public.gne?tags=food&format=rss2', 'value': '<p><a href=\"https://www.flickr.com/people/aaroncaley/\">aaroncaley</a> posted a photo:</p>\\n\\t\\n<p><a href=\"https://www.flickr.com/photos/aaroncaley/49501127827/\" title=\"DSCF6434\"><img src=\"https://live.staticflickr.com/65535/49501127827_c7f32d9a18_m.jpg\" width=\"240\" height=\"160\" alt=\"DSCF6434\" /></a></p>'}, 'published': 'Fri, 07 Feb 2020 03:32:40 -0800', 'published_parsed': time.struct_time(tm_year=2020, tm_mon=2, tm_mday=7, tm_hour=11, tm_min=32, tm_sec=40, tm_wday=4, tm_yday=38, tm_isdst=0), 'dc_date.taken': '2020-01-25T12:09:55-08:00', 'authors': [{'name': 'aaroncaley', 'email': 'nobody@flickr.com'}], 'author': 'nobody@flickr.com (aaroncaley)', 'author_detail': {'name': 'aaroncaley', 'email': 'nobody@flickr.com'}, 'id': 'tag:flickr.com,2004:/photo/49501127827', 'guidislink': False, 'media_content': [{'url': 'https://live.staticflickr.com/65535/49501127827_c7f32d9a18_b.jpg', 'type': 'image/jpeg', 'height': '683', 'width': '1024'}], 'media_thumbnail': [{'url': 'https://live.staticflickr.com/65535/49501127827_c7f32d9a18_s.jpg', 'height': '75', 'width': '75'}], 'href': '', 'media_credit': [{'role': 'photographer', 'content': 'aaroncaley'}], 'credit': 'aaroncaley', 'tags': [{'term': 'india tamilnadu food indianfood', 'scheme': 'urn:flickr:tags', 'label': None}]}, {'title': 'cic-20-266', 'title_detail': {'type': 'text/plain', 'language': None, 'base': 'https://api.flickr.com/services/feeds/photos_public.gne?tags=food&format=rss2', 'value': 'cic-20-266'}, 'links': [{'rel': 'alternate', 'type': 'text/html', 'href': 'https://www.flickr.com/photos/zimmcomm/49500330007/'}, {'type': 'image/jpeg', 'href': 'https://live.staticflickr.com/65535/49500330007_932076d9aa_b.jpg', 'rel': 'enclosure'}], 'link': 'https://www.flickr.com/photos/zimmcomm/49500330007/', 'summary': '<p><a href=\"https://www.flickr.com/people/zimmcomm/\">AgWired</a> posted a photo:</p>\\n\\t\\n<p><a href=\"https://www.flickr.com/photos/zimmcomm/49500330007/\" title=\"cic-20-266\"><img src=\"https://live.staticflickr.com/65535/49500330007_932076d9aa_m.jpg\" width=\"240\" height=\"160\" alt=\"cic-20-266\" /></a></p>', 'summary_detail': {'type': 'text/html', 'language': None, 'base': 'https://api.flickr.com/services/feeds/photos_public.gne?tags=food&format=rss2', 'value': '<p><a href=\"https://www.flickr.com/people/zimmcomm/\">AgWired</a> posted a photo:</p>\\n\\t\\n<p><a href=\"https://www.flickr.com/photos/zimmcomm/49500330007/\" title=\"cic-20-266\"><img src=\"https://live.staticflickr.com/65535/49500330007_932076d9aa_m.jpg\" width=\"240\" height=\"160\" alt=\"cic-20-266\" /></a></p>'}, 'published': 'Fri, 07 Feb 2020 03:06:12 -0800', 'published_parsed': time.struct_time(tm_year=2020, tm_mon=2, tm_mday=7, tm_hour=11, tm_min=6, tm_sec=12, tm_wday=4, tm_yday=38, tm_isdst=0), 'dc_date.taken': '2020-02-06T10:07:28-08:00', 'authors': [{'name': 'AgWired', 'email': 'nobody@flickr.com'}], 'author': 'nobody@flickr.com (AgWired)', 'author_detail': {'name': 'AgWired', 'email': 'nobody@flickr.com'}, 'id': 'tag:flickr.com,2004:/photo/49500330007', 'guidislink': False, 'media_content': [{'url': 'https://live.staticflickr.com/65535/49500330007_932076d9aa_b.jpg', 'type': 'image/jpeg', 'height': '684', 'width': '1024'}], 'media_thumbnail': [{'url': 'https://live.staticflickr.com/65535/49500330007_932076d9aa_s.jpg', 'height': '75', 'width': '75'}], 'href': '', 'media_credit': [{'role': 'photographer', 'content': 'AgWired'}], 'credit': 'AgWired', 'tags': [{'term': 'cattle industry convention cbb ncba ancw national cattlemens beef association board food beefmeet cattlecon20 agriculture farm agwired zimmcomm new media chuck zimmerman', 'scheme': 'urn:flickr:tags', 'label': None}]}, {'title': 'cic-20-217', 'title_detail': {'type': 'text/plain', 'language': None, 'base': 'https://api.flickr.com/services/feeds/photos_public.gne?tags=food&format=rss2', 'value': 'cic-20-217'}, 'links': [{'rel': 'alternate', 'type': 'text/html', 'href': 'https://www.flickr.com/photos/zimmcomm/49499656778/'}, {'type': 'image/jpeg', 'href': 'https://live.staticflickr.com/65535/49499656778_52ce385198_b.jpg', 'rel': 'enclosure'}], 'link': 'https://www.flickr.com/photos/zimmcomm/49499656778/', 'summary': '<p><a href=\"https://www.flickr.com/people/zimmcomm/\">AgWired</a> posted a photo:</p>\\n\\t\\n<p><a href=\"https://www.flickr.com/photos/zimmcomm/49499656778/\" title=\"cic-20-217\"><img src=\"https://live.staticflickr.com/65535/49499656778_52ce385198_m.jpg\" width=\"240\" height=\"160\" alt=\"cic-20-217\" /></a></p>', 'summary_detail': {'type': 'text/html', 'language': None, 'base': 'https://api.flickr.com/services/feeds/photos_public.gne?tags=food&format=rss2', 'value': '<p><a href=\"https://www.flickr.com/people/zimmcomm/\">AgWired</a> posted a photo:</p>\\n\\t\\n<p><a href=\"https://www.flickr.com/photos/zimmcomm/49499656778/\" title=\"cic-20-217\"><img src=\"https://live.staticflickr.com/65535/49499656778_52ce385198_m.jpg\" width=\"240\" height=\"160\" alt=\"cic-20-217\" /></a></p>'}, 'published': 'Fri, 07 Feb 2020 03:05:45 -0800', 'published_parsed': time.struct_time(tm_year=2020, tm_mon=2, tm_mday=7, tm_hour=11, tm_min=5, tm_sec=45, tm_wday=4, tm_yday=38, tm_isdst=0), 'dc_date.taken': '2020-02-06T07:40:25-08:00', 'authors': [{'name': 'AgWired', 'email': 'nobody@flickr.com'}], 'author': 'nobody@flickr.com (AgWired)', 'author_detail': {'name': 'AgWired', 'email': 'nobody@flickr.com'}, 'id': 'tag:flickr.com,2004:/photo/49499656778', 'guidislink': False, 'media_content': [{'url': 'https://live.staticflickr.com/65535/49499656778_52ce385198_b.jpg', 'type': 'image/jpeg', 'height': '684', 'width': '1024'}], 'media_thumbnail': [{'url': 'https://live.staticflickr.com/65535/49499656778_52ce385198_s.jpg', 'height': '75', 'width': '75'}], 'href': '', 'media_credit': [{'role': 'photographer', 'content': 'AgWired'}], 'credit': 'AgWired', 'tags': [{'term': 'cattle industry convention cbb ncba ancw national cattlemens beef association board food beefmeet cattlecon20 agriculture farm agwired zimmcomm new media chuck zimmerman', 'scheme': 'urn:flickr:tags', 'label': None}]}, {'title': 'cic-20-242', 'title_detail': {'type': 'text/plain', 'language': None, 'base': 'https://api.flickr.com/services/feeds/photos_public.gne?tags=food&format=rss2', 'value': 'cic-20-242'}, 'links': [{'rel': 'alternate', 'type': 'text/html', 'href': 'https://www.flickr.com/photos/zimmcomm/49500129756/'}, {'type': 'image/jpeg', 'href': 'https://live.staticflickr.com/65535/49500129756_94236dd6e4_b.jpg', 'rel': 'enclosure'}], 'link': 'https://www.flickr.com/photos/zimmcomm/49500129756/', 'summary': '<p><a href=\"https://www.flickr.com/people/zimmcomm/\">AgWired</a> posted a photo:</p>\\n\\t\\n<p><a href=\"https://www.flickr.com/photos/zimmcomm/49500129756/\" title=\"cic-20-242\"><img src=\"https://live.staticflickr.com/65535/49500129756_94236dd6e4_m.jpg\" width=\"240\" height=\"160\" alt=\"cic-20-242\" /></a></p>', 'summary_detail': {'type': 'text/html', 'language': None, 'base': 'https://api.flickr.com/services/feeds/photos_public.gne?tags=food&format=rss2', 'value': '<p><a href=\"https://www.flickr.com/people/zimmcomm/\">AgWired</a> posted a photo:</p>\\n\\t\\n<p><a href=\"https://www.flickr.com/photos/zimmcomm/49500129756/\" title=\"cic-20-242\"><img src=\"https://live.staticflickr.com/65535/49500129756_94236dd6e4_m.jpg\" width=\"240\" height=\"160\" alt=\"cic-20-242\" /></a></p>'}, 'published': 'Fri, 07 Feb 2020 03:05:59 -0800', 'published_parsed': time.struct_time(tm_year=2020, tm_mon=2, tm_mday=7, tm_hour=11, tm_min=5, tm_sec=59, tm_wday=4, tm_yday=38, tm_isdst=0), 'dc_date.taken': '2020-02-06T09:46:49-08:00', 'authors': [{'name': 'AgWired', 'email': 'nobody@flickr.com'}], 'author': 'nobody@flickr.com (AgWired)', 'author_detail': {'name': 'AgWired', 'email': 'nobody@flickr.com'}, 'id': 'tag:flickr.com,2004:/photo/49500129756', 'guidislink': False, 'media_content': [{'url': 'https://live.staticflickr.com/65535/49500129756_94236dd6e4_b.jpg', 'type': 'image/jpeg', 'height': '684', 'width': '1024'}], 'media_thumbnail': [{'url': 'https://live.staticflickr.com/65535/49500129756_94236dd6e4_s.jpg', 'height': '75', 'width': '75'}], 'href': '', 'media_credit': [{'role': 'photographer', 'content': 'AgWired'}], 'credit': 'AgWired', 'tags': [{'term': 'cattle industry convention cbb ncba ancw national cattlemens beef association board food beefmeet cattlecon20 agriculture farm agwired zimmcomm new media chuck zimmerman', 'scheme': 'urn:flickr:tags', 'label': None}]}, {'title': 'cic-20-254', 'title_detail': {'type': 'text/plain', 'language': None, 'base': 'https://api.flickr.com/services/feeds/photos_public.gne?tags=food&format=rss2', 'value': 'cic-20-254'}, 'links': [{'rel': 'alternate', 'type': 'text/html', 'href': 'https://www.flickr.com/photos/zimmcomm/49499622043/'}, {'type': 'image/jpeg', 'href': 'https://live.staticflickr.com/65535/49499622043_50f2b74c32_b.jpg', 'rel': 'enclosure'}], 'link': 'https://www.flickr.com/photos/zimmcomm/49499622043/', 'summary': '<p><a href=\"https://www.flickr.com/people/zimmcomm/\">AgWired</a> posted a photo:</p>\\n\\t\\n<p><a href=\"https://www.flickr.com/photos/zimmcomm/49499622043/\" title=\"cic-20-254\"><img src=\"https://live.staticflickr.com/65535/49499622043_50f2b74c32_m.jpg\" width=\"240\" height=\"160\" alt=\"cic-20-254\" /></a></p>', 'summary_detail': {'type': 'text/html', 'language': None, 'base': 'https://api.flickr.com/services/feeds/photos_public.gne?tags=food&format=rss2', 'value': '<p><a href=\"https://www.flickr.com/people/zimmcomm/\">AgWired</a> posted a photo:</p>\\n\\t\\n<p><a href=\"https://www.flickr.com/photos/zimmcomm/49499622043/\" title=\"cic-20-254\"><img src=\"https://live.staticflickr.com/65535/49499622043_50f2b74c32_m.jpg\" width=\"240\" height=\"160\" alt=\"cic-20-254\" /></a></p>'}, 'published': 'Fri, 07 Feb 2020 03:06:04 -0800', 'published_parsed': time.struct_time(tm_year=2020, tm_mon=2, tm_mday=7, tm_hour=11, tm_min=6, tm_sec=4, tm_wday=4, tm_yday=38, tm_isdst=0), 'dc_date.taken': '2020-02-06T09:54:45-08:00', 'authors': [{'name': 'AgWired', 'email': 'nobody@flickr.com'}], 'author': 'nobody@flickr.com (AgWired)', 'author_detail': {'name': 'AgWired', 'email': 'nobody@flickr.com'}, 'id': 'tag:flickr.com,2004:/photo/49499622043', 'guidislink': False, 'media_content': [{'url': 'https://live.staticflickr.com/65535/49499622043_50f2b74c32_b.jpg', 'type': 'image/jpeg', 'height': '684', 'width': '1024'}], 'media_thumbnail': [{'url': 'https://live.staticflickr.com/65535/49499622043_50f2b74c32_s.jpg', 'height': '75', 'width': '75'}], 'href': '', 'media_credit': [{'role': 'photographer', 'content': 'AgWired'}], 'credit': 'AgWired', 'tags': [{'term': 'cattle industry convention cbb ncba ancw national cattlemens beef association board food beefmeet cattlecon20 agriculture farm agwired zimmcomm new media chuck zimmerman', 'scheme': 'urn:flickr:tags', 'label': None}]}, {'title': 'cic-20-244', 'title_detail': {'type': 'text/plain', 'language': None, 'base': 'https://api.flickr.com/services/feeds/photos_public.gne?tags=food&format=rss2', 'value': 'cic-20-244'}, 'links': [{'rel': 'alternate', 'type': 'text/html', 'href': 'https://www.flickr.com/photos/zimmcomm/49499628193/'}, {'type': 'image/jpeg', 'href': 'https://live.staticflickr.com/65535/49499628193_1b202defa1_b.jpg', 'rel': 'enclosure'}], 'link': 'https://www.flickr.com/photos/zimmcomm/49499628193/', 'summary': '<p><a href=\"https://www.flickr.com/people/zimmcomm/\">AgWired</a> posted a photo:</p>\\n\\t\\n<p><a href=\"https://www.flickr.com/photos/zimmcomm/49499628193/\" title=\"cic-20-244\"><img src=\"https://live.staticflickr.com/65535/49499628193_1b202defa1_m.jpg\" width=\"240\" height=\"160\" alt=\"cic-20-244\" /></a></p>', 'summary_detail': {'type': 'text/html', 'language': None, 'base': 'https://api.flickr.com/services/feeds/photos_public.gne?tags=food&format=rss2', 'value': '<p><a href=\"https://www.flickr.com/people/zimmcomm/\">AgWired</a> posted a photo:</p>\\n\\t\\n<p><a href=\"https://www.flickr.com/photos/zimmcomm/49499628193/\" title=\"cic-20-244\"><img src=\"https://live.staticflickr.com/65535/49499628193_1b202defa1_m.jpg\" width=\"240\" height=\"160\" alt=\"cic-20-244\" /></a></p>'}, 'published': 'Fri, 07 Feb 2020 03:06:00 -0800', 'published_parsed': time.struct_time(tm_year=2020, tm_mon=2, tm_mday=7, tm_hour=11, tm_min=6, tm_sec=0, tm_wday=4, tm_yday=38, tm_isdst=0), 'dc_date.taken': '2020-02-06T09:52:01-08:00', 'authors': [{'name': 'AgWired', 'email': 'nobody@flickr.com'}], 'author': 'nobody@flickr.com (AgWired)', 'author_detail': {'name': 'AgWired', 'email': 'nobody@flickr.com'}, 'id': 'tag:flickr.com,2004:/photo/49499628193', 'guidislink': False, 'media_content': [{'url': 'https://live.staticflickr.com/65535/49499628193_1b202defa1_b.jpg', 'type': 'image/jpeg', 'height': '684', 'width': '1024'}], 'media_thumbnail': [{'url': 'https://live.staticflickr.com/65535/49499628193_1b202defa1_s.jpg', 'height': '75', 'width': '75'}], 'href': '', 'media_credit': [{'role': 'photographer', 'content': 'AgWired'}], 'credit': 'AgWired', 'tags': [{'term': 'cattle industry convention cbb ncba ancw national cattlemens beef association board food beefmeet cattlecon20 agriculture farm agwired zimmcomm new media chuck zimmerman', 'scheme': 'urn:flickr:tags', 'label': None}]}, {'title': 'cic-20-297', 'title_detail': {'type': 'text/plain', 'language': None, 'base': 'https://api.flickr.com/services/feeds/photos_public.gne?tags=food&format=rss2', 'value': 'cic-20-297'}, 'links': [{'rel': 'alternate', 'type': 'text/html', 'href': 'https://www.flickr.com/photos/zimmcomm/49500290792/'}, {'type': 'image/jpeg', 'href': 'https://live.staticflickr.com/65535/49500290792_e4188996c9_b.jpg', 'rel': 'enclosure'}], 'link': 'https://www.flickr.com/photos/zimmcomm/49500290792/', 'summary': '<p><a href=\"https://www.flickr.com/people/zimmcomm/\">AgWired</a> posted a photo:</p>\\n\\t\\n<p><a href=\"https://www.flickr.com/photos/zimmcomm/49500290792/\" title=\"cic-20-297\"><img src=\"https://live.staticflickr.com/65535/49500290792_e4188996c9_m.jpg\" width=\"240\" height=\"160\" alt=\"cic-20-297\" /></a></p>', 'summary_detail': {'type': 'text/html', 'language': None, 'base': 'https://api.flickr.com/services/feeds/photos_public.gne?tags=food&format=rss2', 'value': '<p><a href=\"https://www.flickr.com/people/zimmcomm/\">AgWired</a> posted a photo:</p>\\n\\t\\n<p><a href=\"https://www.flickr.com/photos/zimmcomm/49500290792/\" title=\"cic-20-297\"><img src=\"https://live.staticflickr.com/65535/49500290792_e4188996c9_m.jpg\" width=\"240\" height=\"160\" alt=\"cic-20-297\" /></a></p>'}, 'published': 'Fri, 07 Feb 2020 03:06:31 -0800', 'published_parsed': time.struct_time(tm_year=2020, tm_mon=2, tm_mday=7, tm_hour=11, tm_min=6, tm_sec=31, tm_wday=4, tm_yday=38, tm_isdst=0), 'dc_date.taken': '2020-02-06T11:41:00-08:00', 'authors': [{'name': 'AgWired', 'email': 'nobody@flickr.com'}], 'author': 'nobody@flickr.com (AgWired)', 'author_detail': {'name': 'AgWired', 'email': 'nobody@flickr.com'}, 'id': 'tag:flickr.com,2004:/photo/49500290792', 'guidislink': False, 'media_content': [{'url': 'https://live.staticflickr.com/65535/49500290792_e4188996c9_b.jpg', 'type': 'image/jpeg', 'height': '684', 'width': '1024'}], 'media_thumbnail': [{'url': 'https://live.staticflickr.com/65535/49500290792_e4188996c9_s.jpg', 'height': '75', 'width': '75'}], 'href': '', 'media_credit': [{'role': 'photographer', 'content': 'AgWired'}], 'credit': 'AgWired', 'tags': [{'term': 'cattle industry convention cbb ncba ancw national cattlemens beef association board food beefmeet cattlecon20 agriculture farm agwired zimmcomm new media chuck zimmerman', 'scheme': 'urn:flickr:tags', 'label': None}]}, {'title': 'cic-20-226', 'title_detail': {'type': 'text/plain', 'language': None, 'base': 'https://api.flickr.com/services/feeds/photos_public.gne?tags=food&format=rss2', 'value': 'cic-20-226'}, 'links': [{'rel': 'alternate', 'type': 'text/html', 'href': 'https://www.flickr.com/photos/zimmcomm/49499646983/'}, {'type': 'image/jpeg', 'href': 'https://live.staticflickr.com/65535/49499646983_a09f6b677b_b.jpg', 'rel': 'enclosure'}], 'link': 'https://www.flickr.com/photos/zimmcomm/49499646983/', 'summary': '<p><a href=\"https://www.flickr.com/people/zimmcomm/\">AgWired</a> posted a photo:</p>\\n\\t\\n<p><a href=\"https://www.flickr.com/photos/zimmcomm/49499646983/\" title=\"cic-20-226\"><img src=\"https://live.staticflickr.com/65535/49499646983_a09f6b677b_m.jpg\" width=\"240\" height=\"160\" alt=\"cic-20-226\" /></a></p>', 'summary_detail': {'type': 'text/html', 'language': None, 'base': 'https://api.flickr.com/services/feeds/photos_public.gne?tags=food&format=rss2', 'value': '<p><a href=\"https://www.flickr.com/people/zimmcomm/\">AgWired</a> posted a photo:</p>\\n\\t\\n<p><a href=\"https://www.flickr.com/photos/zimmcomm/49499646983/\" title=\"cic-20-226\"><img src=\"https://live.staticflickr.com/65535/49499646983_a09f6b677b_m.jpg\" width=\"240\" height=\"160\" alt=\"cic-20-226\" /></a></p>'}, 'published': 'Fri, 07 Feb 2020 03:05:50 -0800', 'published_parsed': time.struct_time(tm_year=2020, tm_mon=2, tm_mday=7, tm_hour=11, tm_min=5, tm_sec=50, tm_wday=4, tm_yday=38, tm_isdst=0), 'dc_date.taken': '2020-02-06T07:53:00-08:00', 'authors': [{'name': 'AgWired', 'email': 'nobody@flickr.com'}], 'author': 'nobody@flickr.com (AgWired)', 'author_detail': {'name': 'AgWired', 'email': 'nobody@flickr.com'}, 'id': 'tag:flickr.com,2004:/photo/49499646983', 'guidislink': False, 'media_content': [{'url': 'https://live.staticflickr.com/65535/49499646983_a09f6b677b_b.jpg', 'type': 'image/jpeg', 'height': '684', 'width': '1024'}], 'media_thumbnail': [{'url': 'https://live.staticflickr.com/65535/49499646983_a09f6b677b_s.jpg', 'height': '75', 'width': '75'}], 'href': '', 'media_credit': [{'role': 'photographer', 'content': 'AgWired'}], 'credit': 'AgWired', 'tags': [{'term': 'industry cattle beef board national convention cbb association cattlemens ncba ancw new food media farm chuck agriculture zimmerman agwired zimmcomm beefmeet cattlecon20', 'scheme': 'urn:flickr:tags', 'label': None}]}, {'title': 'cic-20-219', 'title_detail': {'type': 'text/plain', 'language': None, 'base': 'https://api.flickr.com/services/feeds/photos_public.gne?tags=food&format=rss2', 'value': 'cic-20-219'}, 'links': [{'rel': 'alternate', 'type': 'text/html', 'href': 'https://www.flickr.com/photos/zimmcomm/49500376077/'}, {'type': 'image/jpeg', 'href': 'https://live.staticflickr.com/65535/49500376077_eac5cb22f0_b.jpg', 'rel': 'enclosure'}], 'link': 'https://www.flickr.com/photos/zimmcomm/49500376077/', 'summary': '<p><a href=\"https://www.flickr.com/people/zimmcomm/\">AgWired</a> posted a photo:</p>\\n\\t\\n<p><a href=\"https://www.flickr.com/photos/zimmcomm/49500376077/\" title=\"cic-20-219\"><img src=\"https://live.staticflickr.com/65535/49500376077_eac5cb22f0_m.jpg\" width=\"240\" height=\"160\" alt=\"cic-20-219\" /></a></p>', 'summary_detail': {'type': 'text/html', 'language': None, 'base': 'https://api.flickr.com/services/feeds/photos_public.gne?tags=food&format=rss2', 'value': '<p><a href=\"https://www.flickr.com/people/zimmcomm/\">AgWired</a> posted a photo:</p>\\n\\t\\n<p><a href=\"https://www.flickr.com/photos/zimmcomm/49500376077/\" title=\"cic-20-219\"><img src=\"https://live.staticflickr.com/65535/49500376077_eac5cb22f0_m.jpg\" width=\"240\" height=\"160\" alt=\"cic-20-219\" /></a></p>'}, 'published': 'Fri, 07 Feb 2020 03:05:46 -0800', 'published_parsed': time.struct_time(tm_year=2020, tm_mon=2, tm_mday=7, tm_hour=11, tm_min=5, tm_sec=46, tm_wday=4, tm_yday=38, tm_isdst=0), 'dc_date.taken': '2020-02-06T07:41:37-08:00', 'authors': [{'name': 'AgWired', 'email': 'nobody@flickr.com'}], 'author': 'nobody@flickr.com (AgWired)', 'author_detail': {'name': 'AgWired', 'email': 'nobody@flickr.com'}, 'id': 'tag:flickr.com,2004:/photo/49500376077', 'guidislink': False, 'media_content': [{'url': 'https://live.staticflickr.com/65535/49500376077_eac5cb22f0_b.jpg', 'type': 'image/jpeg', 'height': '684', 'width': '1024'}], 'media_thumbnail': [{'url': 'https://live.staticflickr.com/65535/49500376077_eac5cb22f0_s.jpg', 'height': '75', 'width': '75'}], 'href': '', 'media_credit': [{'role': 'photographer', 'content': 'AgWired'}], 'credit': 'AgWired', 'tags': [{'term': 'cattle industry convention cbb ncba ancw national cattlemens beef association board food beefmeet cattlecon20 agriculture farm agwired zimmcomm new media chuck zimmerman', 'scheme': 'urn:flickr:tags', 'label': None}]}, {'title': 'cic-20-257', 'title_detail': {'type': 'text/plain', 'language': None, 'base': 'https://api.flickr.com/services/feeds/photos_public.gne?tags=food&format=rss2', 'value': 'cic-20-257'}, 'links': [{'rel': 'alternate', 'type': 'text/html', 'href': 'https://www.flickr.com/photos/zimmcomm/49500340407/'}, {'type': 'image/jpeg', 'href': 'https://live.staticflickr.com/65535/49500340407_51fa9b6cd5_b.jpg', 'rel': 'enclosure'}], 'link': 'https://www.flickr.com/photos/zimmcomm/49500340407/', 'summary': '<p><a href=\"https://www.flickr.com/people/zimmcomm/\">AgWired</a> posted a photo:</p>\\n\\t\\n<p><a href=\"https://www.flickr.com/photos/zimmcomm/49500340407/\" title=\"cic-20-257\"><img src=\"https://live.staticflickr.com/65535/49500340407_51fa9b6cd5_m.jpg\" width=\"240\" height=\"160\" alt=\"cic-20-257\" /></a></p>', 'summary_detail': {'type': 'text/html', 'language': None, 'base': 'https://api.flickr.com/services/feeds/photos_public.gne?tags=food&format=rss2', 'value': '<p><a href=\"https://www.flickr.com/people/zimmcomm/\">AgWired</a> posted a photo:</p>\\n\\t\\n<p><a href=\"https://www.flickr.com/photos/zimmcomm/49500340407/\" title=\"cic-20-257\"><img src=\"https://live.staticflickr.com/65535/49500340407_51fa9b6cd5_m.jpg\" width=\"240\" height=\"160\" alt=\"cic-20-257\" /></a></p>'}, 'published': 'Fri, 07 Feb 2020 03:06:05 -0800', 'published_parsed': time.struct_time(tm_year=2020, tm_mon=2, tm_mday=7, tm_hour=11, tm_min=6, tm_sec=5, tm_wday=4, tm_yday=38, tm_isdst=0), 'dc_date.taken': '2020-02-06T09:54:56-08:00', 'authors': [{'name': 'AgWired', 'email': 'nobody@flickr.com'}], 'author': 'nobody@flickr.com (AgWired)', 'author_detail': {'name': 'AgWired', 'email': 'nobody@flickr.com'}, 'id': 'tag:flickr.com,2004:/photo/49500340407', 'guidislink': False, 'media_content': [{'url': 'https://live.staticflickr.com/65535/49500340407_51fa9b6cd5_b.jpg', 'type': 'image/jpeg', 'height': '684', 'width': '1024'}], 'media_thumbnail': [{'url': 'https://live.staticflickr.com/65535/49500340407_51fa9b6cd5_s.jpg', 'height': '75', 'width': '75'}], 'href': '', 'media_credit': [{'role': 'photographer', 'content': 'AgWired'}], 'credit': 'AgWired', 'tags': [{'term': 'cattle industry convention cbb ncba ancw national cattlemens beef association board food beefmeet cattlecon20 agriculture farm agwired zimmcomm new media chuck zimmerman', 'scheme': 'urn:flickr:tags', 'label': None}]}, {'title': 'cic-20-264', 'title_detail': {'type': 'text/plain', 'language': None, 'base': 'https://api.flickr.com/services/feeds/photos_public.gne?tags=food&format=rss2', 'value': 'cic-20-264'}, 'links': [{'rel': 'alternate', 'type': 'text/html', 'href': 'https://www.flickr.com/photos/zimmcomm/49500110971/'}, {'type': 'image/jpeg', 'href': 'https://live.staticflickr.com/65535/49500110971_650f2db5c4_b.jpg', 'rel': 'enclosure'}], 'link': 'https://www.flickr.com/photos/zimmcomm/49500110971/', 'summary': '<p><a href=\"https://www.flickr.com/people/zimmcomm/\">AgWired</a> posted a photo:</p>\\n\\t\\n<p><a href=\"https://www.flickr.com/photos/zimmcomm/49500110971/\" title=\"cic-20-264\"><img src=\"https://live.staticflickr.com/65535/49500110971_650f2db5c4_m.jpg\" width=\"240\" height=\"160\" alt=\"cic-20-264\" /></a></p>', 'summary_detail': {'type': 'text/html', 'language': None, 'base': 'https://api.flickr.com/services/feeds/photos_public.gne?tags=food&format=rss2', 'value': '<p><a href=\"https://www.flickr.com/people/zimmcomm/\">AgWired</a> posted a photo:</p>\\n\\t\\n<p><a href=\"https://www.flickr.com/photos/zimmcomm/49500110971/\" title=\"cic-20-264\"><img src=\"https://live.staticflickr.com/65535/49500110971_650f2db5c4_m.jpg\" width=\"240\" height=\"160\" alt=\"cic-20-264\" /></a></p>'}, 'published': 'Fri, 07 Feb 2020 03:06:11 -0800', 'published_parsed': time.struct_time(tm_year=2020, tm_mon=2, tm_mday=7, tm_hour=11, tm_min=6, tm_sec=11, tm_wday=4, tm_yday=38, tm_isdst=0), 'dc_date.taken': '2020-02-06T09:58:49-08:00', 'authors': [{'name': 'AgWired', 'email': 'nobody@flickr.com'}], 'author': 'nobody@flickr.com (AgWired)', 'author_detail': {'name': 'AgWired', 'email': 'nobody@flickr.com'}, 'id': 'tag:flickr.com,2004:/photo/49500110971', 'guidislink': False, 'media_content': [{'url': 'https://live.staticflickr.com/65535/49500110971_650f2db5c4_b.jpg', 'type': 'image/jpeg', 'height': '684', 'width': '1024'}], 'media_thumbnail': [{'url': 'https://live.staticflickr.com/65535/49500110971_650f2db5c4_s.jpg', 'height': '75', 'width': '75'}], 'href': '', 'media_credit': [{'role': 'photographer', 'content': 'AgWired'}], 'credit': 'AgWired', 'tags': [{'term': 'cattle industry convention cbb ncba ancw national cattlemens beef association board food beefmeet cattlecon20 agriculture farm agwired zimmcomm new media chuck zimmerman', 'scheme': 'urn:flickr:tags', 'label': None}]}, {'title': 'cic-20-236', 'title_detail': {'type': 'text/plain', 'language': None, 'base': 'https://api.flickr.com/services/feeds/photos_public.gne?tags=food&format=rss2', 'value': 'cic-20-236'}, 'links': [{'rel': 'alternate', 'type': 'text/html', 'href': 'https://www.flickr.com/photos/zimmcomm/49500358077/'}, {'type': 'image/jpeg', 'href': 'https://live.staticflickr.com/65535/49500358077_f5eec11c29_b.jpg', 'rel': 'enclosure'}], 'link': 'https://www.flickr.com/photos/zimmcomm/49500358077/', 'summary': '<p><a href=\"https://www.flickr.com/people/zimmcomm/\">AgWired</a> posted a photo:</p>\\n\\t\\n<p><a href=\"https://www.flickr.com/photos/zimmcomm/49500358077/\" title=\"cic-20-236\"><img src=\"https://live.staticflickr.com/65535/49500358077_f5eec11c29_m.jpg\" width=\"240\" height=\"160\" alt=\"cic-20-236\" /></a></p>', 'summary_detail': {'type': 'text/html', 'language': None, 'base': 'https://api.flickr.com/services/feeds/photos_public.gne?tags=food&format=rss2', 'value': '<p><a href=\"https://www.flickr.com/people/zimmcomm/\">AgWired</a> posted a photo:</p>\\n\\t\\n<p><a href=\"https://www.flickr.com/photos/zimmcomm/49500358077/\" title=\"cic-20-236\"><img src=\"https://live.staticflickr.com/65535/49500358077_f5eec11c29_m.jpg\" width=\"240\" height=\"160\" alt=\"cic-20-236\" /></a></p>'}, 'published': 'Fri, 07 Feb 2020 03:05:56 -0800', 'published_parsed': time.struct_time(tm_year=2020, tm_mon=2, tm_mday=7, tm_hour=11, tm_min=5, tm_sec=56, tm_wday=4, tm_yday=38, tm_isdst=0), 'dc_date.taken': '2020-02-06T08:03:23-08:00', 'authors': [{'name': 'AgWired', 'email': 'nobody@flickr.com'}], 'author': 'nobody@flickr.com (AgWired)', 'author_detail': {'name': 'AgWired', 'email': 'nobody@flickr.com'}, 'id': 'tag:flickr.com,2004:/photo/49500358077', 'guidislink': False, 'media_content': [{'url': 'https://live.staticflickr.com/65535/49500358077_f5eec11c29_b.jpg', 'type': 'image/jpeg', 'height': '684', 'width': '1024'}], 'media_thumbnail': [{'url': 'https://live.staticflickr.com/65535/49500358077_f5eec11c29_s.jpg', 'height': '75', 'width': '75'}], 'href': '', 'media_credit': [{'role': 'photographer', 'content': 'AgWired'}], 'credit': 'AgWired', 'tags': [{'term': 'cattle industry convention cbb ncba ancw national cattlemens beef association board food beefmeet cattlecon20 agriculture farm agwired zimmcomm new media chuck zimmerman', 'scheme': 'urn:flickr:tags', 'label': None}]}, {'title': 'cic-20-284', 'title_detail': {'type': 'text/plain', 'language': None, 'base': 'https://api.flickr.com/services/feeds/photos_public.gne?tags=food&format=rss2', 'value': 'cic-20-284'}, 'links': [{'rel': 'alternate', 'type': 'text/html', 'href': 'https://www.flickr.com/photos/zimmcomm/49499585523/'}, {'type': 'image/jpeg', 'href': 'https://live.staticflickr.com/65535/49499585523_969f042d44_b.jpg', 'rel': 'enclosure'}], 'link': 'https://www.flickr.com/photos/zimmcomm/49499585523/', 'summary': '<p><a href=\"https://www.flickr.com/people/zimmcomm/\">AgWired</a> posted a photo:</p>\\n\\t\\n<p><a href=\"https://www.flickr.com/photos/zimmcomm/49499585523/\" title=\"cic-20-284\"><img src=\"https://live.staticflickr.com/65535/49499585523_969f042d44_m.jpg\" width=\"240\" height=\"160\" alt=\"cic-20-284\" /></a></p>', 'summary_detail': {'type': 'text/html', 'language': None, 'base': 'https://api.flickr.com/services/feeds/photos_public.gne?tags=food&format=rss2', 'value': '<p><a href=\"https://www.flickr.com/people/zimmcomm/\">AgWired</a> posted a photo:</p>\\n\\t\\n<p><a href=\"https://www.flickr.com/photos/zimmcomm/49499585523/\" title=\"cic-20-284\"><img src=\"https://live.staticflickr.com/65535/49499585523_969f042d44_m.jpg\" width=\"240\" height=\"160\" alt=\"cic-20-284\" /></a></p>'}, 'published': 'Fri, 07 Feb 2020 03:06:24 -0800', 'published_parsed': time.struct_time(tm_year=2020, tm_mon=2, tm_mday=7, tm_hour=11, tm_min=6, tm_sec=24, tm_wday=4, tm_yday=38, tm_isdst=0), 'dc_date.taken': '2020-02-06T10:20:38-08:00', 'authors': [{'name': 'AgWired', 'email': 'nobody@flickr.com'}], 'author': 'nobody@flickr.com (AgWired)', 'author_detail': {'name': 'AgWired', 'email': 'nobody@flickr.com'}, 'id': 'tag:flickr.com,2004:/photo/49499585523', 'guidislink': False, 'media_content': [{'url': 'https://live.staticflickr.com/65535/49499585523_969f042d44_b.jpg', 'type': 'image/jpeg', 'height': '684', 'width': '1024'}], 'media_thumbnail': [{'url': 'https://live.staticflickr.com/65535/49499585523_969f042d44_s.jpg', 'height': '75', 'width': '75'}], 'href': '', 'media_credit': [{'role': 'photographer', 'content': 'AgWired'}], 'credit': 'AgWired', 'tags': [{'term': 'cattle industry convention cbb ncba ancw national cattlemens beef association board food beefmeet cattlecon20 agriculture farm agwired zimmcomm new media chuck zimmerman', 'scheme': 'urn:flickr:tags', 'label': None}]}, {'title': 'cic-20-286', 'title_detail': {'type': 'text/plain', 'language': None, 'base': 'https://api.flickr.com/services/feeds/photos_public.gne?tags=food&format=rss2', 'value': 'cic-20-286'}, 'links': [{'rel': 'alternate', 'type': 'text/html', 'href': 'https://www.flickr.com/photos/zimmcomm/49501063887/'}, {'type': 'image/jpeg', 'href': 'https://live.staticflickr.com/65535/49501063887_04ef20217e_b.jpg', 'rel': 'enclosure'}], 'link': 'https://www.flickr.com/photos/zimmcomm/49501063887/', 'summary': '<p><a href=\"https://www.flickr.com/people/zimmcomm/\">AgWired</a> posted a photo:</p>\\n\\t\\n<p><a href=\"https://www.flickr.com/photos/zimmcomm/49501063887/\" title=\"cic-20-286\"><img src=\"https://live.staticflickr.com/65535/49501063887_04ef20217e_m.jpg\" width=\"240\" height=\"160\" alt=\"cic-20-286\" /></a></p>', 'summary_detail': {'type': 'text/html', 'language': None, 'base': 'https://api.flickr.com/services/feeds/photos_public.gne?tags=food&format=rss2', 'value': '<p><a href=\"https://www.flickr.com/people/zimmcomm/\">AgWired</a> posted a photo:</p>\\n\\t\\n<p><a href=\"https://www.flickr.com/photos/zimmcomm/49501063887/\" title=\"cic-20-286\"><img src=\"https://live.staticflickr.com/65535/49501063887_04ef20217e_m.jpg\" width=\"240\" height=\"160\" alt=\"cic-20-286\" /></a></p>'}, 'published': 'Fri, 07 Feb 2020 03:06:24 -0800', 'published_parsed': time.struct_time(tm_year=2020, tm_mon=2, tm_mday=7, tm_hour=11, tm_min=6, tm_sec=24, tm_wday=4, tm_yday=38, tm_isdst=0), 'dc_date.taken': '2020-02-06T11:20:35-08:00', 'authors': [{'name': 'AgWired', 'email': 'nobody@flickr.com'}], 'author': 'nobody@flickr.com (AgWired)', 'author_detail': {'name': 'AgWired', 'email': 'nobody@flickr.com'}, 'id': 'tag:flickr.com,2004:/photo/49501063887', 'guidislink': False, 'media_content': [{'url': 'https://live.staticflickr.com/65535/49501063887_04ef20217e_b.jpg', 'type': 'image/jpeg', 'height': '684', 'width': '1024'}], 'media_thumbnail': [{'url': 'https://live.staticflickr.com/65535/49501063887_04ef20217e_s.jpg', 'height': '75', 'width': '75'}], 'href': '', 'media_credit': [{'role': 'photographer', 'content': 'AgWired'}], 'credit': 'AgWired', 'tags': [{'term': 'cattle industry convention cbb ncba ancw national cattlemens beef association board food beefmeet cattlecon20 agriculture farm agwired zimmcomm new media chuck zimmerman', 'scheme': 'urn:flickr:tags', 'label': None}]}, {'title': 'cic-20-300', 'title_detail': {'type': 'text/plain', 'language': None, 'base': 'https://api.flickr.com/services/feeds/photos_public.gne?tags=food&format=rss2', 'value': 'cic-20-300'}, 'links': [{'rel': 'alternate', 'type': 'text/html', 'href': 'https://www.flickr.com/photos/zimmcomm/49500054411/'}, {'type': 'image/jpeg', 'href': 'https://live.staticflickr.com/65535/49500054411_f1038924ee_b.jpg', 'rel': 'enclosure'}], 'link': 'https://www.flickr.com/photos/zimmcomm/49500054411/', 'summary': '<p><a href=\"https://www.flickr.com/people/zimmcomm/\">AgWired</a> posted a photo:</p>\\n\\t\\n<p><a href=\"https://www.flickr.com/photos/zimmcomm/49500054411/\" title=\"cic-20-300\"><img src=\"https://live.staticflickr.com/65535/49500054411_f1038924ee_m.jpg\" width=\"240\" height=\"160\" alt=\"cic-20-300\" /></a></p>', 'summary_detail': {'type': 'text/html', 'language': None, 'base': 'https://api.flickr.com/services/feeds/photos_public.gne?tags=food&format=rss2', 'value': '<p><a href=\"https://www.flickr.com/people/zimmcomm/\">AgWired</a> posted a photo:</p>\\n\\t\\n<p><a href=\"https://www.flickr.com/photos/zimmcomm/49500054411/\" title=\"cic-20-300\"><img src=\"https://live.staticflickr.com/65535/49500054411_f1038924ee_m.jpg\" width=\"240\" height=\"160\" alt=\"cic-20-300\" /></a></p>'}, 'published': 'Fri, 07 Feb 2020 03:06:33 -0800', 'published_parsed': time.struct_time(tm_year=2020, tm_mon=2, tm_mday=7, tm_hour=11, tm_min=6, tm_sec=33, tm_wday=4, tm_yday=38, tm_isdst=0), 'dc_date.taken': '2020-02-06T11:42:04-08:00', 'authors': [{'name': 'AgWired', 'email': 'nobody@flickr.com'}], 'author': 'nobody@flickr.com (AgWired)', 'author_detail': {'name': 'AgWired', 'email': 'nobody@flickr.com'}, 'id': 'tag:flickr.com,2004:/photo/49500054411', 'guidislink': False, 'media_content': [{'url': 'https://live.staticflickr.com/65535/49500054411_f1038924ee_b.jpg', 'type': 'image/jpeg', 'height': '684', 'width': '1024'}], 'media_thumbnail': [{'url': 'https://live.staticflickr.com/65535/49500054411_f1038924ee_s.jpg', 'height': '75', 'width': '75'}], 'href': '', 'media_credit': [{'role': 'photographer', 'content': 'AgWired'}], 'credit': 'AgWired', 'tags': [{'term': 'cattle industry convention cbb ncba ancw national cattlemens beef association board food beefmeet cattlecon20 agriculture farm agwired zimmcomm new media chuck zimmerman', 'scheme': 'urn:flickr:tags', 'label': None}]}, {'title': 'cic-20-285', 'title_detail': {'type': 'text/plain', 'language': None, 'base': 'https://api.flickr.com/services/feeds/photos_public.gne?tags=food&format=rss2', 'value': 'cic-20-285'}, 'links': [{'rel': 'alternate', 'type': 'text/html', 'href': 'https://www.flickr.com/photos/zimmcomm/49500341643/'}, {'type': 'image/jpeg', 'href': 'https://live.staticflickr.com/65535/49500341643_b37c2ffcf4_b.jpg', 'rel': 'enclosure'}], 'link': 'https://www.flickr.com/photos/zimmcomm/49500341643/', 'summary': '<p><a href=\"https://www.flickr.com/people/zimmcomm/\">AgWired</a> posted a photo:</p>\\n\\t\\n<p><a href=\"https://www.flickr.com/photos/zimmcomm/49500341643/\" title=\"cic-20-285\"><img src=\"https://live.staticflickr.com/65535/49500341643_b37c2ffcf4_m.jpg\" width=\"240\" height=\"160\" alt=\"cic-20-285\" /></a></p>', 'summary_detail': {'type': 'text/html', 'language': None, 'base': 'https://api.flickr.com/services/feeds/photos_public.gne?tags=food&format=rss2', 'value': '<p><a href=\"https://www.flickr.com/people/zimmcomm/\">AgWired</a> posted a photo:</p>\\n\\t\\n<p><a href=\"https://www.flickr.com/photos/zimmcomm/49500341643/\" title=\"cic-20-285\"><img src=\"https://live.staticflickr.com/65535/49500341643_b37c2ffcf4_m.jpg\" width=\"240\" height=\"160\" alt=\"cic-20-285\" /></a></p>'}, 'published': 'Fri, 07 Feb 2020 03:06:24 -0800', 'published_parsed': time.struct_time(tm_year=2020, tm_mon=2, tm_mday=7, tm_hour=11, tm_min=6, tm_sec=24, tm_wday=4, tm_yday=38, tm_isdst=0), 'dc_date.taken': '2020-02-06T10:20:44-08:00', 'authors': [{'name': 'AgWired', 'email': 'nobody@flickr.com'}], 'author': 'nobody@flickr.com (AgWired)', 'author_detail': {'name': 'AgWired', 'email': 'nobody@flickr.com'}, 'id': 'tag:flickr.com,2004:/photo/49500341643', 'guidislink': False, 'media_content': [{'url': 'https://live.staticflickr.com/65535/49500341643_b37c2ffcf4_b.jpg', 'type': 'image/jpeg', 'height': '684', 'width': '1024'}], 'media_thumbnail': [{'url': 'https://live.staticflickr.com/65535/49500341643_b37c2ffcf4_s.jpg', 'height': '75', 'width': '75'}], 'href': '', 'media_credit': [{'role': 'photographer', 'content': 'AgWired'}], 'credit': 'AgWired', 'tags': [{'term': 'cattle industry convention cbb ncba ancw national cattlemens beef association board food beefmeet cattlecon20 agriculture farm agwired zimmcomm new media chuck zimmerman', 'scheme': 'urn:flickr:tags', 'label': None}]}, {'title': 'cic-20-270', 'title_detail': {'type': 'text/plain', 'language': None, 'base': 'https://api.flickr.com/services/feeds/photos_public.gne?tags=food&format=rss2', 'value': 'cic-20-270'}, 'links': [{'rel': 'alternate', 'type': 'text/html', 'href': 'https://www.flickr.com/photos/zimmcomm/49500324752/'}, {'type': 'image/jpeg', 'href': 'https://live.staticflickr.com/65535/49500324752_11369d7878_b.jpg', 'rel': 'enclosure'}], 'link': 'https://www.flickr.com/photos/zimmcomm/49500324752/', 'summary': '<p><a href=\"https://www.flickr.com/people/zimmcomm/\">AgWired</a> posted a photo:</p>\\n\\t\\n<p><a href=\"https://www.flickr.com/photos/zimmcomm/49500324752/\" title=\"cic-20-270\"><img src=\"https://live.staticflickr.com/65535/49500324752_11369d7878_m.jpg\" width=\"240\" height=\"160\" alt=\"cic-20-270\" /></a></p>', 'summary_detail': {'type': 'text/html', 'language': None, 'base': 'https://api.flickr.com/services/feeds/photos_public.gne?tags=food&format=rss2', 'value': '<p><a href=\"https://www.flickr.com/people/zimmcomm/\">AgWired</a> posted a photo:</p>\\n\\t\\n<p><a href=\"https://www.flickr.com/photos/zimmcomm/49500324752/\" title=\"cic-20-270\"><img src=\"https://live.staticflickr.com/65535/49500324752_11369d7878_m.jpg\" width=\"240\" height=\"160\" alt=\"cic-20-270\" /></a></p>'}, 'published': 'Fri, 07 Feb 2020 03:06:15 -0800', 'published_parsed': time.struct_time(tm_year=2020, tm_mon=2, tm_mday=7, tm_hour=11, tm_min=6, tm_sec=15, tm_wday=4, tm_yday=38, tm_isdst=0), 'dc_date.taken': '2020-02-06T10:08:50-08:00', 'authors': [{'name': 'AgWired', 'email': 'nobody@flickr.com'}], 'author': 'nobody@flickr.com (AgWired)', 'author_detail': {'name': 'AgWired', 'email': 'nobody@flickr.com'}, 'id': 'tag:flickr.com,2004:/photo/49500324752', 'guidislink': False, 'media_content': [{'url': 'https://live.staticflickr.com/65535/49500324752_11369d7878_b.jpg', 'type': 'image/jpeg', 'height': '684', 'width': '1024'}], 'media_thumbnail': [{'url': 'https://live.staticflickr.com/65535/49500324752_11369d7878_s.jpg', 'height': '75', 'width': '75'}], 'href': '', 'media_credit': [{'role': 'photographer', 'content': 'AgWired'}], 'credit': 'AgWired', 'tags': [{'term': 'cattle industry convention cbb ncba ancw national cattlemens beef association board food beefmeet cattlecon20 agriculture farm agwired zimmcomm new media chuck zimmerman', 'scheme': 'urn:flickr:tags', 'label': None}]}, {'title': 'cic-20-256', 'title_detail': {'type': 'text/plain', 'language': None, 'base': 'https://api.flickr.com/services/feeds/photos_public.gne?tags=food&format=rss2', 'value': 'cic-20-256'}, 'links': [{'rel': 'alternate', 'type': 'text/html', 'href': 'https://www.flickr.com/photos/zimmcomm/49500120076/'}, {'type': 'image/jpeg', 'href': 'https://live.staticflickr.com/65535/49500120076_66d2c94cc2_b.jpg', 'rel': 'enclosure'}], 'link': 'https://www.flickr.com/photos/zimmcomm/49500120076/', 'summary': '<p><a href=\"https://www.flickr.com/people/zimmcomm/\">AgWired</a> posted a photo:</p>\\n\\t\\n<p><a href=\"https://www.flickr.com/photos/zimmcomm/49500120076/\" title=\"cic-20-256\"><img src=\"https://live.staticflickr.com/65535/49500120076_66d2c94cc2_m.jpg\" width=\"240\" height=\"160\" alt=\"cic-20-256\" /></a></p>', 'summary_detail': {'type': 'text/html', 'language': None, 'base': 'https://api.flickr.com/services/feeds/photos_public.gne?tags=food&format=rss2', 'value': '<p><a href=\"https://www.flickr.com/people/zimmcomm/\">AgWired</a> posted a photo:</p>\\n\\t\\n<p><a href=\"https://www.flickr.com/photos/zimmcomm/49500120076/\" title=\"cic-20-256\"><img src=\"https://live.staticflickr.com/65535/49500120076_66d2c94cc2_m.jpg\" width=\"240\" height=\"160\" alt=\"cic-20-256\" /></a></p>'}, 'published': 'Fri, 07 Feb 2020 03:06:05 -0800', 'published_parsed': time.struct_time(tm_year=2020, tm_mon=2, tm_mday=7, tm_hour=11, tm_min=6, tm_sec=5, tm_wday=4, tm_yday=38, tm_isdst=0), 'dc_date.taken': '2020-02-06T09:54:51-08:00', 'authors': [{'name': 'AgWired', 'email': 'nobody@flickr.com'}], 'author': 'nobody@flickr.com (AgWired)', 'author_detail': {'name': 'AgWired', 'email': 'nobody@flickr.com'}, 'id': 'tag:flickr.com,2004:/photo/49500120076', 'guidislink': False, 'media_content': [{'url': 'https://live.staticflickr.com/65535/49500120076_66d2c94cc2_b.jpg', 'type': 'image/jpeg', 'height': '684', 'width': '1024'}], 'media_thumbnail': [{'url': 'https://live.staticflickr.com/65535/49500120076_66d2c94cc2_s.jpg', 'height': '75', 'width': '75'}], 'href': '', 'media_credit': [{'role': 'photographer', 'content': 'AgWired'}], 'credit': 'AgWired', 'tags': [{'term': 'cattle industry convention cbb ncba ancw national cattlemens beef association board food beefmeet cattlecon20 agriculture farm agwired zimmcomm new media chuck zimmerman', 'scheme': 'urn:flickr:tags', 'label': None}]}, {'title': 'cic-20-240', 'title_detail': {'type': 'text/plain', 'language': None, 'base': 'https://api.flickr.com/services/feeds/photos_public.gne?tags=food&format=rss2', 'value': 'cic-20-240'}, 'links': [{'rel': 'alternate', 'type': 'text/html', 'href': 'https://www.flickr.com/photos/zimmcomm/49499630733/'}, {'type': 'image/jpeg', 'href': 'https://live.staticflickr.com/65535/49499630733_c44b98aca3_b.jpg', 'rel': 'enclosure'}], 'link': 'https://www.flickr.com/photos/zimmcomm/49499630733/', 'summary': '<p><a href=\"https://www.flickr.com/people/zimmcomm/\">AgWired</a> posted a photo:</p>\\n\\t\\n<p><a href=\"https://www.flickr.com/photos/zimmcomm/49499630733/\" title=\"cic-20-240\"><img src=\"https://live.staticflickr.com/65535/49499630733_c44b98aca3_m.jpg\" width=\"240\" height=\"160\" alt=\"cic-20-240\" /></a></p>', 'summary_detail': {'type': 'text/html', 'language': None, 'base': 'https://api.flickr.com/services/feeds/photos_public.gne?tags=food&format=rss2', 'value': '<p><a href=\"https://www.flickr.com/people/zimmcomm/\">AgWired</a> posted a photo:</p>\\n\\t\\n<p><a href=\"https://www.flickr.com/photos/zimmcomm/49499630733/\" title=\"cic-20-240\"><img src=\"https://live.staticflickr.com/65535/49499630733_c44b98aca3_m.jpg\" width=\"240\" height=\"160\" alt=\"cic-20-240\" /></a></p>'}, 'published': 'Fri, 07 Feb 2020 03:05:59 -0800', 'published_parsed': time.struct_time(tm_year=2020, tm_mon=2, tm_mday=7, tm_hour=11, tm_min=5, tm_sec=59, tm_wday=4, tm_yday=38, tm_isdst=0), 'dc_date.taken': '2020-02-06T09:27:49-08:00', 'authors': [{'name': 'AgWired', 'email': 'nobody@flickr.com'}], 'author': 'nobody@flickr.com (AgWired)', 'author_detail': {'name': 'AgWired', 'email': 'nobody@flickr.com'}, 'id': 'tag:flickr.com,2004:/photo/49499630733', 'guidislink': False, 'media_content': [{'url': 'https://live.staticflickr.com/65535/49499630733_c44b98aca3_b.jpg', 'type': 'image/jpeg', 'height': '684', 'width': '1024'}], 'media_thumbnail': [{'url': 'https://live.staticflickr.com/65535/49499630733_c44b98aca3_s.jpg', 'height': '75', 'width': '75'}], 'href': '', 'media_credit': [{'role': 'photographer', 'content': 'AgWired'}], 'credit': 'AgWired', 'tags': [{'term': 'cattle industry convention cbb ncba ancw national cattlemens beef association board food beefmeet cattlecon20 agriculture farm agwired zimmcomm new media chuck zimmerman', 'scheme': 'urn:flickr:tags', 'label': None}]}], 'bozo': 0, 'headers': {'Date': 'Fri, 07 Feb 2020 11:35:09 GMT', 'Pragma': 'no-cache', 'Server': 'Apache/2.4.41 (Ubuntu)', 'Expires': 'Mon, 26 Jul 1997 05:00:00 GMT', 'X-Cache': 'Miss from cloudfront, MISS from 194.66.238.27', 'Connection': 'Close', 'Set-Cookie': 'xb=665208; expires=Mon, 04-Feb-2030 11:35:09 GMT; Max-Age=315360000; path=/; domain=.flickr.com', 'X-Amz-Cf-Id': 'NabAtlnSE7-3qVOkqmnxuMY5ZsWMD_G4RmISiFKGrGmrdZVjIbdb_w==', 'Content-Type': 'text/xml; charset=utf-8', 'X-Amz-Cf-Pop': 'MAN50-C1', 'Cache-Control': 'private, no-store, no-cache, must-revalidate', 'Last-Modified': 'Fri, 07 Feb 2020 11:32:40 GMT', 'X-Frame-Options': 'SAMEORIGIN', 'Transfer-Encoding': 'chunked'}, 'updated': 'Fri, 07 Feb 2020 11:32:40 GMT', 'updated_parsed': time.struct_time(tm_year=2020, tm_mon=2, tm_mday=7, tm_hour=11, tm_min=32, tm_sec=40, tm_wday=4, tm_yday=38, tm_isdst=0), 'href': 'https://api.flickr.com/services/feeds/photos_public.gne?tags=food&format=rss2', 'status': 200, 'encoding': 'utf-8', 'version': 'rss20', 'namespaces': {'media': 'http://search.yahoo.com/mrss/', 'dc': 'http://purl.org/dc/elements/1.1/', 'creativeCommons': 'http://cyber.law.harvard.edu/rss/creativeCommonsRssModule.html', 'flickr': 'urn:flickr:user'}}\n"
     ]
    }
   ],
   "source": [
    "import feedparser\n",
    "import ssl\n",
    "if hasattr(ssl, '_create_unverified_context'):\n",
    "    ssl._create_default_https_context = ssl._create_unverified_context\n",
    "rss = api_request\n",
    "feed = feedparser.parse(rss)\n",
    "\n",
    "print(feed)"
   ]
  },
  {
   "cell_type": "markdown",
   "metadata": {},
   "source": [
    "The output doesn't look very friendly, so we can \"pretty print\" which gets an output more similar to one displayed in a browser"
   ]
  },
  {
   "cell_type": "code",
   "execution_count": 141,
   "metadata": {},
   "outputs": [
    {
     "name": "stdout",
     "output_type": "stream",
     "text": [
      "<rss xmlns:media=\"http://search.yahoo.com/mrss/\" xmlns:dc=\"http://purl.org/dc/elements/1.1/\" xmlns:creativeCommons=\"http://cyber.law.harvard.edu/rss/creativeCommonsRssModule.html\" xmlns:flickr=\"urn:flickr:user\" version=\"2.0\">\n",
      "  <channel>\n",
      "    <title>Recent Uploads tagged food</title>\n",
      "    <link>https://www.flickr.com/photos/tags/food/</link>\n",
      "    <description/>\n",
      "    <pubDate>Fri, 07 Feb 2020 04:41:31 -0800</pubDate>\n",
      "    <lastBuildDate>Fri, 07 Feb 2020 04:41:31 -0800</lastBuildDate>\n",
      "    <generator>https://www.flickr.com/</generator>\n",
      "    <image>\n",
      "      <url>https://combo.staticflickr.com/pw/images/buddyicon.gif</url>\n",
      "      <title>Recent Uploads tagged food</title>\n",
      "      <link>https://www.flickr.com/photos/tags/food/</link>\n",
      "    </image>\n",
      "    <item>\n",
      "      <title>hybrid vegetables Seeds</title>\n",
      "      <link>https://www.flickr.com/photos/186859685@N06/49500599213/</link>\n",
      "      <description>\t\t\t&lt;p&gt;&lt;a href=\"https://www.flickr.com/people/186859685@N06/\"&gt;sakuraseed363&lt;/a&gt; posted a photo:&lt;/p&gt;\n",
      "\t\n",
      "&lt;p&gt;&lt;a href=\"https://www.flickr.com/photos/186859685@N06/49500599213/\" title=\"hybrid vegetables Seeds\"&gt;&lt;img src=\"https://live.staticflickr.com/65535/49500599213_4675772b09_m.jpg\" width=\"240\" height=\"240\" alt=\"hybrid vegetables Seeds\" /&gt;&lt;/a&gt;&lt;/p&gt;\n",
      "\n",
      "&lt;p&gt;Sakura range of beetroots, OP/ selected like Ruby Queen, Bikores &amp;amp; royal red ( produced in Europe) &amp;amp; two excellent hybrid F1 Kingdom &amp;amp; F1 Red star with early maturity 55-58 days, uniform smooth roots/ bulb. Deep red flesh, crispy, sweet and suitable for long transportation. Tolerant of all major viruses and diseases.&lt;br /&gt;\n",
      "Buy Beetroot seeds online-http://sakuraseed.net/&lt;br /&gt;\n",
      "Contact Us- 91-8884261708&lt;/p&gt;</description>\n",
      "      <pubDate>Fri, 07 Feb 2020 04:41:31 -0800</pubDate>\n",
      "      <dc:date.Taken>2020-02-07T04:40:54-08:00</dc:date.Taken>\n",
      "      <author flickr:profile=\"https://www.flickr.com/people/186859685@N06/\">nobody@flickr.com (sakuraseed363)</author>\n",
      "      <guid isPermaLink=\"false\">tag:flickr.com,2004:/photo/49500599213</guid>\n",
      "      <media:content url=\"https://live.staticflickr.com/65535/49500599213_4675772b09_b.jpg\" type=\"image/jpeg\" height=\"1024\" width=\"1024\"/>\n",
      "      <media:title>hybrid vegetables Seeds</media:title>\n",
      "      <media:description type=\"html\">&lt;p&gt;Sakura range of beetroots, OP/ selected like Ruby Queen, Bikores &amp;amp; royal red ( produced in Europe) &amp;amp; two excellent hybrid F1 Kingdom &amp;amp; F1 Red star with early maturity 55-58 days, uniform smooth roots/ bulb. Deep red flesh, crispy, sweet and suitable for long transportation. Tolerant of all major viruses and diseases.&lt;br /&gt;\n",
      "Buy Beetroot seeds online-http://sakuraseed.net/&lt;br /&gt;\n",
      "Contact Us- 91-8884261708&lt;/p&gt;</media:description>\n",
      "      <media:thumbnail url=\"https://live.staticflickr.com/65535/49500599213_4675772b09_s.jpg\" height=\"75\" width=\"75\"/>\n",
      "      <media:credit role=\"photographer\">sakuraseed363</media:credit>\n",
      "      <media:category scheme=\"urn:flickr:tags\">beetroot sakuraseed seeds seed hybridseed vegan foodie plantbased food vegetarian healthyfood instafood organic yummy beets foodstagram detox healthy healthyliving delicious tasty healthylifestyle veganfood foodlover healthydrinks vegetables foodgasm youknowyouwantit drinkhealthy</media:category>\n",
      "      <enclosure url=\"https://live.staticflickr.com/65535/49500599213_4675772b09_b.jpg\" type=\"image/jpeg\"/>\n",
      "    </item>\n",
      "    <item>\n",
      "      <title>Salsiccia pizza</title>\n",
      "      <link>https://www.flickr.com/photos/skumroffe/49501091321/</link>\n",
      "      <description>\t\t\t&lt;p&gt;&lt;a href=\"https://www.flickr.com/people/skumroffe/\"&gt;skumroffe&lt;/a&gt; posted a photo:&lt;/p&gt;\n",
      "\t\n",
      "&lt;p&gt;&lt;a href=\"https://www.flickr.com/photos/skumroffe/49501091321/\" title=\"Salsiccia pizza\"&gt;&lt;img src=\"https://live.staticflickr.com/65535/49501091321_d5bfb653b6_m.jpg\" width=\"240\" height=\"240\" alt=\"Salsiccia pizza\" /&gt;&lt;/a&gt;&lt;/p&gt;\n",
      "\n",
      "&lt;p&gt;From Furellios Ristorante in Stockholm, Sweden&lt;/p&gt;</description>\n",
      "      <pubDate>Fri, 07 Feb 2020 04:36:52 -0800</pubDate>\n",
      "      <dc:date.Taken>2020-02-04T18:18:09-08:00</dc:date.Taken>\n",
      "      <author flickr:profile=\"https://www.flickr.com/people/skumroffe/\">nobody@flickr.com (skumroffe)</author>\n",
      "      <guid isPermaLink=\"false\">tag:flickr.com,2004:/photo/49501091321</guid>\n",
      "      <media:content url=\"https://live.staticflickr.com/65535/49501091321_d5bfb653b6_b.jpg\" type=\"image/jpeg\" height=\"1024\" width=\"1024\"/>\n",
      "      <media:title>Salsiccia pizza</media:title>\n",
      "      <media:description type=\"html\">&lt;p&gt;From Furellios Ristorante in Stockholm, Sweden&lt;/p&gt;</media:description>\n",
      "      <media:thumbnail url=\"https://live.staticflickr.com/65535/49501091321_d5bfb653b6_s.jpg\" height=\"75\" width=\"75\"/>\n",
      "      <media:credit role=\"photographer\">skumroffe</media:credit>\n",
      "      <media:category scheme=\"urn:flickr:tags\">salsicciapizza pizza furelliosristorante furellios pizzasalsiccia salsiccia pizzanapoletana napolitanskpizza b&#228;ckv&#228;gen midsommarkransen h&#228;gerstens&#229;sen h&#228;gersten stockholm sweden food mat foodporn</media:category>\n",
      "      <enclosure url=\"https://live.staticflickr.com/65535/49501091321_d5bfb653b6_b.jpg\" type=\"image/jpeg\"/>\n",
      "    </item>\n",
      "    <item>\n",
      "      <title>Alles Gute zum Geburtstag, liebe AnnA!!</title>\n",
      "      <link>https://www.flickr.com/photos/magister111/49500517018/</link>\n",
      "      <description>\t\t\t&lt;p&gt;&lt;a href=\"https://www.flickr.com/people/magister111/\"&gt;magister111&lt;/a&gt; posted a photo:&lt;/p&gt;\n",
      "\t\n",
      "&lt;p&gt;&lt;a href=\"https://www.flickr.com/photos/magister111/49500517018/\" title=\"Alles Gute zum Geburtstag, liebe AnnA!!\"&gt;&lt;img src=\"https://live.staticflickr.com/65535/49500517018_d478a4d97d_m.jpg\" width=\"240\" height=\"225\" alt=\"Alles Gute zum Geburtstag, liebe AnnA!!\" /&gt;&lt;/a&gt;&lt;/p&gt;\n",
      "\n",
      "&lt;p&gt;Una torta glassata, made by Pasticceria Marchesi, la pi&#249; famosa di Milano, per il compleanno di Anna, la mia (quasi) gemella su flickr!!&lt;br /&gt;\n",
      "&lt;br /&gt;\n",
      "Eine glasiertee Geburtstagstorte, hergestellt von Pasticceria Marchesi, der ber&#252;hmtesten Konditorei in Mailand, f&#252;r Anna, meine (fast) Zwillinge auf flickr!&lt;/p&gt;</description>\n",
      "      <pubDate>Fri, 07 Feb 2020 04:23:54 -0800</pubDate>\n",
      "      <dc:date.Taken>2019-12-29T18:31:20-08:00</dc:date.Taken>\n",
      "      <author flickr:profile=\"https://www.flickr.com/people/magister111/\">nobody@flickr.com (magister111)</author>\n",
      "      <guid isPermaLink=\"false\">tag:flickr.com,2004:/photo/49500517018</guid>\n",
      "      <media:content url=\"https://live.staticflickr.com/65535/49500517018_d478a4d97d_b.jpg\" type=\"image/jpeg\" height=\"959\" width=\"1024\"/>\n",
      "      <media:title>Alles Gute zum Geburtstag, liebe AnnA!!</media:title>\n",
      "      <media:description type=\"html\">&lt;p&gt;Una torta glassata, made by Pasticceria Marchesi, la pi&#249; famosa di Milano, per il compleanno di Anna, la mia (quasi) gemella su flickr!!&lt;br /&gt;\n",
      "&lt;br /&gt;\n",
      "Eine glasiertee Geburtstagstorte, hergestellt von Pasticceria Marchesi, der ber&#252;hmtesten Konditorei in Mailand, f&#252;r Anna, meine (fast) Zwillinge auf flickr!&lt;/p&gt;</media:description>\n",
      "      <media:thumbnail url=\"https://live.staticflickr.com/65535/49500517018_d478a4d97d_s.jpg\" height=\"75\" width=\"75\"/>\n",
      "      <media:credit role=\"photographer\">magister111</media:credit>\n",
      "      <media:category scheme=\"urn:flickr:tags\">milano cakes food</media:category>\n",
      "      <enclosure url=\"https://live.staticflickr.com/65535/49500517018_d478a4d97d_b.jpg\" type=\"image/jpeg\"/>\n",
      "    </item>\n",
      "    <item>\n",
      "      <title>&#29926;&#22478;&#20094;&#25292;&#40629;</title>\n",
      "      <link>https://www.flickr.com/photos/benagexyz/49500559473/</link>\n",
      "      <description>\t\t\t&lt;p&gt;&lt;a href=\"https://www.flickr.com/people/benagexyz/\"&gt;Ben Chen Photography&lt;/a&gt; posted a photo:&lt;/p&gt;\n",
      "\t\n",
      "&lt;p&gt;&lt;a href=\"https://www.flickr.com/photos/benagexyz/49500559473/\" title=\"&#29926;&#22478;&#20094;&#25292;&#40629;\"&gt;&lt;img src=\"https://live.staticflickr.com/65535/49500559473_c3520b5683_m.jpg\" width=\"160\" height=\"240\" alt=\"&#29926;&#22478;&#20094;&#25292;&#40629;\" /&gt;&lt;/a&gt;&lt;/p&gt;\n",
      "\n",
      "</description>\n",
      "      <pubDate>Fri, 07 Feb 2020 04:28:00 -0800</pubDate>\n",
      "      <dc:date.Taken>2019-11-14T14:30:37-08:00</dc:date.Taken>\n",
      "      <author flickr:profile=\"https://www.flickr.com/people/benagexyz/\">nobody@flickr.com (Ben Chen Photography)</author>\n",
      "      <guid isPermaLink=\"false\">tag:flickr.com,2004:/photo/49500559473</guid>\n",
      "      <media:content url=\"https://live.staticflickr.com/65535/49500559473_c3520b5683_b.jpg\" type=\"image/jpeg\" height=\"1024\" width=\"683\"/>\n",
      "      <media:title>&#29926;&#22478;&#20094;&#25292;&#40629;</media:title>\n",
      "      <media:thumbnail url=\"https://live.staticflickr.com/65535/49500559473_c3520b5683_s.jpg\" height=\"75\" width=\"75\"/>\n",
      "      <media:credit role=\"photographer\">Ben Chen Photography</media:credit>\n",
      "      <media:category scheme=\"urn:flickr:tags\">food foodphotography foodpron fooddrink noodle nikon d850</media:category>\n",
      "      <enclosure url=\"https://live.staticflickr.com/65535/49500559473_c3520b5683_b.jpg\" type=\"image/jpeg\"/>\n",
      "      <creativeCommons:license>https://creativecommons.org/licenses/by-nc-nd/2.0/deed.en</creativeCommons:license>\n",
      "    </item>\n",
      "    <item>\n",
      "      <title>Menu Book</title>\n",
      "      <link>https://www.flickr.com/photos/186819013@N05/49500494468/</link>\n",
      "      <description>\t\t\t&lt;p&gt;&lt;a href=\"https://www.flickr.com/people/186819013@N05/\"&gt;nadirashakil&lt;/a&gt; posted a photo:&lt;/p&gt;\n",
      "\t\n",
      "&lt;p&gt;&lt;a href=\"https://www.flickr.com/photos/186819013@N05/49500494468/\" title=\"Menu Book\"&gt;&lt;img src=\"https://live.staticflickr.com/65535/49500494468_b0a92ab432_m.jpg\" width=\"185\" height=\"240\" alt=\"Menu Book\" /&gt;&lt;/a&gt;&lt;/p&gt;\n",
      "\n",
      "&lt;p&gt;Menu Book design For Doraemon cafe&lt;/p&gt;</description>\n",
      "      <pubDate>Fri, 07 Feb 2020 04:15:23 -0800</pubDate>\n",
      "      <dc:date.Taken>2020-02-07T04:04:57-08:00</dc:date.Taken>\n",
      "      <author flickr:profile=\"https://www.flickr.com/people/186819013@N05/\">nobody@flickr.com (nadirashakil)</author>\n",
      "      <guid isPermaLink=\"false\">tag:flickr.com,2004:/photo/49500494468</guid>\n",
      "      <media:content url=\"https://live.staticflickr.com/65535/49500494468_b0a92ab432_z.jpg\" type=\"image/jpeg\" height=\"640\" width=\"495\"/>\n",
      "      <media:title>Menu Book</media:title>\n",
      "      <media:description type=\"html\">&lt;p&gt;Menu Book design For Doraemon cafe&lt;/p&gt;</media:description>\n",
      "      <media:thumbnail url=\"https://live.staticflickr.com/65535/49500494468_b0a92ab432_s.jpg\" height=\"75\" width=\"75\"/>\n",
      "      <media:credit role=\"photographer\">nadirashakil</media:credit>\n",
      "      <media:category scheme=\"urn:flickr:tags\">menu book restaurent food design graphic</media:category>\n",
      "      <enclosure url=\"https://live.staticflickr.com/65535/49500494468_b0a92ab432_z.jpg\" type=\"image/jpeg\"/>\n",
      "    </item>\n",
      "    <item>\n",
      "      <title>Honey Bee in Garden</title>\n",
      "      <link>https://www.flickr.com/photos/99144705@N06/49501235752/</link>\n",
      "      <description>\t\t\t&lt;p&gt;&lt;a href=\"https://www.flickr.com/people/99144705@N06/\"&gt;Daniel Heiss Photography&lt;/a&gt; posted a photo:&lt;/p&gt;\n",
      "\t\n",
      "&lt;p&gt;&lt;a href=\"https://www.flickr.com/photos/99144705@N06/49501235752/\" title=\"Honey Bee in Garden\"&gt;&lt;img src=\"https://live.staticflickr.com/65535/49501235752_a73b00f69c_m.jpg\" width=\"240\" height=\"160\" alt=\"Honey Bee in Garden\" /&gt;&lt;/a&gt;&lt;/p&gt;\n",
      "\n",
      "</description>\n",
      "      <pubDate>Fri, 07 Feb 2020 04:13:47 -0800</pubDate>\n",
      "      <dc:date.Taken>2019-05-19T16:26:46-08:00</dc:date.Taken>\n",
      "      <author flickr:profile=\"https://www.flickr.com/people/99144705@N06/\">nobody@flickr.com (Daniel Heiss Photography)</author>\n",
      "      <guid isPermaLink=\"false\">tag:flickr.com,2004:/photo/49501235752</guid>\n",
      "      <media:content url=\"https://live.staticflickr.com/65535/49501235752_a73b00f69c_b.jpg\" type=\"image/jpeg\" height=\"683\" width=\"1024\"/>\n",
      "      <media:title>Honey Bee in Garden</media:title>\n",
      "      <media:thumbnail url=\"https://live.staticflickr.com/65535/49501235752_a73b00f69c_s.jpg\" height=\"75\" width=\"75\"/>\n",
      "      <media:credit role=\"photographer\">Daniel Heiss Photography</media:credit>\n",
      "      <media:category scheme=\"urn:flickr:tags\">summer game flower green fauna garden fly wildlife ant conservation bee bud tease apiculture pink red macro nature animal rose closeup insect leaf flora peony honey bloom nectar food plant yellow spring gelb christmasrose insekt environmentalism honeybee biene apiarist honig</media:category>\n",
      "      <enclosure url=\"https://live.staticflickr.com/65535/49501235752_a73b00f69c_b.jpg\" type=\"image/jpeg\"/>\n",
      "    </item>\n",
      "    <item>\n",
      "      <title>Honey Bee in Garden</title>\n",
      "      <link>https://www.flickr.com/photos/99144705@N06/49501235667/</link>\n",
      "      <description>\t\t\t&lt;p&gt;&lt;a href=\"https://www.flickr.com/people/99144705@N06/\"&gt;Daniel Heiss Photography&lt;/a&gt; posted a photo:&lt;/p&gt;\n",
      "\t\n",
      "&lt;p&gt;&lt;a href=\"https://www.flickr.com/photos/99144705@N06/49501235667/\" title=\"Honey Bee in Garden\"&gt;&lt;img src=\"https://live.staticflickr.com/65535/49501235667_bde2a37b83_m.jpg\" width=\"240\" height=\"160\" alt=\"Honey Bee in Garden\" /&gt;&lt;/a&gt;&lt;/p&gt;\n",
      "\n",
      "</description>\n",
      "      <pubDate>Fri, 07 Feb 2020 04:13:48 -0800</pubDate>\n",
      "      <dc:date.Taken>2019-05-19T16:21:32-08:00</dc:date.Taken>\n",
      "      <author flickr:profile=\"https://www.flickr.com/people/99144705@N06/\">nobody@flickr.com (Daniel Heiss Photography)</author>\n",
      "      <guid isPermaLink=\"false\">tag:flickr.com,2004:/photo/49501235667</guid>\n",
      "      <media:content url=\"https://live.staticflickr.com/65535/49501235667_bde2a37b83_b.jpg\" type=\"image/jpeg\" height=\"683\" width=\"1024\"/>\n",
      "      <media:title>Honey Bee in Garden</media:title>\n",
      "      <media:thumbnail url=\"https://live.staticflickr.com/65535/49501235667_bde2a37b83_s.jpg\" height=\"75\" width=\"75\"/>\n",
      "      <media:credit role=\"photographer\">Daniel Heiss Photography</media:credit>\n",
      "      <media:category scheme=\"urn:flickr:tags\">flower bee wildlife bud green garden summer game tease ant apiculture conservation fauna fly honey insect nectar peony rose animal flora leaf macro nature pink red bloom closeup food plant spring apiarist christmasrose environmentalism honeybee biene yellow insekt gelb honig</media:category>\n",
      "      <enclosure url=\"https://live.staticflickr.com/65535/49501235667_bde2a37b83_b.jpg\" type=\"image/jpeg\"/>\n",
      "    </item>\n",
      "    <item>\n",
      "      <title>&#12385;&#12425;&#12375;&#36817;&#27743;&#30010; &#165;1530</title>\n",
      "      <link>https://www.flickr.com/photos/62942199@N08/49500472893/</link>\n",
      "      <description>\t\t\t&lt;p&gt;&lt;a href=\"https://www.flickr.com/people/62942199@N08/\"&gt;Takashi H&lt;/a&gt; posted a photo:&lt;/p&gt;\n",
      "\t\n",
      "&lt;p&gt;&lt;a href=\"https://www.flickr.com/photos/62942199@N08/49500472893/\" title=\"&#12385;&#12425;&#12375;&#36817;&#27743;&#30010; &#165;1530\"&gt;&lt;img src=\"https://live.staticflickr.com/65535/49500472893_4df0fb482f_m.jpg\" width=\"240\" height=\"240\" alt=\"&#12385;&#12425;&#12375;&#36817;&#27743;&#30010; &#165;1530\" /&gt;&lt;/a&gt;&lt;/p&gt;\n",
      "\n",
      "&lt;p&gt;&#20117;&#12494;&#24357;&lt;br /&gt;\n",
      "&#30707;&#24029;&#30476;&#37329;&#27810;&#24066;&#19978;&#36817;&#27743;&#30010;33-1&lt;/p&gt;</description>\n",
      "      <pubDate>Fri, 07 Feb 2020 04:02:12 -0800</pubDate>\n",
      "      <dc:date.Taken>2020-02-06T13:22:56-08:00</dc:date.Taken>\n",
      "      <author flickr:profile=\"https://www.flickr.com/people/62942199@N08/\">nobody@flickr.com (Takashi H)</author>\n",
      "      <guid isPermaLink=\"false\">tag:flickr.com,2004:/photo/49500472893</guid>\n",
      "      <media:content url=\"https://live.staticflickr.com/65535/49500472893_4df0fb482f_b.jpg\" type=\"image/jpeg\" height=\"1024\" width=\"1024\"/>\n",
      "      <media:title>&#12385;&#12425;&#12375;&#36817;&#27743;&#30010; &#165;1530</media:title>\n",
      "      <media:description type=\"html\">&lt;p&gt;&#20117;&#12494;&#24357;&lt;br /&gt;\n",
      "&#30707;&#24029;&#30476;&#37329;&#27810;&#24066;&#19978;&#36817;&#27743;&#30010;33-1&lt;/p&gt;</media:description>\n",
      "      <media:thumbnail url=\"https://live.staticflickr.com/65535/49500472893_4df0fb482f_s.jpg\" height=\"75\" width=\"75\"/>\n",
      "      <media:credit role=\"photographer\">Takashi H</media:credit>\n",
      "      <media:category scheme=\"urn:flickr:tags\">food japan kanazawa &#28023;&#39854;&#20028; seafood</media:category>\n",
      "      <enclosure url=\"https://live.staticflickr.com/65535/49500472893_4df0fb482f_b.jpg\" type=\"image/jpeg\"/>\n",
      "      <creativeCommons:license>https://creativecommons.org/licenses/by-nc-sa/2.0/deed.en</creativeCommons:license>\n",
      "    </item>\n",
      "    <item>\n",
      "      <title>&#12385;&#12425;&#12375;&#36817;&#27743;&#30010; &#165;1530</title>\n",
      "      <link>https://www.flickr.com/photos/62942199@N08/49501197932/</link>\n",
      "      <description>\t\t\t&lt;p&gt;&lt;a href=\"https://www.flickr.com/people/62942199@N08/\"&gt;Takashi H&lt;/a&gt; posted a photo:&lt;/p&gt;\n",
      "\t\n",
      "&lt;p&gt;&lt;a href=\"https://www.flickr.com/photos/62942199@N08/49501197932/\" title=\"&#12385;&#12425;&#12375;&#36817;&#27743;&#30010; &#165;1530\"&gt;&lt;img src=\"https://live.staticflickr.com/65535/49501197932_0e65e7b3ae_m.jpg\" width=\"240\" height=\"240\" alt=\"&#12385;&#12425;&#12375;&#36817;&#27743;&#30010; &#165;1530\" /&gt;&lt;/a&gt;&lt;/p&gt;\n",
      "\n",
      "&lt;p&gt;&#20117;&#12494;&#24357;&lt;br /&gt;\n",
      "&#30707;&#24029;&#30476;&#37329;&#27810;&#24066;&#19978;&#36817;&#27743;&#30010;33-1&lt;/p&gt;</description>\n",
      "      <pubDate>Fri, 07 Feb 2020 04:02:12 -0800</pubDate>\n",
      "      <dc:date.Taken>2020-02-06T13:24:55-08:00</dc:date.Taken>\n",
      "      <author flickr:profile=\"https://www.flickr.com/people/62942199@N08/\">nobody@flickr.com (Takashi H)</author>\n",
      "      <guid isPermaLink=\"false\">tag:flickr.com,2004:/photo/49501197932</guid>\n",
      "      <media:content url=\"https://live.staticflickr.com/65535/49501197932_0e65e7b3ae_b.jpg\" type=\"image/jpeg\" height=\"1024\" width=\"1024\"/>\n",
      "      <media:title>&#12385;&#12425;&#12375;&#36817;&#27743;&#30010; &#165;1530</media:title>\n",
      "      <media:description type=\"html\">&lt;p&gt;&#20117;&#12494;&#24357;&lt;br /&gt;\n",
      "&#30707;&#24029;&#30476;&#37329;&#27810;&#24066;&#19978;&#36817;&#27743;&#30010;33-1&lt;/p&gt;</media:description>\n",
      "      <media:thumbnail url=\"https://live.staticflickr.com/65535/49501197932_0e65e7b3ae_s.jpg\" height=\"75\" width=\"75\"/>\n",
      "      <media:credit role=\"photographer\">Takashi H</media:credit>\n",
      "      <media:category scheme=\"urn:flickr:tags\">food japan kanazawa &#28023;&#39854;&#20028; seafood</media:category>\n",
      "      <enclosure url=\"https://live.staticflickr.com/65535/49501197932_0e65e7b3ae_b.jpg\" type=\"image/jpeg\"/>\n",
      "      <creativeCommons:license>https://creativecommons.org/licenses/by-nc-sa/2.0/deed.en</creativeCommons:license>\n",
      "    </item>\n",
      "    <item>\n",
      "      <title>DSCF6454</title>\n",
      "      <link>https://www.flickr.com/photos/aaroncaley/49501157512/</link>\n",
      "      <description>\t\t\t&lt;p&gt;&lt;a href=\"https://www.flickr.com/people/aaroncaley/\"&gt;aaroncaley&lt;/a&gt; posted a photo:&lt;/p&gt;\n",
      "\t\n",
      "&lt;p&gt;&lt;a href=\"https://www.flickr.com/photos/aaroncaley/49501157512/\" title=\"DSCF6454\"&gt;&lt;img src=\"https://live.staticflickr.com/65535/49501157512_1d7cbb6244_m.jpg\" width=\"240\" height=\"160\" alt=\"DSCF6454\" /&gt;&lt;/a&gt;&lt;/p&gt;\n",
      "\n",
      "</description>\n",
      "      <pubDate>Fri, 07 Feb 2020 03:43:49 -0800</pubDate>\n",
      "      <dc:date.Taken>2020-01-26T15:19:27-08:00</dc:date.Taken>\n",
      "      <author flickr:profile=\"https://www.flickr.com/people/aaroncaley/\">nobody@flickr.com (aaroncaley)</author>\n",
      "      <guid isPermaLink=\"false\">tag:flickr.com,2004:/photo/49501157512</guid>\n",
      "      <media:content url=\"https://live.staticflickr.com/65535/49501157512_1d7cbb6244_b.jpg\" type=\"image/jpeg\" height=\"683\" width=\"1024\"/>\n",
      "      <media:title>DSCF6454</media:title>\n",
      "      <media:thumbnail url=\"https://live.staticflickr.com/65535/49501157512_1d7cbb6244_s.jpg\" height=\"75\" width=\"75\"/>\n",
      "      <media:credit role=\"photographer\">aaroncaley</media:credit>\n",
      "      <media:category scheme=\"urn:flickr:tags\">india tamilnadu food indianfood</media:category>\n",
      "      <enclosure url=\"https://live.staticflickr.com/65535/49501157512_1d7cbb6244_b.jpg\" type=\"image/jpeg\"/>\n",
      "    </item>\n",
      "    <item>\n",
      "      <title>Croque-monsieur / &#12463;&#12525;&#12483;&#12463;&#12512;&#12483;&#12471;&#12517;&#12475;&#12483;&#12488; / danken COFFEE &#22825;&#25991;&#39208;&#24215; (&#40575;&#20816;&#23798;&#30476;&#40575;&#20816;&#23798;&#24066;)</title>\n",
      "      <link>https://www.flickr.com/photos/y_shindoh/49501154562/</link>\n",
      "      <description>\t\t\t&lt;p&gt;&lt;a href=\"https://www.flickr.com/people/y_shindoh/\"&gt;y-shindoh&lt;/a&gt; posted a photo:&lt;/p&gt;\n",
      "\t\n",
      "&lt;p&gt;&lt;a href=\"https://www.flickr.com/photos/y_shindoh/49501154562/\" title=\"Croque-monsieur / &#12463;&#12525;&#12483;&#12463;&#12512;&#12483;&#12471;&#12517;&#12475;&#12483;&#12488; / danken COFFEE &#22825;&#25991;&#39208;&#24215; (&#40575;&#20816;&#23798;&#30476;&#40575;&#20816;&#23798;&#24066;)\"&gt;&lt;img src=\"https://live.staticflickr.com/65535/49501154562_9ae64cb926_m.jpg\" width=\"240\" height=\"159\" alt=\"Croque-monsieur / &#12463;&#12525;&#12483;&#12463;&#12512;&#12483;&#12471;&#12517;&#12475;&#12483;&#12488; / danken COFFEE &#22825;&#25991;&#39208;&#24215; (&#40575;&#20816;&#23798;&#30476;&#40575;&#20816;&#23798;&#24066;)\" /&gt;&lt;/a&gt;&lt;/p&gt;\n",
      "\n",
      "&lt;p&gt;&lt;a href=\"http://danken.jp/\" rel=\"noreferrer nofollow\"&gt;danken.jp/&lt;/a&gt;&lt;br /&gt;\n",
      "&lt;a href=\"https://tabelog.com/kagoshima/A4601/A460101/46013132/\" rel=\"noreferrer nofollow\"&gt;tabelog.com/kagoshima/A4601/A460101/46013132/&lt;/a&gt;&lt;/p&gt;</description>\n",
      "      <pubDate>Fri, 07 Feb 2020 03:42:26 -0800</pubDate>\n",
      "      <dc:date.Taken>2019-10-22T11:04:42-08:00</dc:date.Taken>\n",
      "      <author flickr:profile=\"https://www.flickr.com/people/y_shindoh/\">nobody@flickr.com (y-shindoh)</author>\n",
      "      <guid isPermaLink=\"false\">tag:flickr.com,2004:/photo/49501154562</guid>\n",
      "      <media:content url=\"https://live.staticflickr.com/65535/49501154562_9ae64cb926_b.jpg\" type=\"image/jpeg\" height=\"678\" width=\"1024\"/>\n",
      "      <media:title>Croque-monsieur / &#12463;&#12525;&#12483;&#12463;&#12512;&#12483;&#12471;&#12517;&#12475;&#12483;&#12488; / danken COFFEE &#22825;&#25991;&#39208;&#24215; (&#40575;&#20816;&#23798;&#30476;&#40575;&#20816;&#23798;&#24066;)</media:title>\n",
      "      <media:description type=\"html\">&lt;p&gt;&lt;a href=\"http://danken.jp/\" rel=\"noreferrer nofollow\"&gt;danken.jp/&lt;/a&gt;&lt;br /&gt;\n",
      "&lt;a href=\"https://tabelog.com/kagoshima/A4601/A460101/46013132/\" rel=\"noreferrer nofollow\"&gt;tabelog.com/kagoshima/A4601/A460101/46013132/&lt;/a&gt;&lt;/p&gt;</media:description>\n",
      "      <media:thumbnail url=\"https://live.staticflickr.com/65535/49501154562_9ae64cb926_s.jpg\" height=\"75\" width=\"75\"/>\n",
      "      <media:credit role=\"photographer\">y-shindoh</media:credit>\n",
      "      <media:category scheme=\"urn:flickr:tags\">ricoh gr apsc gourmet food</media:category>\n",
      "      <enclosure url=\"https://live.staticflickr.com/65535/49501154562_9ae64cb926_b.jpg\" type=\"image/jpeg\"/>\n",
      "    </item>\n",
      "    <item>\n",
      "      <title>cic-20-328</title>\n",
      "      <link>https://www.flickr.com/photos/zimmcomm/49501114897/</link>\n",
      "      <description>\t\t\t&lt;p&gt;&lt;a href=\"https://www.flickr.com/people/zimmcomm/\"&gt;AgWired&lt;/a&gt; posted a photo:&lt;/p&gt;\n",
      "\t\n",
      "&lt;p&gt;&lt;a href=\"https://www.flickr.com/photos/zimmcomm/49501114897/\" title=\"cic-20-328\"&gt;&lt;img src=\"https://live.staticflickr.com/65535/49501114897_86b0c183a2_m.jpg\" width=\"160\" height=\"240\" alt=\"cic-20-328\" /&gt;&lt;/a&gt;&lt;/p&gt;\n",
      "\n",
      "</description>\n",
      "      <pubDate>Fri, 07 Feb 2020 03:35:55 -0800</pubDate>\n",
      "      <dc:date.Taken>2020-02-06T12:46:06-08:00</dc:date.Taken>\n",
      "      <author flickr:profile=\"https://www.flickr.com/people/zimmcomm/\">nobody@flickr.com (AgWired)</author>\n",
      "      <guid isPermaLink=\"false\">tag:flickr.com,2004:/photo/49501114897</guid>\n",
      "      <media:content url=\"https://live.staticflickr.com/65535/49501114897_86b0c183a2_b.jpg\" type=\"image/jpeg\" height=\"1024\" width=\"684\"/>\n",
      "      <media:title>cic-20-328</media:title>\n",
      "      <media:thumbnail url=\"https://live.staticflickr.com/65535/49501114897_86b0c183a2_s.jpg\" height=\"75\" width=\"75\"/>\n",
      "      <media:credit role=\"photographer\">AgWired</media:credit>\n",
      "      <media:category scheme=\"urn:flickr:tags\">cattle industry convention cbb ncba ancw national cattlemens beef association board food beefmeet cattlecon20 agriculture farm agwired zimmcomm new media chuck zimmerman</media:category>\n",
      "      <enclosure url=\"https://live.staticflickr.com/65535/49501114897_86b0c183a2_b.jpg\" type=\"image/jpeg\"/>\n",
      "    </item>\n",
      "    <item>\n",
      "      <title>cic-20-326</title>\n",
      "      <link>https://www.flickr.com/photos/zimmcomm/49501117272/</link>\n",
      "      <description>\t\t\t&lt;p&gt;&lt;a href=\"https://www.flickr.com/people/zimmcomm/\"&gt;AgWired&lt;/a&gt; posted a photo:&lt;/p&gt;\n",
      "\t\n",
      "&lt;p&gt;&lt;a href=\"https://www.flickr.com/photos/zimmcomm/49501117272/\" title=\"cic-20-326\"&gt;&lt;img src=\"https://live.staticflickr.com/65535/49501117272_12fee130f1_m.jpg\" width=\"240\" height=\"160\" alt=\"cic-20-326\" /&gt;&lt;/a&gt;&lt;/p&gt;\n",
      "\n",
      "</description>\n",
      "      <pubDate>Fri, 07 Feb 2020 03:35:54 -0800</pubDate>\n",
      "      <dc:date.Taken>2020-02-06T12:45:34-08:00</dc:date.Taken>\n",
      "      <author flickr:profile=\"https://www.flickr.com/people/zimmcomm/\">nobody@flickr.com (AgWired)</author>\n",
      "      <guid isPermaLink=\"false\">tag:flickr.com,2004:/photo/49501117272</guid>\n",
      "      <media:content url=\"https://live.staticflickr.com/65535/49501117272_12fee130f1_b.jpg\" type=\"image/jpeg\" height=\"684\" width=\"1024\"/>\n",
      "      <media:title>cic-20-326</media:title>\n",
      "      <media:thumbnail url=\"https://live.staticflickr.com/65535/49501117272_12fee130f1_s.jpg\" height=\"75\" width=\"75\"/>\n",
      "      <media:credit role=\"photographer\">AgWired</media:credit>\n",
      "      <media:category scheme=\"urn:flickr:tags\">cattle industry convention cbb ncba ancw national cattlemens beef association board food beefmeet cattlecon20 agriculture farm agwired zimmcomm new media chuck zimmerman</media:category>\n",
      "      <enclosure url=\"https://live.staticflickr.com/65535/49501117272_12fee130f1_b.jpg\" type=\"image/jpeg\"/>\n",
      "    </item>\n",
      "    <item>\n",
      "      <title>cic-20-313</title>\n",
      "      <link>https://www.flickr.com/photos/zimmcomm/49500913396/</link>\n",
      "      <description>\t\t\t&lt;p&gt;&lt;a href=\"https://www.flickr.com/people/zimmcomm/\"&gt;AgWired&lt;/a&gt; posted a photo:&lt;/p&gt;\n",
      "\t\n",
      "&lt;p&gt;&lt;a href=\"https://www.flickr.com/photos/zimmcomm/49500913396/\" title=\"cic-20-313\"&gt;&lt;img src=\"https://live.staticflickr.com/65535/49500913396_7b38c6e7a0_m.jpg\" width=\"240\" height=\"160\" alt=\"cic-20-313\" /&gt;&lt;/a&gt;&lt;/p&gt;\n",
      "\n",
      "</description>\n",
      "      <pubDate>Fri, 07 Feb 2020 03:35:47 -0800</pubDate>\n",
      "      <dc:date.Taken>2020-02-06T11:59:05-08:00</dc:date.Taken>\n",
      "      <author flickr:profile=\"https://www.flickr.com/people/zimmcomm/\">nobody@flickr.com (AgWired)</author>\n",
      "      <guid isPermaLink=\"false\">tag:flickr.com,2004:/photo/49500913396</guid>\n",
      "      <media:content url=\"https://live.staticflickr.com/65535/49500913396_7b38c6e7a0_b.jpg\" type=\"image/jpeg\" height=\"684\" width=\"1024\"/>\n",
      "      <media:title>cic-20-313</media:title>\n",
      "      <media:thumbnail url=\"https://live.staticflickr.com/65535/49500913396_7b38c6e7a0_s.jpg\" height=\"75\" width=\"75\"/>\n",
      "      <media:credit role=\"photographer\">AgWired</media:credit>\n",
      "      <media:category scheme=\"urn:flickr:tags\">cattle industry convention cbb ncba ancw national cattlemens beef association board food beefmeet cattlecon20 agriculture farm agwired zimmcomm new media chuck zimmerman</media:category>\n",
      "      <enclosure url=\"https://live.staticflickr.com/65535/49500913396_7b38c6e7a0_b.jpg\" type=\"image/jpeg\"/>\n",
      "    </item>\n",
      "    <item>\n",
      "      <title>cic-20-337</title>\n",
      "      <link>https://www.flickr.com/photos/zimmcomm/49500380033/</link>\n",
      "      <description>\t\t\t&lt;p&gt;&lt;a href=\"https://www.flickr.com/people/zimmcomm/\"&gt;AgWired&lt;/a&gt; posted a photo:&lt;/p&gt;\n",
      "\t\n",
      "&lt;p&gt;&lt;a href=\"https://www.flickr.com/photos/zimmcomm/49500380033/\" title=\"cic-20-337\"&gt;&lt;img src=\"https://live.staticflickr.com/65535/49500380033_7c24dc0804_m.jpg\" width=\"240\" height=\"160\" alt=\"cic-20-337\" /&gt;&lt;/a&gt;&lt;/p&gt;\n",
      "\n",
      "</description>\n",
      "      <pubDate>Fri, 07 Feb 2020 03:36:02 -0800</pubDate>\n",
      "      <dc:date.Taken>2020-02-06T18:11:54-08:00</dc:date.Taken>\n",
      "      <author flickr:profile=\"https://www.flickr.com/people/zimmcomm/\">nobody@flickr.com (AgWired)</author>\n",
      "      <guid isPermaLink=\"false\">tag:flickr.com,2004:/photo/49500380033</guid>\n",
      "      <media:content url=\"https://live.staticflickr.com/65535/49500380033_7c24dc0804_b.jpg\" type=\"image/jpeg\" height=\"684\" width=\"1024\"/>\n",
      "      <media:title>cic-20-337</media:title>\n",
      "      <media:thumbnail url=\"https://live.staticflickr.com/65535/49500380033_7c24dc0804_s.jpg\" height=\"75\" width=\"75\"/>\n",
      "      <media:credit role=\"photographer\">AgWired</media:credit>\n",
      "      <media:category scheme=\"urn:flickr:tags\">cattle industry convention cbb ncba ancw national cattlemens beef association board food beefmeet cattlecon20 agriculture farm agwired zimmcomm new media chuck zimmerman</media:category>\n",
      "      <enclosure url=\"https://live.staticflickr.com/65535/49500380033_7c24dc0804_b.jpg\" type=\"image/jpeg\"/>\n",
      "    </item>\n",
      "    <item>\n",
      "      <title>cic-20-329</title>\n",
      "      <link>https://www.flickr.com/photos/zimmcomm/49501113632/</link>\n",
      "      <description>\t\t\t&lt;p&gt;&lt;a href=\"https://www.flickr.com/people/zimmcomm/\"&gt;AgWired&lt;/a&gt; posted a photo:&lt;/p&gt;\n",
      "\t\n",
      "&lt;p&gt;&lt;a href=\"https://www.flickr.com/photos/zimmcomm/49501113632/\" title=\"cic-20-329\"&gt;&lt;img src=\"https://live.staticflickr.com/65535/49501113632_c8c14e7fb3_m.jpg\" width=\"240\" height=\"160\" alt=\"cic-20-329\" /&gt;&lt;/a&gt;&lt;/p&gt;\n",
      "\n",
      "</description>\n",
      "      <pubDate>Fri, 07 Feb 2020 03:35:56 -0800</pubDate>\n",
      "      <dc:date.Taken>2020-02-06T12:46:39-08:00</dc:date.Taken>\n",
      "      <author flickr:profile=\"https://www.flickr.com/people/zimmcomm/\">nobody@flickr.com (AgWired)</author>\n",
      "      <guid isPermaLink=\"false\">tag:flickr.com,2004:/photo/49501113632</guid>\n",
      "      <media:content url=\"https://live.staticflickr.com/65535/49501113632_c8c14e7fb3_b.jpg\" type=\"image/jpeg\" height=\"684\" width=\"1024\"/>\n",
      "      <media:title>cic-20-329</media:title>\n",
      "      <media:thumbnail url=\"https://live.staticflickr.com/65535/49501113632_c8c14e7fb3_s.jpg\" height=\"75\" width=\"75\"/>\n",
      "      <media:credit role=\"photographer\">AgWired</media:credit>\n",
      "      <media:category scheme=\"urn:flickr:tags\">cattle industry convention cbb ncba ancw national cattlemens beef association board food beefmeet cattlecon20 agriculture farm agwired zimmcomm new media chuck zimmerman</media:category>\n",
      "      <enclosure url=\"https://live.staticflickr.com/65535/49501113632_c8c14e7fb3_b.jpg\" type=\"image/jpeg\"/>\n",
      "    </item>\n",
      "    <item>\n",
      "      <title>cic-20-335</title>\n",
      "      <link>https://www.flickr.com/photos/zimmcomm/49500885906/</link>\n",
      "      <description>\t\t\t&lt;p&gt;&lt;a href=\"https://www.flickr.com/people/zimmcomm/\"&gt;AgWired&lt;/a&gt; posted a photo:&lt;/p&gt;\n",
      "\t\n",
      "&lt;p&gt;&lt;a href=\"https://www.flickr.com/photos/zimmcomm/49500885906/\" title=\"cic-20-335\"&gt;&lt;img src=\"https://live.staticflickr.com/65535/49500885906_686b9eb10b_m.jpg\" width=\"240\" height=\"160\" alt=\"cic-20-335\" /&gt;&lt;/a&gt;&lt;/p&gt;\n",
      "\n",
      "</description>\n",
      "      <pubDate>Fri, 07 Feb 2020 03:36:01 -0800</pubDate>\n",
      "      <dc:date.Taken>2020-02-06T13:24:25-08:00</dc:date.Taken>\n",
      "      <author flickr:profile=\"https://www.flickr.com/people/zimmcomm/\">nobody@flickr.com (AgWired)</author>\n",
      "      <guid isPermaLink=\"false\">tag:flickr.com,2004:/photo/49500885906</guid>\n",
      "      <media:content url=\"https://live.staticflickr.com/65535/49500885906_686b9eb10b_b.jpg\" type=\"image/jpeg\" height=\"684\" width=\"1024\"/>\n",
      "      <media:title>cic-20-335</media:title>\n",
      "      <media:thumbnail url=\"https://live.staticflickr.com/65535/49500885906_686b9eb10b_s.jpg\" height=\"75\" width=\"75\"/>\n",
      "      <media:credit role=\"photographer\">AgWired</media:credit>\n",
      "      <media:category scheme=\"urn:flickr:tags\">cattle industry convention cbb ncba ancw national cattlemens beef association board food beefmeet cattlecon20 agriculture farm agwired zimmcomm new media chuck zimmerman</media:category>\n",
      "      <enclosure url=\"https://live.staticflickr.com/65535/49500885906_686b9eb10b_b.jpg\" type=\"image/jpeg\"/>\n",
      "    </item>\n",
      "    <item>\n",
      "      <title>cic-20-334</title>\n",
      "      <link>https://www.flickr.com/photos/zimmcomm/49501106657/</link>\n",
      "      <description>\t\t\t&lt;p&gt;&lt;a href=\"https://www.flickr.com/people/zimmcomm/\"&gt;AgWired&lt;/a&gt; posted a photo:&lt;/p&gt;\n",
      "\t\n",
      "&lt;p&gt;&lt;a href=\"https://www.flickr.com/photos/zimmcomm/49501106657/\" title=\"cic-20-334\"&gt;&lt;img src=\"https://live.staticflickr.com/65535/49501106657_de06c2a987_m.jpg\" width=\"240\" height=\"160\" alt=\"cic-20-334\" /&gt;&lt;/a&gt;&lt;/p&gt;\n",
      "\n",
      "</description>\n",
      "      <pubDate>Fri, 07 Feb 2020 03:36:00 -0800</pubDate>\n",
      "      <dc:date.Taken>2020-02-06T13:22:55-08:00</dc:date.Taken>\n",
      "      <author flickr:profile=\"https://www.flickr.com/people/zimmcomm/\">nobody@flickr.com (AgWired)</author>\n",
      "      <guid isPermaLink=\"false\">tag:flickr.com,2004:/photo/49501106657</guid>\n",
      "      <media:content url=\"https://live.staticflickr.com/65535/49501106657_de06c2a987_b.jpg\" type=\"image/jpeg\" height=\"684\" width=\"1024\"/>\n",
      "      <media:title>cic-20-334</media:title>\n",
      "      <media:thumbnail url=\"https://live.staticflickr.com/65535/49501106657_de06c2a987_s.jpg\" height=\"75\" width=\"75\"/>\n",
      "      <media:credit role=\"photographer\">AgWired</media:credit>\n",
      "      <media:category scheme=\"urn:flickr:tags\">industry cattle convention cbb ncba ancw food farm beef board national agriculture association agwired cattlemens zimmcomm beefmeet cattlecon20 new media chuck zimmerman</media:category>\n",
      "      <enclosure url=\"https://live.staticflickr.com/65535/49501106657_de06c2a987_b.jpg\" type=\"image/jpeg\"/>\n",
      "    </item>\n",
      "    <item>\n",
      "      <title>cic-20-331</title>\n",
      "      <link>https://www.flickr.com/photos/zimmcomm/49500891221/</link>\n",
      "      <description>\t\t\t&lt;p&gt;&lt;a href=\"https://www.flickr.com/people/zimmcomm/\"&gt;AgWired&lt;/a&gt; posted a photo:&lt;/p&gt;\n",
      "\t\n",
      "&lt;p&gt;&lt;a href=\"https://www.flickr.com/photos/zimmcomm/49500891221/\" title=\"cic-20-331\"&gt;&lt;img src=\"https://live.staticflickr.com/65535/49500891221_ef2ca5a4f9_m.jpg\" width=\"240\" height=\"160\" alt=\"cic-20-331\" /&gt;&lt;/a&gt;&lt;/p&gt;\n",
      "\n",
      "</description>\n",
      "      <pubDate>Fri, 07 Feb 2020 03:35:58 -0800</pubDate>\n",
      "      <dc:date.Taken>2020-02-06T13:20:18-08:00</dc:date.Taken>\n",
      "      <author flickr:profile=\"https://www.flickr.com/people/zimmcomm/\">nobody@flickr.com (AgWired)</author>\n",
      "      <guid isPermaLink=\"false\">tag:flickr.com,2004:/photo/49500891221</guid>\n",
      "      <media:content url=\"https://live.staticflickr.com/65535/49500891221_ef2ca5a4f9_b.jpg\" type=\"image/jpeg\" height=\"684\" width=\"1024\"/>\n",
      "      <media:title>cic-20-331</media:title>\n",
      "      <media:thumbnail url=\"https://live.staticflickr.com/65535/49500891221_ef2ca5a4f9_s.jpg\" height=\"75\" width=\"75\"/>\n",
      "      <media:credit role=\"photographer\">AgWired</media:credit>\n",
      "      <media:category scheme=\"urn:flickr:tags\">cattle industry convention cbb ncba ancw national cattlemens beef association board food beefmeet cattlecon20 agriculture farm agwired zimmcomm new media chuck zimmerman</media:category>\n",
      "      <enclosure url=\"https://live.staticflickr.com/65535/49500891221_ef2ca5a4f9_b.jpg\" type=\"image/jpeg\"/>\n",
      "    </item>\n",
      "    <item>\n",
      "      <title>cic-20-321</title>\n",
      "      <link>https://www.flickr.com/photos/zimmcomm/49501122752/</link>\n",
      "      <description>\t\t\t&lt;p&gt;&lt;a href=\"https://www.flickr.com/people/zimmcomm/\"&gt;AgWired&lt;/a&gt; posted a photo:&lt;/p&gt;\n",
      "\t\n",
      "&lt;p&gt;&lt;a href=\"https://www.flickr.com/photos/zimmcomm/49501122752/\" title=\"cic-20-321\"&gt;&lt;img src=\"https://live.staticflickr.com/65535/49501122752_4d40068212_m.jpg\" width=\"240\" height=\"160\" alt=\"cic-20-321\" /&gt;&lt;/a&gt;&lt;/p&gt;\n",
      "\n",
      "</description>\n",
      "      <pubDate>Fri, 07 Feb 2020 03:35:51 -0800</pubDate>\n",
      "      <dc:date.Taken>2020-02-06T12:41:25-08:00</dc:date.Taken>\n",
      "      <author flickr:profile=\"https://www.flickr.com/people/zimmcomm/\">nobody@flickr.com (AgWired)</author>\n",
      "      <guid isPermaLink=\"false\">tag:flickr.com,2004:/photo/49501122752</guid>\n",
      "      <media:content url=\"https://live.staticflickr.com/65535/49501122752_4d40068212_b.jpg\" type=\"image/jpeg\" height=\"684\" width=\"1024\"/>\n",
      "      <media:title>cic-20-321</media:title>\n",
      "      <media:thumbnail url=\"https://live.staticflickr.com/65535/49501122752_4d40068212_s.jpg\" height=\"75\" width=\"75\"/>\n",
      "      <media:credit role=\"photographer\">AgWired</media:credit>\n",
      "      <media:category scheme=\"urn:flickr:tags\">cattle industry convention cbb ncba ancw national cattlemens beef association board food beefmeet cattlecon20 agriculture farm agwired zimmcomm new media chuck zimmerman</media:category>\n",
      "      <enclosure url=\"https://live.staticflickr.com/65535/49501122752_4d40068212_b.jpg\" type=\"image/jpeg\"/>\n",
      "    </item>\n",
      "  </channel>\n",
      "</rss>\n",
      "\n"
     ]
    }
   ],
   "source": [
    "import lxml.etree as etree\n",
    "import urllib.request\n",
    "parser = etree.XMLParser(remove_blank_text=True)\n",
    "\n",
    "\n",
    "opener = urllib.request.build_opener()\n",
    "tree = etree.parse(opener.open(api_request),parser).getroot()\n",
    "\n",
    "#root = etree.parse('file.xml', parser).getroot()\n",
    "\n",
    "\n",
    "print(etree.tostring(tree, pretty_print=True).decode())"
   ]
  },
  {
   "cell_type": "markdown",
   "metadata": {},
   "source": [
    "But it's still not as useful as it could be. Now I use feedparser to display the results in a slightly more friendly format"
   ]
  },
  {
   "cell_type": "code",
   "execution_count": 261,
   "metadata": {},
   "outputs": [],
   "source": [
    "d = feedparser.parse(api_request)"
   ]
  },
  {
   "cell_type": "markdown",
   "metadata": {},
   "source": [
    "Print d to take a look at the data:"
   ]
  },
  {
   "cell_type": "code",
   "execution_count": 264,
   "metadata": {},
   "outputs": [
    {
     "name": "stdout",
     "output_type": "stream",
     "text": [
      "<class 'feedparser.FeedParserDict'> {'feed': {'title': 'Recent Uploads tagged food', 'title_detail': {'type': 'text/plain', 'language': None, 'base': 'https://api.flickr.com/services/feeds/photos_public.gne?tags=food&format=rss2', 'value': 'Recent Uploads tagged food'}, 'links': [{'rel': 'alternate', 'type': 'text/html', 'href': 'https://www.flickr.com/photos/tags/food/'}], 'link': 'https://www.flickr.com/photos/tags/food/', 'subtitle': '', 'subtitle_detail': {'type': 'text/html', 'language': None, 'base': 'https://api.flickr.com/services/feeds/photos_public.gne?tags=food&format=rss2', 'value': ''}, 'published': 'Fri, 07 Feb 2020 04:41:31 -0800', 'published_parsed': time.struct_time(tm_year=2020, tm_mon=2, tm_mday=7, tm_hour=12, tm_min=41, tm_sec=31, tm_wday=4, tm_yday=38, tm_isdst=0), 'updated': 'Fri, 07 Feb 2020 04:41:31 -0800', 'updated_parsed': time.struct_time(tm_year=2020, tm_mon=2, tm_mday=7, tm_hour=12, tm_min=41, tm_sec=31, tm_wday=4, tm_yday=38, tm_isdst=0), 'generator_detail': {'name': 'https://www.flickr.com/'}, 'generator': 'https://www.flickr.com/', 'image': {'href': 'https://combo.staticflickr.com/pw/images/buddyicon.gif', 'title': 'Recent Uploads tagged food', 'title_detail': {'type': 'text/plain', 'language': None, 'base': 'https://api.flickr.com/services/feeds/photos_public.gne?tags=food&format=rss2', 'value': 'Recent Uploads tagged food'}, 'links': [{'rel': 'alternate', 'type': 'text/html', 'href': 'https://www.flickr.com/photos/tags/food/'}], 'link': 'https://www.flickr.com/photos/tags/food/'}}, 'entries': [{'title': 'hybrid vegetables Seeds', 'title_detail': {'type': 'text/plain', 'language': None, 'base': 'https://api.flickr.com/services/feeds/photos_public.gne?tags=food&format=rss2', 'value': 'hybrid vegetables Seeds'}, 'links': [{'rel': 'alternate', 'type': 'text/html', 'href': 'https://www.flickr.com/photos/186859685@N06/49500599213/'}, {'type': 'image/jpeg', 'href': 'https://live.staticflickr.com/65535/49500599213_4675772b09_b.jpg', 'rel': 'enclosure'}], 'link': 'https://www.flickr.com/photos/186859685@N06/49500599213/', 'summary': '<p><a href=\"https://www.flickr.com/people/186859685@N06/\">sakuraseed363</a> posted a photo:</p>\\n\\t\\n<p><a href=\"https://www.flickr.com/photos/186859685@N06/49500599213/\" title=\"hybrid vegetables Seeds\"><img src=\"https://live.staticflickr.com/65535/49500599213_4675772b09_m.jpg\" width=\"240\" height=\"240\" alt=\"hybrid vegetables Seeds\" /></a></p>\\n\\n<p>Sakura range of beetroots, OP/ selected like Ruby Queen, Bikores &amp; royal red ( produced in Europe) &amp; two excellent hybrid F1 Kingdom &amp; F1 Red star with early maturity 55-58 days, uniform smooth roots/ bulb. Deep red flesh, crispy, sweet and suitable for long transportation. Tolerant of all major viruses and diseases.<br />\\nBuy Beetroot seeds online-http://sakuraseed.net/<br />\\nContact Us- 91-8884261708</p>', 'summary_detail': {'type': 'text/html', 'language': None, 'base': 'https://api.flickr.com/services/feeds/photos_public.gne?tags=food&format=rss2', 'value': '<p><a href=\"https://www.flickr.com/people/186859685@N06/\">sakuraseed363</a> posted a photo:</p>\\n\\t\\n<p><a href=\"https://www.flickr.com/photos/186859685@N06/49500599213/\" title=\"hybrid vegetables Seeds\"><img src=\"https://live.staticflickr.com/65535/49500599213_4675772b09_m.jpg\" width=\"240\" height=\"240\" alt=\"hybrid vegetables Seeds\" /></a></p>\\n\\n<p>Sakura range of beetroots, OP/ selected like Ruby Queen, Bikores &amp; royal red ( produced in Europe) &amp; two excellent hybrid F1 Kingdom &amp; F1 Red star with early maturity 55-58 days, uniform smooth roots/ bulb. Deep red flesh, crispy, sweet and suitable for long transportation. Tolerant of all major viruses and diseases.<br />\\nBuy Beetroot seeds online-http://sakuraseed.net/<br />\\nContact Us- 91-8884261708</p>'}, 'published': 'Fri, 07 Feb 2020 04:41:31 -0800', 'published_parsed': time.struct_time(tm_year=2020, tm_mon=2, tm_mday=7, tm_hour=12, tm_min=41, tm_sec=31, tm_wday=4, tm_yday=38, tm_isdst=0), 'dc_date.taken': '2020-02-07T04:40:54-08:00', 'authors': [{'name': 'sakuraseed363', 'email': 'nobody@flickr.com'}], 'author': 'nobody@flickr.com (sakuraseed363)', 'author_detail': {'name': 'sakuraseed363', 'email': 'nobody@flickr.com'}, 'id': 'tag:flickr.com,2004:/photo/49500599213', 'guidislink': False, 'media_content': [{'url': 'https://live.staticflickr.com/65535/49500599213_4675772b09_b.jpg', 'type': 'image/jpeg', 'height': '1024', 'width': '1024'}], 'content': [{'type': 'text/html', 'language': None, 'base': 'https://api.flickr.com/services/feeds/photos_public.gne?tags=food&format=rss2', 'value': '<p>Sakura range of beetroots, OP/ selected like Ruby Queen, Bikores &amp; royal red ( produced in Europe) &amp; two excellent hybrid F1 Kingdom &amp; F1 Red star with early maturity 55-58 days, uniform smooth roots/ bulb. Deep red flesh, crispy, sweet and suitable for long transportation. Tolerant of all major viruses and diseases.<br />\\nBuy Beetroot seeds online-http://sakuraseed.net/<br />\\nContact Us- 91-8884261708</p>'}], 'media_thumbnail': [{'url': 'https://live.staticflickr.com/65535/49500599213_4675772b09_s.jpg', 'height': '75', 'width': '75'}], 'href': '', 'media_credit': [{'role': 'photographer', 'content': 'sakuraseed363'}], 'credit': 'sakuraseed363', 'tags': [{'term': 'beetroot sakuraseed seeds seed hybridseed vegan foodie plantbased food vegetarian healthyfood instafood organic yummy beets foodstagram detox healthy healthyliving delicious tasty healthylifestyle veganfood foodlover healthydrinks vegetables foodgasm youknowyouwantit drinkhealthy', 'scheme': 'urn:flickr:tags', 'label': None}]}, {'title': 'Salsiccia pizza', 'title_detail': {'type': 'text/plain', 'language': None, 'base': 'https://api.flickr.com/services/feeds/photos_public.gne?tags=food&format=rss2', 'value': 'Salsiccia pizza'}, 'links': [{'rel': 'alternate', 'type': 'text/html', 'href': 'https://www.flickr.com/photos/skumroffe/49501091321/'}, {'type': 'image/jpeg', 'href': 'https://live.staticflickr.com/65535/49501091321_d5bfb653b6_b.jpg', 'rel': 'enclosure'}], 'link': 'https://www.flickr.com/photos/skumroffe/49501091321/', 'summary': '<p><a href=\"https://www.flickr.com/people/skumroffe/\">skumroffe</a> posted a photo:</p>\\n\\t\\n<p><a href=\"https://www.flickr.com/photos/skumroffe/49501091321/\" title=\"Salsiccia pizza\"><img src=\"https://live.staticflickr.com/65535/49501091321_d5bfb653b6_m.jpg\" width=\"240\" height=\"240\" alt=\"Salsiccia pizza\" /></a></p>\\n\\n<p>From Furellios Ristorante in Stockholm, Sweden</p>', 'summary_detail': {'type': 'text/html', 'language': None, 'base': 'https://api.flickr.com/services/feeds/photos_public.gne?tags=food&format=rss2', 'value': '<p><a href=\"https://www.flickr.com/people/skumroffe/\">skumroffe</a> posted a photo:</p>\\n\\t\\n<p><a href=\"https://www.flickr.com/photos/skumroffe/49501091321/\" title=\"Salsiccia pizza\"><img src=\"https://live.staticflickr.com/65535/49501091321_d5bfb653b6_m.jpg\" width=\"240\" height=\"240\" alt=\"Salsiccia pizza\" /></a></p>\\n\\n<p>From Furellios Ristorante in Stockholm, Sweden</p>'}, 'published': 'Fri, 07 Feb 2020 04:36:52 -0800', 'published_parsed': time.struct_time(tm_year=2020, tm_mon=2, tm_mday=7, tm_hour=12, tm_min=36, tm_sec=52, tm_wday=4, tm_yday=38, tm_isdst=0), 'dc_date.taken': '2020-02-04T18:18:09-08:00', 'authors': [{'name': 'skumroffe', 'email': 'nobody@flickr.com'}], 'author': 'nobody@flickr.com (skumroffe)', 'author_detail': {'name': 'skumroffe', 'email': 'nobody@flickr.com'}, 'id': 'tag:flickr.com,2004:/photo/49501091321', 'guidislink': False, 'media_content': [{'url': 'https://live.staticflickr.com/65535/49501091321_d5bfb653b6_b.jpg', 'type': 'image/jpeg', 'height': '1024', 'width': '1024'}], 'content': [{'type': 'text/html', 'language': None, 'base': 'https://api.flickr.com/services/feeds/photos_public.gne?tags=food&format=rss2', 'value': '<p>From Furellios Ristorante in Stockholm, Sweden</p>'}], 'media_thumbnail': [{'url': 'https://live.staticflickr.com/65535/49501091321_d5bfb653b6_s.jpg', 'height': '75', 'width': '75'}], 'href': '', 'media_credit': [{'role': 'photographer', 'content': 'skumroffe'}], 'credit': 'skumroffe', 'tags': [{'term': 'salsicciapizza pizza furelliosristorante furellios pizzasalsiccia salsiccia pizzanapoletana napolitanskpizza bäckvägen midsommarkransen hägerstensåsen hägersten stockholm sweden food mat foodporn neapolitanpizza', 'scheme': 'urn:flickr:tags', 'label': None}]}, {'title': 'Alles Gute zum Geburtstag, liebe AnnA!!', 'title_detail': {'type': 'text/plain', 'language': None, 'base': 'https://api.flickr.com/services/feeds/photos_public.gne?tags=food&format=rss2', 'value': 'Alles Gute zum Geburtstag, liebe AnnA!!'}, 'links': [{'rel': 'alternate', 'type': 'text/html', 'href': 'https://www.flickr.com/photos/magister111/49500517018/'}, {'type': 'image/jpeg', 'href': 'https://live.staticflickr.com/65535/49500517018_d478a4d97d_b.jpg', 'rel': 'enclosure'}], 'link': 'https://www.flickr.com/photos/magister111/49500517018/', 'summary': '<p><a href=\"https://www.flickr.com/people/magister111/\">magister111</a> posted a photo:</p>\\n\\t\\n<p><a href=\"https://www.flickr.com/photos/magister111/49500517018/\" title=\"Alles Gute zum Geburtstag, liebe AnnA!!\"><img src=\"https://live.staticflickr.com/65535/49500517018_d478a4d97d_m.jpg\" width=\"240\" height=\"225\" alt=\"Alles Gute zum Geburtstag, liebe AnnA!!\" /></a></p>\\n\\n<p>Una torta glassata, made by Pasticceria Marchesi, la più famosa di Milano, per il compleanno di Anna, la mia (quasi) gemella su flickr!!<br />\\n<br />\\nEine glasiertee Geburtstagstorte, hergestellt von Pasticceria Marchesi, der berühmtesten Konditorei in Mailand, für Anna, meine (fast) Zwillinge auf flickr!</p>', 'summary_detail': {'type': 'text/html', 'language': None, 'base': 'https://api.flickr.com/services/feeds/photos_public.gne?tags=food&format=rss2', 'value': '<p><a href=\"https://www.flickr.com/people/magister111/\">magister111</a> posted a photo:</p>\\n\\t\\n<p><a href=\"https://www.flickr.com/photos/magister111/49500517018/\" title=\"Alles Gute zum Geburtstag, liebe AnnA!!\"><img src=\"https://live.staticflickr.com/65535/49500517018_d478a4d97d_m.jpg\" width=\"240\" height=\"225\" alt=\"Alles Gute zum Geburtstag, liebe AnnA!!\" /></a></p>\\n\\n<p>Una torta glassata, made by Pasticceria Marchesi, la più famosa di Milano, per il compleanno di Anna, la mia (quasi) gemella su flickr!!<br />\\n<br />\\nEine glasiertee Geburtstagstorte, hergestellt von Pasticceria Marchesi, der berühmtesten Konditorei in Mailand, für Anna, meine (fast) Zwillinge auf flickr!</p>'}, 'published': 'Fri, 07 Feb 2020 04:23:54 -0800', 'published_parsed': time.struct_time(tm_year=2020, tm_mon=2, tm_mday=7, tm_hour=12, tm_min=23, tm_sec=54, tm_wday=4, tm_yday=38, tm_isdst=0), 'dc_date.taken': '2019-12-29T18:31:20-08:00', 'authors': [{'name': 'magister111', 'email': 'nobody@flickr.com'}], 'author': 'nobody@flickr.com (magister111)', 'author_detail': {'name': 'magister111', 'email': 'nobody@flickr.com'}, 'id': 'tag:flickr.com,2004:/photo/49500517018', 'guidislink': False, 'media_content': [{'url': 'https://live.staticflickr.com/65535/49500517018_d478a4d97d_b.jpg', 'type': 'image/jpeg', 'height': '959', 'width': '1024'}], 'content': [{'type': 'text/html', 'language': None, 'base': 'https://api.flickr.com/services/feeds/photos_public.gne?tags=food&format=rss2', 'value': '<p>Una torta glassata, made by Pasticceria Marchesi, la più famosa di Milano, per il compleanno di Anna, la mia (quasi) gemella su flickr!!<br />\\n<br />\\nEine glasiertee Geburtstagstorte, hergestellt von Pasticceria Marchesi, der berühmtesten Konditorei in Mailand, für Anna, meine (fast) Zwillinge auf flickr!</p>'}], 'media_thumbnail': [{'url': 'https://live.staticflickr.com/65535/49500517018_d478a4d97d_s.jpg', 'height': '75', 'width': '75'}], 'href': '', 'media_credit': [{'role': 'photographer', 'content': 'magister111'}], 'credit': 'magister111', 'tags': [{'term': 'milano cakes food', 'scheme': 'urn:flickr:tags', 'label': None}]}, {'title': '瓦城乾拌麵', 'title_detail': {'type': 'text/plain', 'language': None, 'base': 'https://api.flickr.com/services/feeds/photos_public.gne?tags=food&format=rss2', 'value': '瓦城乾拌麵'}, 'links': [{'rel': 'alternate', 'type': 'text/html', 'href': 'https://www.flickr.com/photos/benagexyz/49500559473/'}, {'type': 'image/jpeg', 'href': 'https://live.staticflickr.com/65535/49500559473_c3520b5683_b.jpg', 'rel': 'enclosure'}, {'rel': 'license', 'href': 'https://creativecommons.org/licenses/by-nc-nd/2.0/deed.en'}], 'link': 'https://www.flickr.com/photos/benagexyz/49500559473/', 'summary': '<p><a href=\"https://www.flickr.com/people/benagexyz/\">Ben Chen Photography</a> posted a photo:</p>\\n\\t\\n<p><a href=\"https://www.flickr.com/photos/benagexyz/49500559473/\" title=\"瓦城乾拌麵\"><img src=\"https://live.staticflickr.com/65535/49500559473_c3520b5683_m.jpg\" width=\"160\" height=\"240\" alt=\"瓦城乾拌麵\" /></a></p>', 'summary_detail': {'type': 'text/html', 'language': None, 'base': 'https://api.flickr.com/services/feeds/photos_public.gne?tags=food&format=rss2', 'value': '<p><a href=\"https://www.flickr.com/people/benagexyz/\">Ben Chen Photography</a> posted a photo:</p>\\n\\t\\n<p><a href=\"https://www.flickr.com/photos/benagexyz/49500559473/\" title=\"瓦城乾拌麵\"><img src=\"https://live.staticflickr.com/65535/49500559473_c3520b5683_m.jpg\" width=\"160\" height=\"240\" alt=\"瓦城乾拌麵\" /></a></p>'}, 'published': 'Fri, 07 Feb 2020 04:28:00 -0800', 'published_parsed': time.struct_time(tm_year=2020, tm_mon=2, tm_mday=7, tm_hour=12, tm_min=28, tm_sec=0, tm_wday=4, tm_yday=38, tm_isdst=0), 'dc_date.taken': '2019-11-14T14:30:37-08:00', 'authors': [{'name': 'Ben Chen Photography', 'email': 'nobody@flickr.com'}], 'author': 'nobody@flickr.com (Ben Chen Photography)', 'author_detail': {'name': 'Ben Chen Photography', 'email': 'nobody@flickr.com'}, 'id': 'tag:flickr.com,2004:/photo/49500559473', 'guidislink': False, 'media_content': [{'url': 'https://live.staticflickr.com/65535/49500559473_c3520b5683_b.jpg', 'type': 'image/jpeg', 'height': '1024', 'width': '683'}], 'media_thumbnail': [{'url': 'https://live.staticflickr.com/65535/49500559473_c3520b5683_s.jpg', 'height': '75', 'width': '75'}], 'href': '', 'media_credit': [{'role': 'photographer', 'content': 'Ben Chen Photography'}], 'credit': 'Ben Chen Photography', 'tags': [{'term': 'food foodphotography foodpron fooddrink noodle nikon d850', 'scheme': 'urn:flickr:tags', 'label': None}]}, {'title': 'Menu Book', 'title_detail': {'type': 'text/plain', 'language': None, 'base': 'https://api.flickr.com/services/feeds/photos_public.gne?tags=food&format=rss2', 'value': 'Menu Book'}, 'links': [{'rel': 'alternate', 'type': 'text/html', 'href': 'https://www.flickr.com/photos/186819013@N05/49500494468/'}, {'type': 'image/jpeg', 'href': 'https://live.staticflickr.com/65535/49500494468_b0a92ab432_z.jpg', 'rel': 'enclosure'}], 'link': 'https://www.flickr.com/photos/186819013@N05/49500494468/', 'summary': '<p><a href=\"https://www.flickr.com/people/186819013@N05/\">nadirashakil</a> posted a photo:</p>\\n\\t\\n<p><a href=\"https://www.flickr.com/photos/186819013@N05/49500494468/\" title=\"Menu Book\"><img src=\"https://live.staticflickr.com/65535/49500494468_b0a92ab432_m.jpg\" width=\"185\" height=\"240\" alt=\"Menu Book\" /></a></p>\\n\\n<p>Menu Book design For Doraemon cafe</p>', 'summary_detail': {'type': 'text/html', 'language': None, 'base': 'https://api.flickr.com/services/feeds/photos_public.gne?tags=food&format=rss2', 'value': '<p><a href=\"https://www.flickr.com/people/186819013@N05/\">nadirashakil</a> posted a photo:</p>\\n\\t\\n<p><a href=\"https://www.flickr.com/photos/186819013@N05/49500494468/\" title=\"Menu Book\"><img src=\"https://live.staticflickr.com/65535/49500494468_b0a92ab432_m.jpg\" width=\"185\" height=\"240\" alt=\"Menu Book\" /></a></p>\\n\\n<p>Menu Book design For Doraemon cafe</p>'}, 'published': 'Fri, 07 Feb 2020 04:15:23 -0800', 'published_parsed': time.struct_time(tm_year=2020, tm_mon=2, tm_mday=7, tm_hour=12, tm_min=15, tm_sec=23, tm_wday=4, tm_yday=38, tm_isdst=0), 'dc_date.taken': '2020-02-07T04:04:57-08:00', 'authors': [{'name': 'nadirashakil', 'email': 'nobody@flickr.com'}], 'author': 'nobody@flickr.com (nadirashakil)', 'author_detail': {'name': 'nadirashakil', 'email': 'nobody@flickr.com'}, 'id': 'tag:flickr.com,2004:/photo/49500494468', 'guidislink': False, 'media_content': [{'url': 'https://live.staticflickr.com/65535/49500494468_b0a92ab432_z.jpg', 'type': 'image/jpeg', 'height': '640', 'width': '495'}], 'content': [{'type': 'text/html', 'language': None, 'base': 'https://api.flickr.com/services/feeds/photos_public.gne?tags=food&format=rss2', 'value': '<p>Menu Book design For Doraemon cafe</p>'}], 'media_thumbnail': [{'url': 'https://live.staticflickr.com/65535/49500494468_b0a92ab432_s.jpg', 'height': '75', 'width': '75'}], 'href': '', 'media_credit': [{'role': 'photographer', 'content': 'nadirashakil'}], 'credit': 'nadirashakil', 'tags': [{'term': 'menu book restaurent food design graphic', 'scheme': 'urn:flickr:tags', 'label': None}]}, {'title': 'Honey Bee in Garden', 'title_detail': {'type': 'text/plain', 'language': None, 'base': 'https://api.flickr.com/services/feeds/photos_public.gne?tags=food&format=rss2', 'value': 'Honey Bee in Garden'}, 'links': [{'rel': 'alternate', 'type': 'text/html', 'href': 'https://www.flickr.com/photos/99144705@N06/49501235752/'}, {'type': 'image/jpeg', 'href': 'https://live.staticflickr.com/65535/49501235752_a73b00f69c_b.jpg', 'rel': 'enclosure'}], 'link': 'https://www.flickr.com/photos/99144705@N06/49501235752/', 'summary': '<p><a href=\"https://www.flickr.com/people/99144705@N06/\">Daniel Heiss Photography</a> posted a photo:</p>\\n\\t\\n<p><a href=\"https://www.flickr.com/photos/99144705@N06/49501235752/\" title=\"Honey Bee in Garden\"><img src=\"https://live.staticflickr.com/65535/49501235752_a73b00f69c_m.jpg\" width=\"240\" height=\"160\" alt=\"Honey Bee in Garden\" /></a></p>', 'summary_detail': {'type': 'text/html', 'language': None, 'base': 'https://api.flickr.com/services/feeds/photos_public.gne?tags=food&format=rss2', 'value': '<p><a href=\"https://www.flickr.com/people/99144705@N06/\">Daniel Heiss Photography</a> posted a photo:</p>\\n\\t\\n<p><a href=\"https://www.flickr.com/photos/99144705@N06/49501235752/\" title=\"Honey Bee in Garden\"><img src=\"https://live.staticflickr.com/65535/49501235752_a73b00f69c_m.jpg\" width=\"240\" height=\"160\" alt=\"Honey Bee in Garden\" /></a></p>'}, 'published': 'Fri, 07 Feb 2020 04:13:47 -0800', 'published_parsed': time.struct_time(tm_year=2020, tm_mon=2, tm_mday=7, tm_hour=12, tm_min=13, tm_sec=47, tm_wday=4, tm_yday=38, tm_isdst=0), 'dc_date.taken': '2019-05-19T16:26:46-08:00', 'authors': [{'name': 'Daniel Heiss Photography', 'email': 'nobody@flickr.com'}], 'author': 'nobody@flickr.com (Daniel Heiss Photography)', 'author_detail': {'name': 'Daniel Heiss Photography', 'email': 'nobody@flickr.com'}, 'id': 'tag:flickr.com,2004:/photo/49501235752', 'guidislink': False, 'media_content': [{'url': 'https://live.staticflickr.com/65535/49501235752_a73b00f69c_b.jpg', 'type': 'image/jpeg', 'height': '683', 'width': '1024'}], 'media_thumbnail': [{'url': 'https://live.staticflickr.com/65535/49501235752_a73b00f69c_s.jpg', 'height': '75', 'width': '75'}], 'href': '', 'media_credit': [{'role': 'photographer', 'content': 'Daniel Heiss Photography'}], 'credit': 'Daniel Heiss Photography', 'tags': [{'term': 'summer game flower green fauna garden fly wildlife ant conservation bee bud tease apiculture pink red macro nature animal rose closeup insect leaf flora peony honey bloom nectar food plant yellow spring gelb christmasrose insekt environmentalism honeybee biene apiarist honig', 'scheme': 'urn:flickr:tags', 'label': None}]}, {'title': 'Honey Bee in Garden', 'title_detail': {'type': 'text/plain', 'language': None, 'base': 'https://api.flickr.com/services/feeds/photos_public.gne?tags=food&format=rss2', 'value': 'Honey Bee in Garden'}, 'links': [{'rel': 'alternate', 'type': 'text/html', 'href': 'https://www.flickr.com/photos/99144705@N06/49501235667/'}, {'type': 'image/jpeg', 'href': 'https://live.staticflickr.com/65535/49501235667_bde2a37b83_b.jpg', 'rel': 'enclosure'}], 'link': 'https://www.flickr.com/photos/99144705@N06/49501235667/', 'summary': '<p><a href=\"https://www.flickr.com/people/99144705@N06/\">Daniel Heiss Photography</a> posted a photo:</p>\\n\\t\\n<p><a href=\"https://www.flickr.com/photos/99144705@N06/49501235667/\" title=\"Honey Bee in Garden\"><img src=\"https://live.staticflickr.com/65535/49501235667_bde2a37b83_m.jpg\" width=\"240\" height=\"160\" alt=\"Honey Bee in Garden\" /></a></p>', 'summary_detail': {'type': 'text/html', 'language': None, 'base': 'https://api.flickr.com/services/feeds/photos_public.gne?tags=food&format=rss2', 'value': '<p><a href=\"https://www.flickr.com/people/99144705@N06/\">Daniel Heiss Photography</a> posted a photo:</p>\\n\\t\\n<p><a href=\"https://www.flickr.com/photos/99144705@N06/49501235667/\" title=\"Honey Bee in Garden\"><img src=\"https://live.staticflickr.com/65535/49501235667_bde2a37b83_m.jpg\" width=\"240\" height=\"160\" alt=\"Honey Bee in Garden\" /></a></p>'}, 'published': 'Fri, 07 Feb 2020 04:13:48 -0800', 'published_parsed': time.struct_time(tm_year=2020, tm_mon=2, tm_mday=7, tm_hour=12, tm_min=13, tm_sec=48, tm_wday=4, tm_yday=38, tm_isdst=0), 'dc_date.taken': '2019-05-19T16:21:32-08:00', 'authors': [{'name': 'Daniel Heiss Photography', 'email': 'nobody@flickr.com'}], 'author': 'nobody@flickr.com (Daniel Heiss Photography)', 'author_detail': {'name': 'Daniel Heiss Photography', 'email': 'nobody@flickr.com'}, 'id': 'tag:flickr.com,2004:/photo/49501235667', 'guidislink': False, 'media_content': [{'url': 'https://live.staticflickr.com/65535/49501235667_bde2a37b83_b.jpg', 'type': 'image/jpeg', 'height': '683', 'width': '1024'}], 'media_thumbnail': [{'url': 'https://live.staticflickr.com/65535/49501235667_bde2a37b83_s.jpg', 'height': '75', 'width': '75'}], 'href': '', 'media_credit': [{'role': 'photographer', 'content': 'Daniel Heiss Photography'}], 'credit': 'Daniel Heiss Photography', 'tags': [{'term': 'flower bee wildlife bud green garden summer game tease ant apiculture conservation fauna fly honey insect nectar peony rose animal flora leaf macro nature pink red bloom closeup food plant spring apiarist christmasrose environmentalism honeybee biene yellow insekt gelb honig', 'scheme': 'urn:flickr:tags', 'label': None}]}, {'title': 'ちらし近江町 ¥1530', 'title_detail': {'type': 'text/plain', 'language': None, 'base': 'https://api.flickr.com/services/feeds/photos_public.gne?tags=food&format=rss2', 'value': 'ちらし近江町 ¥1530'}, 'links': [{'rel': 'alternate', 'type': 'text/html', 'href': 'https://www.flickr.com/photos/62942199@N08/49500472893/'}, {'type': 'image/jpeg', 'href': 'https://live.staticflickr.com/65535/49500472893_4df0fb482f_b.jpg', 'rel': 'enclosure'}, {'rel': 'license', 'href': 'https://creativecommons.org/licenses/by-nc-sa/2.0/deed.en'}], 'link': 'https://www.flickr.com/photos/62942199@N08/49500472893/', 'summary': '<p><a href=\"https://www.flickr.com/people/62942199@N08/\">Takashi H</a> posted a photo:</p>\\n\\t\\n<p><a href=\"https://www.flickr.com/photos/62942199@N08/49500472893/\" title=\"ちらし近江町 ¥1530\"><img src=\"https://live.staticflickr.com/65535/49500472893_4df0fb482f_m.jpg\" width=\"240\" height=\"240\" alt=\"ちらし近江町 ¥1530\" /></a></p>\\n\\n<p>井ノ弥<br />\\n石川県金沢市上近江町33-1</p>', 'summary_detail': {'type': 'text/html', 'language': None, 'base': 'https://api.flickr.com/services/feeds/photos_public.gne?tags=food&format=rss2', 'value': '<p><a href=\"https://www.flickr.com/people/62942199@N08/\">Takashi H</a> posted a photo:</p>\\n\\t\\n<p><a href=\"https://www.flickr.com/photos/62942199@N08/49500472893/\" title=\"ちらし近江町 ¥1530\"><img src=\"https://live.staticflickr.com/65535/49500472893_4df0fb482f_m.jpg\" width=\"240\" height=\"240\" alt=\"ちらし近江町 ¥1530\" /></a></p>\\n\\n<p>井ノ弥<br />\\n石川県金沢市上近江町33-1</p>'}, 'published': 'Fri, 07 Feb 2020 04:02:12 -0800', 'published_parsed': time.struct_time(tm_year=2020, tm_mon=2, tm_mday=7, tm_hour=12, tm_min=2, tm_sec=12, tm_wday=4, tm_yday=38, tm_isdst=0), 'dc_date.taken': '2020-02-06T13:22:56-08:00', 'authors': [{'name': 'Takashi H', 'email': 'nobody@flickr.com'}], 'author': 'nobody@flickr.com (Takashi H)', 'author_detail': {'name': 'Takashi H', 'email': 'nobody@flickr.com'}, 'id': 'tag:flickr.com,2004:/photo/49500472893', 'guidislink': False, 'media_content': [{'url': 'https://live.staticflickr.com/65535/49500472893_4df0fb482f_b.jpg', 'type': 'image/jpeg', 'height': '1024', 'width': '1024'}], 'content': [{'type': 'text/html', 'language': None, 'base': 'https://api.flickr.com/services/feeds/photos_public.gne?tags=food&format=rss2', 'value': '<p>井ノ弥<br />\\n石川県金沢市上近江町33-1</p>'}], 'media_thumbnail': [{'url': 'https://live.staticflickr.com/65535/49500472893_4df0fb482f_s.jpg', 'height': '75', 'width': '75'}], 'href': '', 'media_credit': [{'role': 'photographer', 'content': 'Takashi H'}], 'credit': 'Takashi H', 'tags': [{'term': 'food japan kanazawa 海鮮丼 seafood', 'scheme': 'urn:flickr:tags', 'label': None}]}, {'title': 'ちらし近江町 ¥1530', 'title_detail': {'type': 'text/plain', 'language': None, 'base': 'https://api.flickr.com/services/feeds/photos_public.gne?tags=food&format=rss2', 'value': 'ちらし近江町 ¥1530'}, 'links': [{'rel': 'alternate', 'type': 'text/html', 'href': 'https://www.flickr.com/photos/62942199@N08/49501197932/'}, {'type': 'image/jpeg', 'href': 'https://live.staticflickr.com/65535/49501197932_0e65e7b3ae_b.jpg', 'rel': 'enclosure'}, {'rel': 'license', 'href': 'https://creativecommons.org/licenses/by-nc-sa/2.0/deed.en'}], 'link': 'https://www.flickr.com/photos/62942199@N08/49501197932/', 'summary': '<p><a href=\"https://www.flickr.com/people/62942199@N08/\">Takashi H</a> posted a photo:</p>\\n\\t\\n<p><a href=\"https://www.flickr.com/photos/62942199@N08/49501197932/\" title=\"ちらし近江町 ¥1530\"><img src=\"https://live.staticflickr.com/65535/49501197932_0e65e7b3ae_m.jpg\" width=\"240\" height=\"240\" alt=\"ちらし近江町 ¥1530\" /></a></p>\\n\\n<p>井ノ弥<br />\\n石川県金沢市上近江町33-1</p>', 'summary_detail': {'type': 'text/html', 'language': None, 'base': 'https://api.flickr.com/services/feeds/photos_public.gne?tags=food&format=rss2', 'value': '<p><a href=\"https://www.flickr.com/people/62942199@N08/\">Takashi H</a> posted a photo:</p>\\n\\t\\n<p><a href=\"https://www.flickr.com/photos/62942199@N08/49501197932/\" title=\"ちらし近江町 ¥1530\"><img src=\"https://live.staticflickr.com/65535/49501197932_0e65e7b3ae_m.jpg\" width=\"240\" height=\"240\" alt=\"ちらし近江町 ¥1530\" /></a></p>\\n\\n<p>井ノ弥<br />\\n石川県金沢市上近江町33-1</p>'}, 'published': 'Fri, 07 Feb 2020 04:02:12 -0800', 'published_parsed': time.struct_time(tm_year=2020, tm_mon=2, tm_mday=7, tm_hour=12, tm_min=2, tm_sec=12, tm_wday=4, tm_yday=38, tm_isdst=0), 'dc_date.taken': '2020-02-06T13:24:55-08:00', 'authors': [{'name': 'Takashi H', 'email': 'nobody@flickr.com'}], 'author': 'nobody@flickr.com (Takashi H)', 'author_detail': {'name': 'Takashi H', 'email': 'nobody@flickr.com'}, 'id': 'tag:flickr.com,2004:/photo/49501197932', 'guidislink': False, 'media_content': [{'url': 'https://live.staticflickr.com/65535/49501197932_0e65e7b3ae_b.jpg', 'type': 'image/jpeg', 'height': '1024', 'width': '1024'}], 'content': [{'type': 'text/html', 'language': None, 'base': 'https://api.flickr.com/services/feeds/photos_public.gne?tags=food&format=rss2', 'value': '<p>井ノ弥<br />\\n石川県金沢市上近江町33-1</p>'}], 'media_thumbnail': [{'url': 'https://live.staticflickr.com/65535/49501197932_0e65e7b3ae_s.jpg', 'height': '75', 'width': '75'}], 'href': '', 'media_credit': [{'role': 'photographer', 'content': 'Takashi H'}], 'credit': 'Takashi H', 'tags': [{'term': 'food japan kanazawa 海鮮丼 seafood', 'scheme': 'urn:flickr:tags', 'label': None}]}, {'title': 'DSCF6454', 'title_detail': {'type': 'text/plain', 'language': None, 'base': 'https://api.flickr.com/services/feeds/photos_public.gne?tags=food&format=rss2', 'value': 'DSCF6454'}, 'links': [{'rel': 'alternate', 'type': 'text/html', 'href': 'https://www.flickr.com/photos/aaroncaley/49501157512/'}, {'type': 'image/jpeg', 'href': 'https://live.staticflickr.com/65535/49501157512_1d7cbb6244_b.jpg', 'rel': 'enclosure'}], 'link': 'https://www.flickr.com/photos/aaroncaley/49501157512/', 'summary': '<p><a href=\"https://www.flickr.com/people/aaroncaley/\">aaroncaley</a> posted a photo:</p>\\n\\t\\n<p><a href=\"https://www.flickr.com/photos/aaroncaley/49501157512/\" title=\"DSCF6454\"><img src=\"https://live.staticflickr.com/65535/49501157512_1d7cbb6244_m.jpg\" width=\"240\" height=\"160\" alt=\"DSCF6454\" /></a></p>', 'summary_detail': {'type': 'text/html', 'language': None, 'base': 'https://api.flickr.com/services/feeds/photos_public.gne?tags=food&format=rss2', 'value': '<p><a href=\"https://www.flickr.com/people/aaroncaley/\">aaroncaley</a> posted a photo:</p>\\n\\t\\n<p><a href=\"https://www.flickr.com/photos/aaroncaley/49501157512/\" title=\"DSCF6454\"><img src=\"https://live.staticflickr.com/65535/49501157512_1d7cbb6244_m.jpg\" width=\"240\" height=\"160\" alt=\"DSCF6454\" /></a></p>'}, 'published': 'Fri, 07 Feb 2020 03:43:49 -0800', 'published_parsed': time.struct_time(tm_year=2020, tm_mon=2, tm_mday=7, tm_hour=11, tm_min=43, tm_sec=49, tm_wday=4, tm_yday=38, tm_isdst=0), 'dc_date.taken': '2020-01-26T15:19:27-08:00', 'authors': [{'name': 'aaroncaley', 'email': 'nobody@flickr.com'}], 'author': 'nobody@flickr.com (aaroncaley)', 'author_detail': {'name': 'aaroncaley', 'email': 'nobody@flickr.com'}, 'id': 'tag:flickr.com,2004:/photo/49501157512', 'guidislink': False, 'media_content': [{'url': 'https://live.staticflickr.com/65535/49501157512_1d7cbb6244_b.jpg', 'type': 'image/jpeg', 'height': '683', 'width': '1024'}], 'media_thumbnail': [{'url': 'https://live.staticflickr.com/65535/49501157512_1d7cbb6244_s.jpg', 'height': '75', 'width': '75'}], 'href': '', 'media_credit': [{'role': 'photographer', 'content': 'aaroncaley'}], 'credit': 'aaroncaley', 'tags': [{'term': 'india tamilnadu food indianfood', 'scheme': 'urn:flickr:tags', 'label': None}]}, {'title': 'Croque-monsieur / クロックムッシュセット / danken COFFEE 天文館店 (鹿児島県鹿児島市)', 'title_detail': {'type': 'text/plain', 'language': None, 'base': 'https://api.flickr.com/services/feeds/photos_public.gne?tags=food&format=rss2', 'value': 'Croque-monsieur / クロックムッシュセット / danken COFFEE 天文館店 (鹿児島県鹿児島市)'}, 'links': [{'rel': 'alternate', 'type': 'text/html', 'href': 'https://www.flickr.com/photos/y_shindoh/49501154562/'}, {'type': 'image/jpeg', 'href': 'https://live.staticflickr.com/65535/49501154562_9ae64cb926_b.jpg', 'rel': 'enclosure'}], 'link': 'https://www.flickr.com/photos/y_shindoh/49501154562/', 'summary': '<p><a href=\"https://www.flickr.com/people/y_shindoh/\">y-shindoh</a> posted a photo:</p>\\n\\t\\n<p><a href=\"https://www.flickr.com/photos/y_shindoh/49501154562/\" title=\"Croque-monsieur / クロックムッシュセット / danken COFFEE 天文館店 (鹿児島県鹿児島市)\"><img src=\"https://live.staticflickr.com/65535/49501154562_9ae64cb926_m.jpg\" width=\"240\" height=\"159\" alt=\"Croque-monsieur / クロックムッシュセット / danken COFFEE 天文館店 (鹿児島県鹿児島市)\" /></a></p>\\n\\n<p><a href=\"http://danken.jp/\" rel=\"noreferrer nofollow\">danken.jp/</a><br />\\n<a href=\"https://tabelog.com/kagoshima/A4601/A460101/46013132/\" rel=\"noreferrer nofollow\">tabelog.com/kagoshima/A4601/A460101/46013132/</a></p>', 'summary_detail': {'type': 'text/html', 'language': None, 'base': 'https://api.flickr.com/services/feeds/photos_public.gne?tags=food&format=rss2', 'value': '<p><a href=\"https://www.flickr.com/people/y_shindoh/\">y-shindoh</a> posted a photo:</p>\\n\\t\\n<p><a href=\"https://www.flickr.com/photos/y_shindoh/49501154562/\" title=\"Croque-monsieur / クロックムッシュセット / danken COFFEE 天文館店 (鹿児島県鹿児島市)\"><img src=\"https://live.staticflickr.com/65535/49501154562_9ae64cb926_m.jpg\" width=\"240\" height=\"159\" alt=\"Croque-monsieur / クロックムッシュセット / danken COFFEE 天文館店 (鹿児島県鹿児島市)\" /></a></p>\\n\\n<p><a href=\"http://danken.jp/\" rel=\"noreferrer nofollow\">danken.jp/</a><br />\\n<a href=\"https://tabelog.com/kagoshima/A4601/A460101/46013132/\" rel=\"noreferrer nofollow\">tabelog.com/kagoshima/A4601/A460101/46013132/</a></p>'}, 'published': 'Fri, 07 Feb 2020 03:42:26 -0800', 'published_parsed': time.struct_time(tm_year=2020, tm_mon=2, tm_mday=7, tm_hour=11, tm_min=42, tm_sec=26, tm_wday=4, tm_yday=38, tm_isdst=0), 'dc_date.taken': '2019-10-22T11:04:42-08:00', 'authors': [{'name': 'y-shindoh', 'email': 'nobody@flickr.com'}], 'author': 'nobody@flickr.com (y-shindoh)', 'author_detail': {'name': 'y-shindoh', 'email': 'nobody@flickr.com'}, 'id': 'tag:flickr.com,2004:/photo/49501154562', 'guidislink': False, 'media_content': [{'url': 'https://live.staticflickr.com/65535/49501154562_9ae64cb926_b.jpg', 'type': 'image/jpeg', 'height': '678', 'width': '1024'}], 'content': [{'type': 'text/html', 'language': None, 'base': 'https://api.flickr.com/services/feeds/photos_public.gne?tags=food&format=rss2', 'value': '<p><a href=\"http://danken.jp/\" rel=\"noreferrer nofollow\">danken.jp/</a><br />\\n<a href=\"https://tabelog.com/kagoshima/A4601/A460101/46013132/\" rel=\"noreferrer nofollow\">tabelog.com/kagoshima/A4601/A460101/46013132/</a></p>'}], 'media_thumbnail': [{'url': 'https://live.staticflickr.com/65535/49501154562_9ae64cb926_s.jpg', 'height': '75', 'width': '75'}], 'href': '', 'media_credit': [{'role': 'photographer', 'content': 'y-shindoh'}], 'credit': 'y-shindoh', 'tags': [{'term': 'ricoh gr apsc gourmet food', 'scheme': 'urn:flickr:tags', 'label': None}]}, {'title': 'cic-20-328', 'title_detail': {'type': 'text/plain', 'language': None, 'base': 'https://api.flickr.com/services/feeds/photos_public.gne?tags=food&format=rss2', 'value': 'cic-20-328'}, 'links': [{'rel': 'alternate', 'type': 'text/html', 'href': 'https://www.flickr.com/photos/zimmcomm/49501114897/'}, {'type': 'image/jpeg', 'href': 'https://live.staticflickr.com/65535/49501114897_86b0c183a2_b.jpg', 'rel': 'enclosure'}], 'link': 'https://www.flickr.com/photos/zimmcomm/49501114897/', 'summary': '<p><a href=\"https://www.flickr.com/people/zimmcomm/\">AgWired</a> posted a photo:</p>\\n\\t\\n<p><a href=\"https://www.flickr.com/photos/zimmcomm/49501114897/\" title=\"cic-20-328\"><img src=\"https://live.staticflickr.com/65535/49501114897_86b0c183a2_m.jpg\" width=\"160\" height=\"240\" alt=\"cic-20-328\" /></a></p>', 'summary_detail': {'type': 'text/html', 'language': None, 'base': 'https://api.flickr.com/services/feeds/photos_public.gne?tags=food&format=rss2', 'value': '<p><a href=\"https://www.flickr.com/people/zimmcomm/\">AgWired</a> posted a photo:</p>\\n\\t\\n<p><a href=\"https://www.flickr.com/photos/zimmcomm/49501114897/\" title=\"cic-20-328\"><img src=\"https://live.staticflickr.com/65535/49501114897_86b0c183a2_m.jpg\" width=\"160\" height=\"240\" alt=\"cic-20-328\" /></a></p>'}, 'published': 'Fri, 07 Feb 2020 03:35:55 -0800', 'published_parsed': time.struct_time(tm_year=2020, tm_mon=2, tm_mday=7, tm_hour=11, tm_min=35, tm_sec=55, tm_wday=4, tm_yday=38, tm_isdst=0), 'dc_date.taken': '2020-02-06T12:46:06-08:00', 'authors': [{'name': 'AgWired', 'email': 'nobody@flickr.com'}], 'author': 'nobody@flickr.com (AgWired)', 'author_detail': {'name': 'AgWired', 'email': 'nobody@flickr.com'}, 'id': 'tag:flickr.com,2004:/photo/49501114897', 'guidislink': False, 'media_content': [{'url': 'https://live.staticflickr.com/65535/49501114897_86b0c183a2_b.jpg', 'type': 'image/jpeg', 'height': '1024', 'width': '684'}], 'media_thumbnail': [{'url': 'https://live.staticflickr.com/65535/49501114897_86b0c183a2_s.jpg', 'height': '75', 'width': '75'}], 'href': '', 'media_credit': [{'role': 'photographer', 'content': 'AgWired'}], 'credit': 'AgWired', 'tags': [{'term': 'cattle industry convention cbb ncba ancw national cattlemens beef association board food beefmeet cattlecon20 agriculture farm agwired zimmcomm new media chuck zimmerman', 'scheme': 'urn:flickr:tags', 'label': None}]}, {'title': 'cic-20-326', 'title_detail': {'type': 'text/plain', 'language': None, 'base': 'https://api.flickr.com/services/feeds/photos_public.gne?tags=food&format=rss2', 'value': 'cic-20-326'}, 'links': [{'rel': 'alternate', 'type': 'text/html', 'href': 'https://www.flickr.com/photos/zimmcomm/49501117272/'}, {'type': 'image/jpeg', 'href': 'https://live.staticflickr.com/65535/49501117272_12fee130f1_b.jpg', 'rel': 'enclosure'}], 'link': 'https://www.flickr.com/photos/zimmcomm/49501117272/', 'summary': '<p><a href=\"https://www.flickr.com/people/zimmcomm/\">AgWired</a> posted a photo:</p>\\n\\t\\n<p><a href=\"https://www.flickr.com/photos/zimmcomm/49501117272/\" title=\"cic-20-326\"><img src=\"https://live.staticflickr.com/65535/49501117272_12fee130f1_m.jpg\" width=\"240\" height=\"160\" alt=\"cic-20-326\" /></a></p>', 'summary_detail': {'type': 'text/html', 'language': None, 'base': 'https://api.flickr.com/services/feeds/photos_public.gne?tags=food&format=rss2', 'value': '<p><a href=\"https://www.flickr.com/people/zimmcomm/\">AgWired</a> posted a photo:</p>\\n\\t\\n<p><a href=\"https://www.flickr.com/photos/zimmcomm/49501117272/\" title=\"cic-20-326\"><img src=\"https://live.staticflickr.com/65535/49501117272_12fee130f1_m.jpg\" width=\"240\" height=\"160\" alt=\"cic-20-326\" /></a></p>'}, 'published': 'Fri, 07 Feb 2020 03:35:54 -0800', 'published_parsed': time.struct_time(tm_year=2020, tm_mon=2, tm_mday=7, tm_hour=11, tm_min=35, tm_sec=54, tm_wday=4, tm_yday=38, tm_isdst=0), 'dc_date.taken': '2020-02-06T12:45:34-08:00', 'authors': [{'name': 'AgWired', 'email': 'nobody@flickr.com'}], 'author': 'nobody@flickr.com (AgWired)', 'author_detail': {'name': 'AgWired', 'email': 'nobody@flickr.com'}, 'id': 'tag:flickr.com,2004:/photo/49501117272', 'guidislink': False, 'media_content': [{'url': 'https://live.staticflickr.com/65535/49501117272_12fee130f1_b.jpg', 'type': 'image/jpeg', 'height': '684', 'width': '1024'}], 'media_thumbnail': [{'url': 'https://live.staticflickr.com/65535/49501117272_12fee130f1_s.jpg', 'height': '75', 'width': '75'}], 'href': '', 'media_credit': [{'role': 'photographer', 'content': 'AgWired'}], 'credit': 'AgWired', 'tags': [{'term': 'cattle industry convention cbb ncba ancw national cattlemens beef association board food beefmeet cattlecon20 agriculture farm agwired zimmcomm new media chuck zimmerman', 'scheme': 'urn:flickr:tags', 'label': None}]}, {'title': 'cic-20-337', 'title_detail': {'type': 'text/plain', 'language': None, 'base': 'https://api.flickr.com/services/feeds/photos_public.gne?tags=food&format=rss2', 'value': 'cic-20-337'}, 'links': [{'rel': 'alternate', 'type': 'text/html', 'href': 'https://www.flickr.com/photos/zimmcomm/49500380033/'}, {'type': 'image/jpeg', 'href': 'https://live.staticflickr.com/65535/49500380033_7c24dc0804_b.jpg', 'rel': 'enclosure'}], 'link': 'https://www.flickr.com/photos/zimmcomm/49500380033/', 'summary': '<p><a href=\"https://www.flickr.com/people/zimmcomm/\">AgWired</a> posted a photo:</p>\\n\\t\\n<p><a href=\"https://www.flickr.com/photos/zimmcomm/49500380033/\" title=\"cic-20-337\"><img src=\"https://live.staticflickr.com/65535/49500380033_7c24dc0804_m.jpg\" width=\"240\" height=\"160\" alt=\"cic-20-337\" /></a></p>', 'summary_detail': {'type': 'text/html', 'language': None, 'base': 'https://api.flickr.com/services/feeds/photos_public.gne?tags=food&format=rss2', 'value': '<p><a href=\"https://www.flickr.com/people/zimmcomm/\">AgWired</a> posted a photo:</p>\\n\\t\\n<p><a href=\"https://www.flickr.com/photos/zimmcomm/49500380033/\" title=\"cic-20-337\"><img src=\"https://live.staticflickr.com/65535/49500380033_7c24dc0804_m.jpg\" width=\"240\" height=\"160\" alt=\"cic-20-337\" /></a></p>'}, 'published': 'Fri, 07 Feb 2020 03:36:02 -0800', 'published_parsed': time.struct_time(tm_year=2020, tm_mon=2, tm_mday=7, tm_hour=11, tm_min=36, tm_sec=2, tm_wday=4, tm_yday=38, tm_isdst=0), 'dc_date.taken': '2020-02-06T18:11:54-08:00', 'authors': [{'name': 'AgWired', 'email': 'nobody@flickr.com'}], 'author': 'nobody@flickr.com (AgWired)', 'author_detail': {'name': 'AgWired', 'email': 'nobody@flickr.com'}, 'id': 'tag:flickr.com,2004:/photo/49500380033', 'guidislink': False, 'media_content': [{'url': 'https://live.staticflickr.com/65535/49500380033_7c24dc0804_b.jpg', 'type': 'image/jpeg', 'height': '684', 'width': '1024'}], 'media_thumbnail': [{'url': 'https://live.staticflickr.com/65535/49500380033_7c24dc0804_s.jpg', 'height': '75', 'width': '75'}], 'href': '', 'media_credit': [{'role': 'photographer', 'content': 'AgWired'}], 'credit': 'AgWired', 'tags': [{'term': 'cattle industry convention cbb ncba ancw national cattlemens beef association board food beefmeet cattlecon20 agriculture farm agwired zimmcomm new media chuck zimmerman', 'scheme': 'urn:flickr:tags', 'label': None}]}, {'title': 'cic-20-329', 'title_detail': {'type': 'text/plain', 'language': None, 'base': 'https://api.flickr.com/services/feeds/photos_public.gne?tags=food&format=rss2', 'value': 'cic-20-329'}, 'links': [{'rel': 'alternate', 'type': 'text/html', 'href': 'https://www.flickr.com/photos/zimmcomm/49501113632/'}, {'type': 'image/jpeg', 'href': 'https://live.staticflickr.com/65535/49501113632_c8c14e7fb3_b.jpg', 'rel': 'enclosure'}], 'link': 'https://www.flickr.com/photos/zimmcomm/49501113632/', 'summary': '<p><a href=\"https://www.flickr.com/people/zimmcomm/\">AgWired</a> posted a photo:</p>\\n\\t\\n<p><a href=\"https://www.flickr.com/photos/zimmcomm/49501113632/\" title=\"cic-20-329\"><img src=\"https://live.staticflickr.com/65535/49501113632_c8c14e7fb3_m.jpg\" width=\"240\" height=\"160\" alt=\"cic-20-329\" /></a></p>', 'summary_detail': {'type': 'text/html', 'language': None, 'base': 'https://api.flickr.com/services/feeds/photos_public.gne?tags=food&format=rss2', 'value': '<p><a href=\"https://www.flickr.com/people/zimmcomm/\">AgWired</a> posted a photo:</p>\\n\\t\\n<p><a href=\"https://www.flickr.com/photos/zimmcomm/49501113632/\" title=\"cic-20-329\"><img src=\"https://live.staticflickr.com/65535/49501113632_c8c14e7fb3_m.jpg\" width=\"240\" height=\"160\" alt=\"cic-20-329\" /></a></p>'}, 'published': 'Fri, 07 Feb 2020 03:35:56 -0800', 'published_parsed': time.struct_time(tm_year=2020, tm_mon=2, tm_mday=7, tm_hour=11, tm_min=35, tm_sec=56, tm_wday=4, tm_yday=38, tm_isdst=0), 'dc_date.taken': '2020-02-06T12:46:39-08:00', 'authors': [{'name': 'AgWired', 'email': 'nobody@flickr.com'}], 'author': 'nobody@flickr.com (AgWired)', 'author_detail': {'name': 'AgWired', 'email': 'nobody@flickr.com'}, 'id': 'tag:flickr.com,2004:/photo/49501113632', 'guidislink': False, 'media_content': [{'url': 'https://live.staticflickr.com/65535/49501113632_c8c14e7fb3_b.jpg', 'type': 'image/jpeg', 'height': '684', 'width': '1024'}], 'media_thumbnail': [{'url': 'https://live.staticflickr.com/65535/49501113632_c8c14e7fb3_s.jpg', 'height': '75', 'width': '75'}], 'href': '', 'media_credit': [{'role': 'photographer', 'content': 'AgWired'}], 'credit': 'AgWired', 'tags': [{'term': 'cattle industry convention cbb ncba ancw national cattlemens beef association board food beefmeet cattlecon20 agriculture farm agwired zimmcomm new media chuck zimmerman', 'scheme': 'urn:flickr:tags', 'label': None}]}, {'title': 'cic-20-335', 'title_detail': {'type': 'text/plain', 'language': None, 'base': 'https://api.flickr.com/services/feeds/photos_public.gne?tags=food&format=rss2', 'value': 'cic-20-335'}, 'links': [{'rel': 'alternate', 'type': 'text/html', 'href': 'https://www.flickr.com/photos/zimmcomm/49500885906/'}, {'type': 'image/jpeg', 'href': 'https://live.staticflickr.com/65535/49500885906_686b9eb10b_b.jpg', 'rel': 'enclosure'}], 'link': 'https://www.flickr.com/photos/zimmcomm/49500885906/', 'summary': '<p><a href=\"https://www.flickr.com/people/zimmcomm/\">AgWired</a> posted a photo:</p>\\n\\t\\n<p><a href=\"https://www.flickr.com/photos/zimmcomm/49500885906/\" title=\"cic-20-335\"><img src=\"https://live.staticflickr.com/65535/49500885906_686b9eb10b_m.jpg\" width=\"240\" height=\"160\" alt=\"cic-20-335\" /></a></p>', 'summary_detail': {'type': 'text/html', 'language': None, 'base': 'https://api.flickr.com/services/feeds/photos_public.gne?tags=food&format=rss2', 'value': '<p><a href=\"https://www.flickr.com/people/zimmcomm/\">AgWired</a> posted a photo:</p>\\n\\t\\n<p><a href=\"https://www.flickr.com/photos/zimmcomm/49500885906/\" title=\"cic-20-335\"><img src=\"https://live.staticflickr.com/65535/49500885906_686b9eb10b_m.jpg\" width=\"240\" height=\"160\" alt=\"cic-20-335\" /></a></p>'}, 'published': 'Fri, 07 Feb 2020 03:36:01 -0800', 'published_parsed': time.struct_time(tm_year=2020, tm_mon=2, tm_mday=7, tm_hour=11, tm_min=36, tm_sec=1, tm_wday=4, tm_yday=38, tm_isdst=0), 'dc_date.taken': '2020-02-06T13:24:25-08:00', 'authors': [{'name': 'AgWired', 'email': 'nobody@flickr.com'}], 'author': 'nobody@flickr.com (AgWired)', 'author_detail': {'name': 'AgWired', 'email': 'nobody@flickr.com'}, 'id': 'tag:flickr.com,2004:/photo/49500885906', 'guidislink': False, 'media_content': [{'url': 'https://live.staticflickr.com/65535/49500885906_686b9eb10b_b.jpg', 'type': 'image/jpeg', 'height': '684', 'width': '1024'}], 'media_thumbnail': [{'url': 'https://live.staticflickr.com/65535/49500885906_686b9eb10b_s.jpg', 'height': '75', 'width': '75'}], 'href': '', 'media_credit': [{'role': 'photographer', 'content': 'AgWired'}], 'credit': 'AgWired', 'tags': [{'term': 'cattle industry convention cbb ncba ancw national cattlemens beef association board food beefmeet cattlecon20 agriculture farm agwired zimmcomm new media chuck zimmerman', 'scheme': 'urn:flickr:tags', 'label': None}]}, {'title': 'cic-20-334', 'title_detail': {'type': 'text/plain', 'language': None, 'base': 'https://api.flickr.com/services/feeds/photos_public.gne?tags=food&format=rss2', 'value': 'cic-20-334'}, 'links': [{'rel': 'alternate', 'type': 'text/html', 'href': 'https://www.flickr.com/photos/zimmcomm/49501106657/'}, {'type': 'image/jpeg', 'href': 'https://live.staticflickr.com/65535/49501106657_de06c2a987_b.jpg', 'rel': 'enclosure'}], 'link': 'https://www.flickr.com/photos/zimmcomm/49501106657/', 'summary': '<p><a href=\"https://www.flickr.com/people/zimmcomm/\">AgWired</a> posted a photo:</p>\\n\\t\\n<p><a href=\"https://www.flickr.com/photos/zimmcomm/49501106657/\" title=\"cic-20-334\"><img src=\"https://live.staticflickr.com/65535/49501106657_de06c2a987_m.jpg\" width=\"240\" height=\"160\" alt=\"cic-20-334\" /></a></p>', 'summary_detail': {'type': 'text/html', 'language': None, 'base': 'https://api.flickr.com/services/feeds/photos_public.gne?tags=food&format=rss2', 'value': '<p><a href=\"https://www.flickr.com/people/zimmcomm/\">AgWired</a> posted a photo:</p>\\n\\t\\n<p><a href=\"https://www.flickr.com/photos/zimmcomm/49501106657/\" title=\"cic-20-334\"><img src=\"https://live.staticflickr.com/65535/49501106657_de06c2a987_m.jpg\" width=\"240\" height=\"160\" alt=\"cic-20-334\" /></a></p>'}, 'published': 'Fri, 07 Feb 2020 03:36:00 -0800', 'published_parsed': time.struct_time(tm_year=2020, tm_mon=2, tm_mday=7, tm_hour=11, tm_min=36, tm_sec=0, tm_wday=4, tm_yday=38, tm_isdst=0), 'dc_date.taken': '2020-02-06T13:22:55-08:00', 'authors': [{'name': 'AgWired', 'email': 'nobody@flickr.com'}], 'author': 'nobody@flickr.com (AgWired)', 'author_detail': {'name': 'AgWired', 'email': 'nobody@flickr.com'}, 'id': 'tag:flickr.com,2004:/photo/49501106657', 'guidislink': False, 'media_content': [{'url': 'https://live.staticflickr.com/65535/49501106657_de06c2a987_b.jpg', 'type': 'image/jpeg', 'height': '684', 'width': '1024'}], 'media_thumbnail': [{'url': 'https://live.staticflickr.com/65535/49501106657_de06c2a987_s.jpg', 'height': '75', 'width': '75'}], 'href': '', 'media_credit': [{'role': 'photographer', 'content': 'AgWired'}], 'credit': 'AgWired', 'tags': [{'term': 'industry cattle convention cbb ncba ancw food farm beef board national agriculture association agwired cattlemens zimmcomm beefmeet cattlecon20 new media chuck zimmerman', 'scheme': 'urn:flickr:tags', 'label': None}]}, {'title': 'cic-20-331', 'title_detail': {'type': 'text/plain', 'language': None, 'base': 'https://api.flickr.com/services/feeds/photos_public.gne?tags=food&format=rss2', 'value': 'cic-20-331'}, 'links': [{'rel': 'alternate', 'type': 'text/html', 'href': 'https://www.flickr.com/photos/zimmcomm/49500891221/'}, {'type': 'image/jpeg', 'href': 'https://live.staticflickr.com/65535/49500891221_ef2ca5a4f9_b.jpg', 'rel': 'enclosure'}], 'link': 'https://www.flickr.com/photos/zimmcomm/49500891221/', 'summary': '<p><a href=\"https://www.flickr.com/people/zimmcomm/\">AgWired</a> posted a photo:</p>\\n\\t\\n<p><a href=\"https://www.flickr.com/photos/zimmcomm/49500891221/\" title=\"cic-20-331\"><img src=\"https://live.staticflickr.com/65535/49500891221_ef2ca5a4f9_m.jpg\" width=\"240\" height=\"160\" alt=\"cic-20-331\" /></a></p>', 'summary_detail': {'type': 'text/html', 'language': None, 'base': 'https://api.flickr.com/services/feeds/photos_public.gne?tags=food&format=rss2', 'value': '<p><a href=\"https://www.flickr.com/people/zimmcomm/\">AgWired</a> posted a photo:</p>\\n\\t\\n<p><a href=\"https://www.flickr.com/photos/zimmcomm/49500891221/\" title=\"cic-20-331\"><img src=\"https://live.staticflickr.com/65535/49500891221_ef2ca5a4f9_m.jpg\" width=\"240\" height=\"160\" alt=\"cic-20-331\" /></a></p>'}, 'published': 'Fri, 07 Feb 2020 03:35:58 -0800', 'published_parsed': time.struct_time(tm_year=2020, tm_mon=2, tm_mday=7, tm_hour=11, tm_min=35, tm_sec=58, tm_wday=4, tm_yday=38, tm_isdst=0), 'dc_date.taken': '2020-02-06T13:20:18-08:00', 'authors': [{'name': 'AgWired', 'email': 'nobody@flickr.com'}], 'author': 'nobody@flickr.com (AgWired)', 'author_detail': {'name': 'AgWired', 'email': 'nobody@flickr.com'}, 'id': 'tag:flickr.com,2004:/photo/49500891221', 'guidislink': False, 'media_content': [{'url': 'https://live.staticflickr.com/65535/49500891221_ef2ca5a4f9_b.jpg', 'type': 'image/jpeg', 'height': '684', 'width': '1024'}], 'media_thumbnail': [{'url': 'https://live.staticflickr.com/65535/49500891221_ef2ca5a4f9_s.jpg', 'height': '75', 'width': '75'}], 'href': '', 'media_credit': [{'role': 'photographer', 'content': 'AgWired'}], 'credit': 'AgWired', 'tags': [{'term': 'cattle industry convention cbb ncba ancw national cattlemens beef association board food beefmeet cattlecon20 agriculture farm agwired zimmcomm new media chuck zimmerman', 'scheme': 'urn:flickr:tags', 'label': None}]}, {'title': 'cic-20-321', 'title_detail': {'type': 'text/plain', 'language': None, 'base': 'https://api.flickr.com/services/feeds/photos_public.gne?tags=food&format=rss2', 'value': 'cic-20-321'}, 'links': [{'rel': 'alternate', 'type': 'text/html', 'href': 'https://www.flickr.com/photos/zimmcomm/49501122752/'}, {'type': 'image/jpeg', 'href': 'https://live.staticflickr.com/65535/49501122752_4d40068212_b.jpg', 'rel': 'enclosure'}], 'link': 'https://www.flickr.com/photos/zimmcomm/49501122752/', 'summary': '<p><a href=\"https://www.flickr.com/people/zimmcomm/\">AgWired</a> posted a photo:</p>\\n\\t\\n<p><a href=\"https://www.flickr.com/photos/zimmcomm/49501122752/\" title=\"cic-20-321\"><img src=\"https://live.staticflickr.com/65535/49501122752_4d40068212_m.jpg\" width=\"240\" height=\"160\" alt=\"cic-20-321\" /></a></p>', 'summary_detail': {'type': 'text/html', 'language': None, 'base': 'https://api.flickr.com/services/feeds/photos_public.gne?tags=food&format=rss2', 'value': '<p><a href=\"https://www.flickr.com/people/zimmcomm/\">AgWired</a> posted a photo:</p>\\n\\t\\n<p><a href=\"https://www.flickr.com/photos/zimmcomm/49501122752/\" title=\"cic-20-321\"><img src=\"https://live.staticflickr.com/65535/49501122752_4d40068212_m.jpg\" width=\"240\" height=\"160\" alt=\"cic-20-321\" /></a></p>'}, 'published': 'Fri, 07 Feb 2020 03:35:51 -0800', 'published_parsed': time.struct_time(tm_year=2020, tm_mon=2, tm_mday=7, tm_hour=11, tm_min=35, tm_sec=51, tm_wday=4, tm_yday=38, tm_isdst=0), 'dc_date.taken': '2020-02-06T12:41:25-08:00', 'authors': [{'name': 'AgWired', 'email': 'nobody@flickr.com'}], 'author': 'nobody@flickr.com (AgWired)', 'author_detail': {'name': 'AgWired', 'email': 'nobody@flickr.com'}, 'id': 'tag:flickr.com,2004:/photo/49501122752', 'guidislink': False, 'media_content': [{'url': 'https://live.staticflickr.com/65535/49501122752_4d40068212_b.jpg', 'type': 'image/jpeg', 'height': '684', 'width': '1024'}], 'media_thumbnail': [{'url': 'https://live.staticflickr.com/65535/49501122752_4d40068212_s.jpg', 'height': '75', 'width': '75'}], 'href': '', 'media_credit': [{'role': 'photographer', 'content': 'AgWired'}], 'credit': 'AgWired', 'tags': [{'term': 'cattle industry convention cbb ncba ancw national cattlemens beef association board food beefmeet cattlecon20 agriculture farm agwired zimmcomm new media chuck zimmerman', 'scheme': 'urn:flickr:tags', 'label': None}]}, {'title': 'cic-20-319', 'title_detail': {'type': 'text/plain', 'language': None, 'base': 'https://api.flickr.com/services/feeds/photos_public.gne?tags=food&format=rss2', 'value': 'cic-20-319'}, 'links': [{'rel': 'alternate', 'type': 'text/html', 'href': 'https://www.flickr.com/photos/zimmcomm/49500402723/'}, {'type': 'image/jpeg', 'href': 'https://live.staticflickr.com/65535/49500402723_023f961bd6_b.jpg', 'rel': 'enclosure'}], 'link': 'https://www.flickr.com/photos/zimmcomm/49500402723/', 'summary': '<p><a href=\"https://www.flickr.com/people/zimmcomm/\">AgWired</a> posted a photo:</p>\\n\\t\\n<p><a href=\"https://www.flickr.com/photos/zimmcomm/49500402723/\" title=\"cic-20-319\"><img src=\"https://live.staticflickr.com/65535/49500402723_023f961bd6_m.jpg\" width=\"240\" height=\"160\" alt=\"cic-20-319\" /></a></p>', 'summary_detail': {'type': 'text/html', 'language': None, 'base': 'https://api.flickr.com/services/feeds/photos_public.gne?tags=food&format=rss2', 'value': '<p><a href=\"https://www.flickr.com/people/zimmcomm/\">AgWired</a> posted a photo:</p>\\n\\t\\n<p><a href=\"https://www.flickr.com/photos/zimmcomm/49500402723/\" title=\"cic-20-319\"><img src=\"https://live.staticflickr.com/65535/49500402723_023f961bd6_m.jpg\" width=\"240\" height=\"160\" alt=\"cic-20-319\" /></a></p>'}, 'published': 'Fri, 07 Feb 2020 03:35:51 -0800', 'published_parsed': time.struct_time(tm_year=2020, tm_mon=2, tm_mday=7, tm_hour=11, tm_min=35, tm_sec=51, tm_wday=4, tm_yday=38, tm_isdst=0), 'dc_date.taken': '2020-02-06T12:17:47-08:00', 'authors': [{'name': 'AgWired', 'email': 'nobody@flickr.com'}], 'author': 'nobody@flickr.com (AgWired)', 'author_detail': {'name': 'AgWired', 'email': 'nobody@flickr.com'}, 'id': 'tag:flickr.com,2004:/photo/49500402723', 'guidislink': False, 'media_content': [{'url': 'https://live.staticflickr.com/65535/49500402723_023f961bd6_b.jpg', 'type': 'image/jpeg', 'height': '684', 'width': '1024'}], 'media_thumbnail': [{'url': 'https://live.staticflickr.com/65535/49500402723_023f961bd6_s.jpg', 'height': '75', 'width': '75'}], 'href': '', 'media_credit': [{'role': 'photographer', 'content': 'AgWired'}], 'credit': 'AgWired', 'tags': [{'term': 'cattle industry convention cbb ncba ancw national cattlemens beef association board food beefmeet cattlecon20 agriculture farm agwired zimmcomm new media chuck zimmerman', 'scheme': 'urn:flickr:tags', 'label': None}]}], 'bozo': 0, 'headers': {'Date': 'Fri, 07 Feb 2020 13:46:21 GMT', 'Pragma': 'no-cache', 'Server': 'Apache/2.4.41 (Ubuntu)', 'Expires': 'Mon, 26 Jul 1997 05:00:00 GMT', 'X-Cache': 'Miss from cloudfront, MISS from 194.66.238.27', 'Connection': 'Close', 'Set-Cookie': 'xb=969727; expires=Mon, 04-Feb-2030 13:46:20 GMT; Max-Age=315360000; path=/; domain=.flickr.com', 'X-Amz-Cf-Id': 'f58mA5ZL0w8-lI-9TvSCDUnLjlGlGn09CZ1q_GVgMzbJTa0oTew8yQ==', 'Content-Type': 'text/xml; charset=utf-8', 'X-Amz-Cf-Pop': 'MAN50-C2', 'Cache-Control': 'private, no-store, no-cache, must-revalidate', 'Last-Modified': 'Fri, 07 Feb 2020 12:41:31 GMT', 'X-Frame-Options': 'SAMEORIGIN', 'Transfer-Encoding': 'chunked'}, 'updated': 'Fri, 07 Feb 2020 12:41:31 GMT', 'updated_parsed': time.struct_time(tm_year=2020, tm_mon=2, tm_mday=7, tm_hour=12, tm_min=41, tm_sec=31, tm_wday=4, tm_yday=38, tm_isdst=0), 'href': 'https://api.flickr.com/services/feeds/photos_public.gne?tags=food&format=rss2', 'status': 200, 'encoding': 'utf-8', 'version': 'rss20', 'namespaces': {'media': 'http://search.yahoo.com/mrss/', 'dc': 'http://purl.org/dc/elements/1.1/', 'creativeCommons': 'http://cyber.law.harvard.edu/rss/creativeCommonsRssModule.html', 'flickr': 'urn:flickr:user'}}\n"
     ]
    }
   ],
   "source": [
    "print(type(d),d)"
   ]
  },
  {
   "cell_type": "markdown",
   "metadata": {},
   "source": [
    "So 'd' is a dictionary-type object, that may contain one or more nested dictionaries. We can see what we're working with by looking at the dictionary keys:"
   ]
  },
  {
   "cell_type": "code",
   "execution_count": 265,
   "metadata": {},
   "outputs": [
    {
     "data": {
      "text/plain": [
       "dict_keys(['feed', 'entries', 'bozo', 'headers', 'updated', 'updated_parsed', 'href', 'status', 'encoding', 'version', 'namespaces'])"
      ]
     },
     "execution_count": 265,
     "metadata": {},
     "output_type": "execute_result"
    }
   ],
   "source": [
    "d.keys()"
   ]
  },
  {
   "cell_type": "markdown",
   "metadata": {},
   "source": [
    "The things we're interested in here are within 'entries', though you can obviously take a look at the other keys! \n",
    "\n",
    "I've gone one step further and looked inside `d['entries']`, printing out the `'title'` and `'link'` key-values"
   ]
  },
  {
   "cell_type": "code",
   "execution_count": 266,
   "metadata": {},
   "outputs": [
    {
     "name": "stdout",
     "output_type": "stream",
     "text": [
      "hybrid vegetables Seeds https://www.flickr.com/photos/186859685@N06/49500599213/\n",
      "Salsiccia pizza https://www.flickr.com/photos/skumroffe/49501091321/\n",
      "Alles Gute zum Geburtstag, liebe AnnA!! https://www.flickr.com/photos/magister111/49500517018/\n",
      "瓦城乾拌麵 https://www.flickr.com/photos/benagexyz/49500559473/\n",
      "Menu Book https://www.flickr.com/photos/186819013@N05/49500494468/\n",
      "Honey Bee in Garden https://www.flickr.com/photos/99144705@N06/49501235752/\n",
      "Honey Bee in Garden https://www.flickr.com/photos/99144705@N06/49501235667/\n",
      "ちらし近江町 ¥1530 https://www.flickr.com/photos/62942199@N08/49500472893/\n",
      "ちらし近江町 ¥1530 https://www.flickr.com/photos/62942199@N08/49501197932/\n",
      "DSCF6454 https://www.flickr.com/photos/aaroncaley/49501157512/\n",
      "Croque-monsieur / クロックムッシュセット / danken COFFEE 天文館店 (鹿児島県鹿児島市) https://www.flickr.com/photos/y_shindoh/49501154562/\n",
      "cic-20-328 https://www.flickr.com/photos/zimmcomm/49501114897/\n",
      "cic-20-326 https://www.flickr.com/photos/zimmcomm/49501117272/\n",
      "cic-20-337 https://www.flickr.com/photos/zimmcomm/49500380033/\n",
      "cic-20-329 https://www.flickr.com/photos/zimmcomm/49501113632/\n",
      "cic-20-335 https://www.flickr.com/photos/zimmcomm/49500885906/\n",
      "cic-20-334 https://www.flickr.com/photos/zimmcomm/49501106657/\n",
      "cic-20-331 https://www.flickr.com/photos/zimmcomm/49500891221/\n",
      "cic-20-321 https://www.flickr.com/photos/zimmcomm/49501122752/\n",
      "cic-20-319 https://www.flickr.com/photos/zimmcomm/49500402723/\n"
     ]
    }
   ],
   "source": [
    "for entry in d['entries']:\n",
    "    print(entry['title'],entry['link'])"
   ]
  },
  {
   "cell_type": "markdown",
   "metadata": {},
   "source": [
    "Looking good! This retrieves some useful information and is better than just looking at raw XML. We can go a little further by \n",
    "getting the results into a pandas dataframe - after looking through the data a little to see how it is formatted and what information we would ultimately like to see"
   ]
  },
  {
   "cell_type": "code",
   "execution_count": 281,
   "metadata": {},
   "outputs": [],
   "source": [
    "import pandas as pd\n",
    "import numpy as np\n",
    "df=pd.DataFrame(d['entries'])"
   ]
  },
  {
   "cell_type": "code",
   "execution_count": 282,
   "metadata": {},
   "outputs": [
    {
     "data": {
      "text/html": [
       "<div>\n",
       "<style scoped>\n",
       "    .dataframe tbody tr th:only-of-type {\n",
       "        vertical-align: middle;\n",
       "    }\n",
       "\n",
       "    .dataframe tbody tr th {\n",
       "        vertical-align: top;\n",
       "    }\n",
       "\n",
       "    .dataframe thead th {\n",
       "        text-align: right;\n",
       "    }\n",
       "</style>\n",
       "<table border=\"1\" class=\"dataframe\">\n",
       "  <thead>\n",
       "    <tr style=\"text-align: right;\">\n",
       "      <th></th>\n",
       "      <th>author</th>\n",
       "      <th>author_detail</th>\n",
       "      <th>authors</th>\n",
       "      <th>content</th>\n",
       "      <th>credit</th>\n",
       "      <th>dc_date.taken</th>\n",
       "      <th>guidislink</th>\n",
       "      <th>href</th>\n",
       "      <th>id</th>\n",
       "      <th>link</th>\n",
       "      <th>...</th>\n",
       "      <th>media_content</th>\n",
       "      <th>media_credit</th>\n",
       "      <th>media_thumbnail</th>\n",
       "      <th>published</th>\n",
       "      <th>published_parsed</th>\n",
       "      <th>summary</th>\n",
       "      <th>summary_detail</th>\n",
       "      <th>tags</th>\n",
       "      <th>title</th>\n",
       "      <th>title_detail</th>\n",
       "    </tr>\n",
       "  </thead>\n",
       "  <tbody>\n",
       "    <tr>\n",
       "      <th>0</th>\n",
       "      <td>nobody@flickr.com (sakuraseed363)</td>\n",
       "      <td>{'name': 'sakuraseed363', 'email': 'nobody@fli...</td>\n",
       "      <td>[{'name': 'sakuraseed363', 'email': 'nobody@fl...</td>\n",
       "      <td>[{'type': 'text/html', 'language': None, 'base...</td>\n",
       "      <td>sakuraseed363</td>\n",
       "      <td>2020-02-07T04:40:54-08:00</td>\n",
       "      <td>False</td>\n",
       "      <td></td>\n",
       "      <td>tag:flickr.com,2004:/photo/49500599213</td>\n",
       "      <td>https://www.flickr.com/photos/186859685@N06/49...</td>\n",
       "      <td>...</td>\n",
       "      <td>[{'url': 'https://live.staticflickr.com/65535/...</td>\n",
       "      <td>[{'role': 'photographer', 'content': 'sakurase...</td>\n",
       "      <td>[{'url': 'https://live.staticflickr.com/65535/...</td>\n",
       "      <td>Fri, 07 Feb 2020 04:41:31 -0800</td>\n",
       "      <td>(2020, 2, 7, 12, 41, 31, 4, 38, 0)</td>\n",
       "      <td>&lt;p&gt;&lt;a href=\"https://www.flickr.com/people/1868...</td>\n",
       "      <td>{'type': 'text/html', 'language': None, 'base'...</td>\n",
       "      <td>[{'term': 'beetroot sakuraseed seeds seed hybr...</td>\n",
       "      <td>hybrid vegetables Seeds</td>\n",
       "      <td>{'type': 'text/plain', 'language': None, 'base...</td>\n",
       "    </tr>\n",
       "    <tr>\n",
       "      <th>1</th>\n",
       "      <td>nobody@flickr.com (skumroffe)</td>\n",
       "      <td>{'name': 'skumroffe', 'email': 'nobody@flickr....</td>\n",
       "      <td>[{'name': 'skumroffe', 'email': 'nobody@flickr...</td>\n",
       "      <td>[{'type': 'text/html', 'language': None, 'base...</td>\n",
       "      <td>skumroffe</td>\n",
       "      <td>2020-02-04T18:18:09-08:00</td>\n",
       "      <td>False</td>\n",
       "      <td></td>\n",
       "      <td>tag:flickr.com,2004:/photo/49501091321</td>\n",
       "      <td>https://www.flickr.com/photos/skumroffe/495010...</td>\n",
       "      <td>...</td>\n",
       "      <td>[{'url': 'https://live.staticflickr.com/65535/...</td>\n",
       "      <td>[{'role': 'photographer', 'content': 'skumroff...</td>\n",
       "      <td>[{'url': 'https://live.staticflickr.com/65535/...</td>\n",
       "      <td>Fri, 07 Feb 2020 04:36:52 -0800</td>\n",
       "      <td>(2020, 2, 7, 12, 36, 52, 4, 38, 0)</td>\n",
       "      <td>&lt;p&gt;&lt;a href=\"https://www.flickr.com/people/skum...</td>\n",
       "      <td>{'type': 'text/html', 'language': None, 'base'...</td>\n",
       "      <td>[{'term': 'salsicciapizza pizza furelliosristo...</td>\n",
       "      <td>Salsiccia pizza</td>\n",
       "      <td>{'type': 'text/plain', 'language': None, 'base...</td>\n",
       "    </tr>\n",
       "    <tr>\n",
       "      <th>2</th>\n",
       "      <td>nobody@flickr.com (magister111)</td>\n",
       "      <td>{'name': 'magister111', 'email': 'nobody@flick...</td>\n",
       "      <td>[{'name': 'magister111', 'email': 'nobody@flic...</td>\n",
       "      <td>[{'type': 'text/html', 'language': None, 'base...</td>\n",
       "      <td>magister111</td>\n",
       "      <td>2019-12-29T18:31:20-08:00</td>\n",
       "      <td>False</td>\n",
       "      <td></td>\n",
       "      <td>tag:flickr.com,2004:/photo/49500517018</td>\n",
       "      <td>https://www.flickr.com/photos/magister111/4950...</td>\n",
       "      <td>...</td>\n",
       "      <td>[{'url': 'https://live.staticflickr.com/65535/...</td>\n",
       "      <td>[{'role': 'photographer', 'content': 'magister...</td>\n",
       "      <td>[{'url': 'https://live.staticflickr.com/65535/...</td>\n",
       "      <td>Fri, 07 Feb 2020 04:23:54 -0800</td>\n",
       "      <td>(2020, 2, 7, 12, 23, 54, 4, 38, 0)</td>\n",
       "      <td>&lt;p&gt;&lt;a href=\"https://www.flickr.com/people/magi...</td>\n",
       "      <td>{'type': 'text/html', 'language': None, 'base'...</td>\n",
       "      <td>[{'term': 'milano cakes food', 'scheme': 'urn:...</td>\n",
       "      <td>Alles Gute zum Geburtstag, liebe AnnA!!</td>\n",
       "      <td>{'type': 'text/plain', 'language': None, 'base...</td>\n",
       "    </tr>\n",
       "  </tbody>\n",
       "</table>\n",
       "<p>3 rows × 21 columns</p>\n",
       "</div>"
      ],
      "text/plain": [
       "                              author  \\\n",
       "0  nobody@flickr.com (sakuraseed363)   \n",
       "1      nobody@flickr.com (skumroffe)   \n",
       "2    nobody@flickr.com (magister111)   \n",
       "\n",
       "                                       author_detail  \\\n",
       "0  {'name': 'sakuraseed363', 'email': 'nobody@fli...   \n",
       "1  {'name': 'skumroffe', 'email': 'nobody@flickr....   \n",
       "2  {'name': 'magister111', 'email': 'nobody@flick...   \n",
       "\n",
       "                                             authors  \\\n",
       "0  [{'name': 'sakuraseed363', 'email': 'nobody@fl...   \n",
       "1  [{'name': 'skumroffe', 'email': 'nobody@flickr...   \n",
       "2  [{'name': 'magister111', 'email': 'nobody@flic...   \n",
       "\n",
       "                                             content         credit  \\\n",
       "0  [{'type': 'text/html', 'language': None, 'base...  sakuraseed363   \n",
       "1  [{'type': 'text/html', 'language': None, 'base...      skumroffe   \n",
       "2  [{'type': 'text/html', 'language': None, 'base...    magister111   \n",
       "\n",
       "               dc_date.taken  guidislink href  \\\n",
       "0  2020-02-07T04:40:54-08:00       False        \n",
       "1  2020-02-04T18:18:09-08:00       False        \n",
       "2  2019-12-29T18:31:20-08:00       False        \n",
       "\n",
       "                                       id  \\\n",
       "0  tag:flickr.com,2004:/photo/49500599213   \n",
       "1  tag:flickr.com,2004:/photo/49501091321   \n",
       "2  tag:flickr.com,2004:/photo/49500517018   \n",
       "\n",
       "                                                link  ...  \\\n",
       "0  https://www.flickr.com/photos/186859685@N06/49...  ...   \n",
       "1  https://www.flickr.com/photos/skumroffe/495010...  ...   \n",
       "2  https://www.flickr.com/photos/magister111/4950...  ...   \n",
       "\n",
       "                                       media_content  \\\n",
       "0  [{'url': 'https://live.staticflickr.com/65535/...   \n",
       "1  [{'url': 'https://live.staticflickr.com/65535/...   \n",
       "2  [{'url': 'https://live.staticflickr.com/65535/...   \n",
       "\n",
       "                                        media_credit  \\\n",
       "0  [{'role': 'photographer', 'content': 'sakurase...   \n",
       "1  [{'role': 'photographer', 'content': 'skumroff...   \n",
       "2  [{'role': 'photographer', 'content': 'magister...   \n",
       "\n",
       "                                     media_thumbnail  \\\n",
       "0  [{'url': 'https://live.staticflickr.com/65535/...   \n",
       "1  [{'url': 'https://live.staticflickr.com/65535/...   \n",
       "2  [{'url': 'https://live.staticflickr.com/65535/...   \n",
       "\n",
       "                         published                    published_parsed  \\\n",
       "0  Fri, 07 Feb 2020 04:41:31 -0800  (2020, 2, 7, 12, 41, 31, 4, 38, 0)   \n",
       "1  Fri, 07 Feb 2020 04:36:52 -0800  (2020, 2, 7, 12, 36, 52, 4, 38, 0)   \n",
       "2  Fri, 07 Feb 2020 04:23:54 -0800  (2020, 2, 7, 12, 23, 54, 4, 38, 0)   \n",
       "\n",
       "                                             summary  \\\n",
       "0  <p><a href=\"https://www.flickr.com/people/1868...   \n",
       "1  <p><a href=\"https://www.flickr.com/people/skum...   \n",
       "2  <p><a href=\"https://www.flickr.com/people/magi...   \n",
       "\n",
       "                                      summary_detail  \\\n",
       "0  {'type': 'text/html', 'language': None, 'base'...   \n",
       "1  {'type': 'text/html', 'language': None, 'base'...   \n",
       "2  {'type': 'text/html', 'language': None, 'base'...   \n",
       "\n",
       "                                                tags  \\\n",
       "0  [{'term': 'beetroot sakuraseed seeds seed hybr...   \n",
       "1  [{'term': 'salsicciapizza pizza furelliosristo...   \n",
       "2  [{'term': 'milano cakes food', 'scheme': 'urn:...   \n",
       "\n",
       "                                     title  \\\n",
       "0                  hybrid vegetables Seeds   \n",
       "1                          Salsiccia pizza   \n",
       "2  Alles Gute zum Geburtstag, liebe AnnA!!   \n",
       "\n",
       "                                        title_detail  \n",
       "0  {'type': 'text/plain', 'language': None, 'base...  \n",
       "1  {'type': 'text/plain', 'language': None, 'base...  \n",
       "2  {'type': 'text/plain', 'language': None, 'base...  \n",
       "\n",
       "[3 rows x 21 columns]"
      ]
     },
     "execution_count": 282,
     "metadata": {},
     "output_type": "execute_result"
    }
   ],
   "source": [
    "df.head(3)"
   ]
  },
  {
   "cell_type": "markdown",
   "metadata": {},
   "source": [
    "Printing the dataframe shows us the fields pandas has sorted d['entries'] into. Some of these values are also dictionaries, which we can index into and reassign like:"
   ]
  },
  {
   "cell_type": "code",
   "execution_count": 283,
   "metadata": {},
   "outputs": [
    {
     "data": {
      "text/plain": [
       "0                nobody@flickr.com (sakuraseed363)\n",
       "1                    nobody@flickr.com (skumroffe)\n",
       "2                  nobody@flickr.com (magister111)\n",
       "3         nobody@flickr.com (Ben Chen Photography)\n",
       "4                 nobody@flickr.com (nadirashakil)\n",
       "5     nobody@flickr.com (Daniel Heiss Photography)\n",
       "6     nobody@flickr.com (Daniel Heiss Photography)\n",
       "7                    nobody@flickr.com (Takashi H)\n",
       "8                    nobody@flickr.com (Takashi H)\n",
       "9                   nobody@flickr.com (aaroncaley)\n",
       "10                   nobody@flickr.com (y-shindoh)\n",
       "11                     nobody@flickr.com (AgWired)\n",
       "12                     nobody@flickr.com (AgWired)\n",
       "13                     nobody@flickr.com (AgWired)\n",
       "14                     nobody@flickr.com (AgWired)\n",
       "15                     nobody@flickr.com (AgWired)\n",
       "16                     nobody@flickr.com (AgWired)\n",
       "17                     nobody@flickr.com (AgWired)\n",
       "18                     nobody@flickr.com (AgWired)\n",
       "19                     nobody@flickr.com (AgWired)\n",
       "Name: author, dtype: object"
      ]
     },
     "execution_count": 283,
     "metadata": {},
     "output_type": "execute_result"
    }
   ],
   "source": [
    "df['author']"
   ]
  },
  {
   "cell_type": "code",
   "execution_count": 284,
   "metadata": {},
   "outputs": [],
   "source": [
    "authorList=[]\n",
    "for author in range(0,len(df['authors'])):\n",
    "    authorList.append(df['authors'][author][0]['name'])\n",
    "df['author']=authorList"
   ]
  },
  {
   "cell_type": "code",
   "execution_count": 285,
   "metadata": {},
   "outputs": [
    {
     "data": {
      "text/plain": [
       "0                sakuraseed363\n",
       "1                    skumroffe\n",
       "2                  magister111\n",
       "3         Ben Chen Photography\n",
       "4                 nadirashakil\n",
       "5     Daniel Heiss Photography\n",
       "6     Daniel Heiss Photography\n",
       "7                    Takashi H\n",
       "8                    Takashi H\n",
       "9                   aaroncaley\n",
       "10                   y-shindoh\n",
       "11                     AgWired\n",
       "12                     AgWired\n",
       "13                     AgWired\n",
       "14                     AgWired\n",
       "15                     AgWired\n",
       "16                     AgWired\n",
       "17                     AgWired\n",
       "18                     AgWired\n",
       "19                     AgWired\n",
       "Name: author, dtype: object"
      ]
     },
     "execution_count": 285,
     "metadata": {},
     "output_type": "execute_result"
    }
   ],
   "source": [
    "df['author']"
   ]
  },
  {
   "cell_type": "markdown",
   "metadata": {},
   "source": [
    "Then we can restrict what we see in the final dataframe, while also changing the order of some of the columns around a little"
   ]
  },
  {
   "cell_type": "code",
   "execution_count": 287,
   "metadata": {},
   "outputs": [
    {
     "data": {
      "text/html": [
       "<div>\n",
       "<style scoped>\n",
       "    .dataframe tbody tr th:only-of-type {\n",
       "        vertical-align: middle;\n",
       "    }\n",
       "\n",
       "    .dataframe tbody tr th {\n",
       "        vertical-align: top;\n",
       "    }\n",
       "\n",
       "    .dataframe thead th {\n",
       "        text-align: right;\n",
       "    }\n",
       "</style>\n",
       "<table border=\"1\" class=\"dataframe\">\n",
       "  <thead>\n",
       "    <tr style=\"text-align: right;\">\n",
       "      <th></th>\n",
       "      <th>author</th>\n",
       "      <th>title</th>\n",
       "      <th>link</th>\n",
       "      <th>summary</th>\n",
       "    </tr>\n",
       "  </thead>\n",
       "  <tbody>\n",
       "    <tr>\n",
       "      <th>0</th>\n",
       "      <td>sakuraseed363</td>\n",
       "      <td>hybrid vegetables Seeds</td>\n",
       "      <td>https://www.flickr.com/photos/186859685@N06/49...</td>\n",
       "      <td>&lt;p&gt;&lt;a href=\"https://www.flickr.com/people/1868...</td>\n",
       "    </tr>\n",
       "    <tr>\n",
       "      <th>1</th>\n",
       "      <td>skumroffe</td>\n",
       "      <td>Salsiccia pizza</td>\n",
       "      <td>https://www.flickr.com/photos/skumroffe/495010...</td>\n",
       "      <td>&lt;p&gt;&lt;a href=\"https://www.flickr.com/people/skum...</td>\n",
       "    </tr>\n",
       "    <tr>\n",
       "      <th>2</th>\n",
       "      <td>magister111</td>\n",
       "      <td>Alles Gute zum Geburtstag, liebe AnnA!!</td>\n",
       "      <td>https://www.flickr.com/photos/magister111/4950...</td>\n",
       "      <td>&lt;p&gt;&lt;a href=\"https://www.flickr.com/people/magi...</td>\n",
       "    </tr>\n",
       "    <tr>\n",
       "      <th>3</th>\n",
       "      <td>Ben Chen Photography</td>\n",
       "      <td>瓦城乾拌麵</td>\n",
       "      <td>https://www.flickr.com/photos/benagexyz/495005...</td>\n",
       "      <td>&lt;p&gt;&lt;a href=\"https://www.flickr.com/people/bena...</td>\n",
       "    </tr>\n",
       "    <tr>\n",
       "      <th>4</th>\n",
       "      <td>nadirashakil</td>\n",
       "      <td>Menu Book</td>\n",
       "      <td>https://www.flickr.com/photos/186819013@N05/49...</td>\n",
       "      <td>&lt;p&gt;&lt;a href=\"https://www.flickr.com/people/1868...</td>\n",
       "    </tr>\n",
       "    <tr>\n",
       "      <th>5</th>\n",
       "      <td>Daniel Heiss Photography</td>\n",
       "      <td>Honey Bee in Garden</td>\n",
       "      <td>https://www.flickr.com/photos/99144705@N06/495...</td>\n",
       "      <td>&lt;p&gt;&lt;a href=\"https://www.flickr.com/people/9914...</td>\n",
       "    </tr>\n",
       "    <tr>\n",
       "      <th>6</th>\n",
       "      <td>Daniel Heiss Photography</td>\n",
       "      <td>Honey Bee in Garden</td>\n",
       "      <td>https://www.flickr.com/photos/99144705@N06/495...</td>\n",
       "      <td>&lt;p&gt;&lt;a href=\"https://www.flickr.com/people/9914...</td>\n",
       "    </tr>\n",
       "    <tr>\n",
       "      <th>7</th>\n",
       "      <td>Takashi H</td>\n",
       "      <td>ちらし近江町 ¥1530</td>\n",
       "      <td>https://www.flickr.com/photos/62942199@N08/495...</td>\n",
       "      <td>&lt;p&gt;&lt;a href=\"https://www.flickr.com/people/6294...</td>\n",
       "    </tr>\n",
       "    <tr>\n",
       "      <th>8</th>\n",
       "      <td>Takashi H</td>\n",
       "      <td>ちらし近江町 ¥1530</td>\n",
       "      <td>https://www.flickr.com/photos/62942199@N08/495...</td>\n",
       "      <td>&lt;p&gt;&lt;a href=\"https://www.flickr.com/people/6294...</td>\n",
       "    </tr>\n",
       "    <tr>\n",
       "      <th>9</th>\n",
       "      <td>aaroncaley</td>\n",
       "      <td>DSCF6454</td>\n",
       "      <td>https://www.flickr.com/photos/aaroncaley/49501...</td>\n",
       "      <td>&lt;p&gt;&lt;a href=\"https://www.flickr.com/people/aaro...</td>\n",
       "    </tr>\n",
       "    <tr>\n",
       "      <th>10</th>\n",
       "      <td>y-shindoh</td>\n",
       "      <td>Croque-monsieur / クロックムッシュセット / danken COFFEE ...</td>\n",
       "      <td>https://www.flickr.com/photos/y_shindoh/495011...</td>\n",
       "      <td>&lt;p&gt;&lt;a href=\"https://www.flickr.com/people/y_sh...</td>\n",
       "    </tr>\n",
       "    <tr>\n",
       "      <th>11</th>\n",
       "      <td>AgWired</td>\n",
       "      <td>cic-20-328</td>\n",
       "      <td>https://www.flickr.com/photos/zimmcomm/4950111...</td>\n",
       "      <td>&lt;p&gt;&lt;a href=\"https://www.flickr.com/people/zimm...</td>\n",
       "    </tr>\n",
       "    <tr>\n",
       "      <th>12</th>\n",
       "      <td>AgWired</td>\n",
       "      <td>cic-20-326</td>\n",
       "      <td>https://www.flickr.com/photos/zimmcomm/4950111...</td>\n",
       "      <td>&lt;p&gt;&lt;a href=\"https://www.flickr.com/people/zimm...</td>\n",
       "    </tr>\n",
       "    <tr>\n",
       "      <th>13</th>\n",
       "      <td>AgWired</td>\n",
       "      <td>cic-20-337</td>\n",
       "      <td>https://www.flickr.com/photos/zimmcomm/4950038...</td>\n",
       "      <td>&lt;p&gt;&lt;a href=\"https://www.flickr.com/people/zimm...</td>\n",
       "    </tr>\n",
       "    <tr>\n",
       "      <th>14</th>\n",
       "      <td>AgWired</td>\n",
       "      <td>cic-20-329</td>\n",
       "      <td>https://www.flickr.com/photos/zimmcomm/4950111...</td>\n",
       "      <td>&lt;p&gt;&lt;a href=\"https://www.flickr.com/people/zimm...</td>\n",
       "    </tr>\n",
       "    <tr>\n",
       "      <th>15</th>\n",
       "      <td>AgWired</td>\n",
       "      <td>cic-20-335</td>\n",
       "      <td>https://www.flickr.com/photos/zimmcomm/4950088...</td>\n",
       "      <td>&lt;p&gt;&lt;a href=\"https://www.flickr.com/people/zimm...</td>\n",
       "    </tr>\n",
       "    <tr>\n",
       "      <th>16</th>\n",
       "      <td>AgWired</td>\n",
       "      <td>cic-20-334</td>\n",
       "      <td>https://www.flickr.com/photos/zimmcomm/4950110...</td>\n",
       "      <td>&lt;p&gt;&lt;a href=\"https://www.flickr.com/people/zimm...</td>\n",
       "    </tr>\n",
       "    <tr>\n",
       "      <th>17</th>\n",
       "      <td>AgWired</td>\n",
       "      <td>cic-20-331</td>\n",
       "      <td>https://www.flickr.com/photos/zimmcomm/4950089...</td>\n",
       "      <td>&lt;p&gt;&lt;a href=\"https://www.flickr.com/people/zimm...</td>\n",
       "    </tr>\n",
       "    <tr>\n",
       "      <th>18</th>\n",
       "      <td>AgWired</td>\n",
       "      <td>cic-20-321</td>\n",
       "      <td>https://www.flickr.com/photos/zimmcomm/4950112...</td>\n",
       "      <td>&lt;p&gt;&lt;a href=\"https://www.flickr.com/people/zimm...</td>\n",
       "    </tr>\n",
       "    <tr>\n",
       "      <th>19</th>\n",
       "      <td>AgWired</td>\n",
       "      <td>cic-20-319</td>\n",
       "      <td>https://www.flickr.com/photos/zimmcomm/4950040...</td>\n",
       "      <td>&lt;p&gt;&lt;a href=\"https://www.flickr.com/people/zimm...</td>\n",
       "    </tr>\n",
       "  </tbody>\n",
       "</table>\n",
       "</div>"
      ],
      "text/plain": [
       "                      author  \\\n",
       "0              sakuraseed363   \n",
       "1                  skumroffe   \n",
       "2                magister111   \n",
       "3       Ben Chen Photography   \n",
       "4               nadirashakil   \n",
       "5   Daniel Heiss Photography   \n",
       "6   Daniel Heiss Photography   \n",
       "7                  Takashi H   \n",
       "8                  Takashi H   \n",
       "9                 aaroncaley   \n",
       "10                 y-shindoh   \n",
       "11                   AgWired   \n",
       "12                   AgWired   \n",
       "13                   AgWired   \n",
       "14                   AgWired   \n",
       "15                   AgWired   \n",
       "16                   AgWired   \n",
       "17                   AgWired   \n",
       "18                   AgWired   \n",
       "19                   AgWired   \n",
       "\n",
       "                                                title  \\\n",
       "0                             hybrid vegetables Seeds   \n",
       "1                                     Salsiccia pizza   \n",
       "2             Alles Gute zum Geburtstag, liebe AnnA!!   \n",
       "3                                               瓦城乾拌麵   \n",
       "4                                           Menu Book   \n",
       "5                                 Honey Bee in Garden   \n",
       "6                                 Honey Bee in Garden   \n",
       "7                                        ちらし近江町 ¥1530   \n",
       "8                                        ちらし近江町 ¥1530   \n",
       "9                                            DSCF6454   \n",
       "10  Croque-monsieur / クロックムッシュセット / danken COFFEE ...   \n",
       "11                                         cic-20-328   \n",
       "12                                         cic-20-326   \n",
       "13                                         cic-20-337   \n",
       "14                                         cic-20-329   \n",
       "15                                         cic-20-335   \n",
       "16                                         cic-20-334   \n",
       "17                                         cic-20-331   \n",
       "18                                         cic-20-321   \n",
       "19                                         cic-20-319   \n",
       "\n",
       "                                                 link  \\\n",
       "0   https://www.flickr.com/photos/186859685@N06/49...   \n",
       "1   https://www.flickr.com/photos/skumroffe/495010...   \n",
       "2   https://www.flickr.com/photos/magister111/4950...   \n",
       "3   https://www.flickr.com/photos/benagexyz/495005...   \n",
       "4   https://www.flickr.com/photos/186819013@N05/49...   \n",
       "5   https://www.flickr.com/photos/99144705@N06/495...   \n",
       "6   https://www.flickr.com/photos/99144705@N06/495...   \n",
       "7   https://www.flickr.com/photos/62942199@N08/495...   \n",
       "8   https://www.flickr.com/photos/62942199@N08/495...   \n",
       "9   https://www.flickr.com/photos/aaroncaley/49501...   \n",
       "10  https://www.flickr.com/photos/y_shindoh/495011...   \n",
       "11  https://www.flickr.com/photos/zimmcomm/4950111...   \n",
       "12  https://www.flickr.com/photos/zimmcomm/4950111...   \n",
       "13  https://www.flickr.com/photos/zimmcomm/4950038...   \n",
       "14  https://www.flickr.com/photos/zimmcomm/4950111...   \n",
       "15  https://www.flickr.com/photos/zimmcomm/4950088...   \n",
       "16  https://www.flickr.com/photos/zimmcomm/4950110...   \n",
       "17  https://www.flickr.com/photos/zimmcomm/4950089...   \n",
       "18  https://www.flickr.com/photos/zimmcomm/4950112...   \n",
       "19  https://www.flickr.com/photos/zimmcomm/4950040...   \n",
       "\n",
       "                                              summary  \n",
       "0   <p><a href=\"https://www.flickr.com/people/1868...  \n",
       "1   <p><a href=\"https://www.flickr.com/people/skum...  \n",
       "2   <p><a href=\"https://www.flickr.com/people/magi...  \n",
       "3   <p><a href=\"https://www.flickr.com/people/bena...  \n",
       "4   <p><a href=\"https://www.flickr.com/people/1868...  \n",
       "5   <p><a href=\"https://www.flickr.com/people/9914...  \n",
       "6   <p><a href=\"https://www.flickr.com/people/9914...  \n",
       "7   <p><a href=\"https://www.flickr.com/people/6294...  \n",
       "8   <p><a href=\"https://www.flickr.com/people/6294...  \n",
       "9   <p><a href=\"https://www.flickr.com/people/aaro...  \n",
       "10  <p><a href=\"https://www.flickr.com/people/y_sh...  \n",
       "11  <p><a href=\"https://www.flickr.com/people/zimm...  \n",
       "12  <p><a href=\"https://www.flickr.com/people/zimm...  \n",
       "13  <p><a href=\"https://www.flickr.com/people/zimm...  \n",
       "14  <p><a href=\"https://www.flickr.com/people/zimm...  \n",
       "15  <p><a href=\"https://www.flickr.com/people/zimm...  \n",
       "16  <p><a href=\"https://www.flickr.com/people/zimm...  \n",
       "17  <p><a href=\"https://www.flickr.com/people/zimm...  \n",
       "18  <p><a href=\"https://www.flickr.com/people/zimm...  \n",
       "19  <p><a href=\"https://www.flickr.com/people/zimm...  "
      ]
     },
     "execution_count": 287,
     "metadata": {},
     "output_type": "execute_result"
    }
   ],
   "source": [
    "df[['author','title','link','summary']]"
   ]
  },
  {
   "cell_type": "markdown",
   "metadata": {},
   "source": [
    "The `'summary_detail'` and `summary` columns give a short description of the photo, but include some html tags that aren't useful for us if we're trying to analyse plain-text output. \n",
    "\n",
    "BeautifulSoup is a very useful library in many respects for parsing html and xml text, so we can use it here to strip the html tags from this field."
   ]
  },
  {
   "cell_type": "code",
   "execution_count": 295,
   "metadata": {},
   "outputs": [],
   "source": [
    "from bs4 import BeautifulSoup\n",
    "summaryList=[]\n",
    "for summary in range(0,len(d['entries'])):\n",
    "    html_str=d['entries'][summary]['summary']\n",
    "    soup = BeautifulSoup(html_str)\n",
    "    summaryList.append(soup.get_text().split(':',1)[1]) # Included this split to remove a boilerplate first line from summary"
   ]
  },
  {
   "cell_type": "code",
   "execution_count": 296,
   "metadata": {},
   "outputs": [
    {
     "data": {
      "text/plain": [
       "['Sakura range of beetroots, OP/ selected like Ruby Queen, Bikores & royal red ( produced in Europe) & two excellent hybrid F1 Kingdom & F1 Red star with early maturity 55-58 days, uniform smooth roots/ bulb. Deep red flesh, crispy, sweet and suitable for long transportation. Tolerant of all major viruses and diseases.Buy Beetroot seeds online-http://sakuraseed.net/Contact Us- 91-8884261708',\n",
       " 'From Furellios Ristorante in Stockholm, Sweden',\n",
       " 'Una torta glassata, made by Pasticceria Marchesi, la più famosa di Milano, per il compleanno di Anna, la mia (quasi) gemella su flickr!!Eine glasiertee Geburtstagstorte, hergestellt von Pasticceria Marchesi, der berühmtesten Konditorei in Mailand, für Anna, meine (fast) Zwillinge auf flickr!',\n",
       " '',\n",
       " 'Menu Book design For Doraemon cafe',\n",
       " '',\n",
       " '',\n",
       " '井ノ弥石川県金沢市上近江町33-1',\n",
       " '井ノ弥石川県金沢市上近江町33-1',\n",
       " '',\n",
       " 'danken.jp/tabelog.com/kagoshima/A4601/A460101/46013132/',\n",
       " '',\n",
       " '',\n",
       " '',\n",
       " '',\n",
       " '',\n",
       " '',\n",
       " '',\n",
       " '',\n",
       " '']"
      ]
     },
     "execution_count": 296,
     "metadata": {},
     "output_type": "execute_result"
    }
   ],
   "source": [
    "summaries"
   ]
  },
  {
   "cell_type": "markdown",
   "metadata": {},
   "source": [
    "Now we can overwrite the `'summary'` column in the dataframe. You can assign our new plain-text summary list to a new column, if you like."
   ]
  },
  {
   "cell_type": "code",
   "execution_count": 297,
   "metadata": {},
   "outputs": [],
   "source": [
    "df['summary']=summaries"
   ]
  },
  {
   "cell_type": "code",
   "execution_count": 298,
   "metadata": {},
   "outputs": [
    {
     "data": {
      "text/html": [
       "<div>\n",
       "<style scoped>\n",
       "    .dataframe tbody tr th:only-of-type {\n",
       "        vertical-align: middle;\n",
       "    }\n",
       "\n",
       "    .dataframe tbody tr th {\n",
       "        vertical-align: top;\n",
       "    }\n",
       "\n",
       "    .dataframe thead th {\n",
       "        text-align: right;\n",
       "    }\n",
       "</style>\n",
       "<table border=\"1\" class=\"dataframe\">\n",
       "  <thead>\n",
       "    <tr style=\"text-align: right;\">\n",
       "      <th></th>\n",
       "      <th>author</th>\n",
       "      <th>title</th>\n",
       "      <th>link</th>\n",
       "      <th>summary</th>\n",
       "    </tr>\n",
       "  </thead>\n",
       "  <tbody>\n",
       "    <tr>\n",
       "      <th>0</th>\n",
       "      <td>sakuraseed363</td>\n",
       "      <td>hybrid vegetables Seeds</td>\n",
       "      <td>https://www.flickr.com/photos/186859685@N06/49...</td>\n",
       "      <td>Sakura range of beetroots, OP/ selected like R...</td>\n",
       "    </tr>\n",
       "    <tr>\n",
       "      <th>1</th>\n",
       "      <td>skumroffe</td>\n",
       "      <td>Salsiccia pizza</td>\n",
       "      <td>https://www.flickr.com/photos/skumroffe/495010...</td>\n",
       "      <td>From Furellios Ristorante in Stockholm, Sweden</td>\n",
       "    </tr>\n",
       "    <tr>\n",
       "      <th>2</th>\n",
       "      <td>magister111</td>\n",
       "      <td>Alles Gute zum Geburtstag, liebe AnnA!!</td>\n",
       "      <td>https://www.flickr.com/photos/magister111/4950...</td>\n",
       "      <td>Una torta glassata, made by Pasticceria Marche...</td>\n",
       "    </tr>\n",
       "    <tr>\n",
       "      <th>3</th>\n",
       "      <td>Ben Chen Photography</td>\n",
       "      <td>瓦城乾拌麵</td>\n",
       "      <td>https://www.flickr.com/photos/benagexyz/495005...</td>\n",
       "      <td></td>\n",
       "    </tr>\n",
       "    <tr>\n",
       "      <th>4</th>\n",
       "      <td>nadirashakil</td>\n",
       "      <td>Menu Book</td>\n",
       "      <td>https://www.flickr.com/photos/186819013@N05/49...</td>\n",
       "      <td>Menu Book design For Doraemon cafe</td>\n",
       "    </tr>\n",
       "  </tbody>\n",
       "</table>\n",
       "</div>"
      ],
      "text/plain": [
       "                 author                                    title  \\\n",
       "0         sakuraseed363                  hybrid vegetables Seeds   \n",
       "1             skumroffe                          Salsiccia pizza   \n",
       "2           magister111  Alles Gute zum Geburtstag, liebe AnnA!!   \n",
       "3  Ben Chen Photography                                    瓦城乾拌麵   \n",
       "4          nadirashakil                                Menu Book   \n",
       "\n",
       "                                                link  \\\n",
       "0  https://www.flickr.com/photos/186859685@N06/49...   \n",
       "1  https://www.flickr.com/photos/skumroffe/495010...   \n",
       "2  https://www.flickr.com/photos/magister111/4950...   \n",
       "3  https://www.flickr.com/photos/benagexyz/495005...   \n",
       "4  https://www.flickr.com/photos/186819013@N05/49...   \n",
       "\n",
       "                                             summary  \n",
       "0  Sakura range of beetroots, OP/ selected like R...  \n",
       "1     From Furellios Ristorante in Stockholm, Sweden  \n",
       "2  Una torta glassata, made by Pasticceria Marche...  \n",
       "3                                                     \n",
       "4                 Menu Book design For Doraemon cafe  "
      ]
     },
     "execution_count": 298,
     "metadata": {},
     "output_type": "execute_result"
    }
   ],
   "source": [
    "df[['author','title','link','summary']].head(5)"
   ]
  },
  {
   "cell_type": "markdown",
   "metadata": {},
   "source": [
    "We now have an API request response similar to the one you receive if you have followed up to page 4 of the tutorial using google spreadsheets"
   ]
  },
  {
   "cell_type": "markdown",
   "metadata": {},
   "source": [
    "## Going *further*"
   ]
  },
  {
   "cell_type": "markdown",
   "metadata": {},
   "source": [
    "You can add additional parameters to your request, separated by an '&'\n",
    "\n",
    "|Parameter|Description |\n",
    "| ------------- |------|\n",
    "| id | A single user ID |\n",
    "| ids | A comma delimited list of user IDs |\n",
    "| tagmode | Control whether items must have ALL the tags (tagmode=all), or ANY (tagmode=any) of the tags. Default is ALL.|\n",
    "| format | The format of the feed (default Atom 1.0)|\n",
    "| lang |The display language for the feed (default en-us) |\n",
    "\n",
    "Parameters are documented [here](https://www.flickr.com/services/feeds/docs/photos_public/)\n",
    "\n",
    "e.g:"
   ]
  },
  {
   "cell_type": "code",
   "execution_count": 312,
   "metadata": {},
   "outputs": [
    {
     "data": {
      "text/plain": [
       "'https://api.flickr.com/services/feeds/photos_public.gne?tags=food&format=rss2'"
      ]
     },
     "execution_count": 312,
     "metadata": {},
     "output_type": "execute_result"
    }
   ],
   "source": [
    "api_request=base_url + '?'+ 'tags=' + tags + '&format=' + response_format\n",
    "api_request"
   ]
  },
  {
   "cell_type": "markdown",
   "metadata": {},
   "source": [
    "Take a look at only posts tagged 'food' from the British Library flickr account "
   ]
  },
  {
   "cell_type": "code",
   "execution_count": 313,
   "metadata": {},
   "outputs": [],
   "source": [
    "BritishLibraryFlickrID='12403504@N02'"
   ]
  },
  {
   "cell_type": "code",
   "execution_count": 314,
   "metadata": {},
   "outputs": [
    {
     "name": "stdout",
     "output_type": "stream",
     "text": [
      "https://api.flickr.com/services/feeds/photos_public.gne?tags=food&format=rss2&id=12403504@N02\n"
     ]
    }
   ],
   "source": [
    "api_request+='&id='+BritishLibraryFlickrID\n",
    "print(api_request)"
   ]
  },
  {
   "cell_type": "markdown",
   "metadata": {},
   "source": [
    "Handle the request and response as before:"
   ]
  },
  {
   "cell_type": "code",
   "execution_count": 321,
   "metadata": {},
   "outputs": [
    {
     "data": {
      "text/html": [
       "<div>\n",
       "<style scoped>\n",
       "    .dataframe tbody tr th:only-of-type {\n",
       "        vertical-align: middle;\n",
       "    }\n",
       "\n",
       "    .dataframe tbody tr th {\n",
       "        vertical-align: top;\n",
       "    }\n",
       "\n",
       "    .dataframe thead th {\n",
       "        text-align: right;\n",
       "    }\n",
       "</style>\n",
       "<table border=\"1\" class=\"dataframe\">\n",
       "  <thead>\n",
       "    <tr style=\"text-align: right;\">\n",
       "      <th></th>\n",
       "      <th>author</th>\n",
       "      <th>title</th>\n",
       "      <th>link</th>\n",
       "      <th>summary</th>\n",
       "    </tr>\n",
       "  </thead>\n",
       "  <tbody>\n",
       "    <tr>\n",
       "      <th>0</th>\n",
       "      <td>nobody@flickr.com (The British Library)</td>\n",
       "      <td>Image taken from page 51 of 'Unbeaten Tracks i...</td>\n",
       "      <td>https://www.flickr.com/photos/britishlibrary/1...</td>\n",
       "      <td>&lt;p&gt;&lt;a href=\"https://www.flickr.com/people/brit...</td>\n",
       "    </tr>\n",
       "    <tr>\n",
       "      <th>1</th>\n",
       "      <td>nobody@flickr.com (The British Library)</td>\n",
       "      <td>Image taken from page 506 of 'S. W. By the aut...</td>\n",
       "      <td>https://www.flickr.com/photos/britishlibrary/1...</td>\n",
       "      <td>&lt;p&gt;&lt;a href=\"https://www.flickr.com/people/brit...</td>\n",
       "    </tr>\n",
       "    <tr>\n",
       "      <th>2</th>\n",
       "      <td>nobody@flickr.com (The British Library)</td>\n",
       "      <td>Image taken from page 72 of 'America revisited...</td>\n",
       "      <td>https://www.flickr.com/photos/britishlibrary/1...</td>\n",
       "      <td>&lt;p&gt;&lt;a href=\"https://www.flickr.com/people/brit...</td>\n",
       "    </tr>\n",
       "    <tr>\n",
       "      <th>3</th>\n",
       "      <td>nobody@flickr.com (The British Library)</td>\n",
       "      <td>Image taken from page 31 of 'Cruel Fred and ot...</td>\n",
       "      <td>https://www.flickr.com/photos/britishlibrary/1...</td>\n",
       "      <td>&lt;p&gt;&lt;a href=\"https://www.flickr.com/people/brit...</td>\n",
       "    </tr>\n",
       "    <tr>\n",
       "      <th>4</th>\n",
       "      <td>nobody@flickr.com (The British Library)</td>\n",
       "      <td>Image taken from page 244 of 'Peter Simple ......</td>\n",
       "      <td>https://www.flickr.com/photos/britishlibrary/1...</td>\n",
       "      <td>&lt;p&gt;&lt;a href=\"https://www.flickr.com/people/brit...</td>\n",
       "    </tr>\n",
       "  </tbody>\n",
       "</table>\n",
       "</div>"
      ],
      "text/plain": [
       "                                    author  \\\n",
       "0  nobody@flickr.com (The British Library)   \n",
       "1  nobody@flickr.com (The British Library)   \n",
       "2  nobody@flickr.com (The British Library)   \n",
       "3  nobody@flickr.com (The British Library)   \n",
       "4  nobody@flickr.com (The British Library)   \n",
       "\n",
       "                                               title  \\\n",
       "0  Image taken from page 51 of 'Unbeaten Tracks i...   \n",
       "1  Image taken from page 506 of 'S. W. By the aut...   \n",
       "2  Image taken from page 72 of 'America revisited...   \n",
       "3  Image taken from page 31 of 'Cruel Fred and ot...   \n",
       "4  Image taken from page 244 of 'Peter Simple ......   \n",
       "\n",
       "                                                link  \\\n",
       "0  https://www.flickr.com/photos/britishlibrary/1...   \n",
       "1  https://www.flickr.com/photos/britishlibrary/1...   \n",
       "2  https://www.flickr.com/photos/britishlibrary/1...   \n",
       "3  https://www.flickr.com/photos/britishlibrary/1...   \n",
       "4  https://www.flickr.com/photos/britishlibrary/1...   \n",
       "\n",
       "                                             summary  \n",
       "0  <p><a href=\"https://www.flickr.com/people/brit...  \n",
       "1  <p><a href=\"https://www.flickr.com/people/brit...  \n",
       "2  <p><a href=\"https://www.flickr.com/people/brit...  \n",
       "3  <p><a href=\"https://www.flickr.com/people/brit...  \n",
       "4  <p><a href=\"https://www.flickr.com/people/brit...  "
      ]
     },
     "execution_count": 321,
     "metadata": {},
     "output_type": "execute_result"
    }
   ],
   "source": [
    "d = feedparser.parse(api_request)\n",
    "df=pd.DataFrame(d['entries'])\n",
    "\n",
    "df[['author','title','link','summary']].head(5)"
   ]
  },
  {
   "cell_type": "markdown",
   "metadata": {},
   "source": [
    "Clean things up as we did before"
   ]
  },
  {
   "cell_type": "code",
   "execution_count": 344,
   "metadata": {},
   "outputs": [],
   "source": [
    "summaryList=[]\n",
    "for summary in range(0,len(d['entries'])):\n",
    "    html_str=d['entries'][summary]['summary']\n",
    "    soup = BeautifulSoup(html_str)\n",
    "    #print(soup.get_text().split(':',1)[1])\n",
    "    summaryList.append(soup.get_text().split(':',1)[1].replace(r'\\n','')) # Included this split to remove a boilerplate first line from summary\n",
    "df['summary']=summaryList\n"
   ]
  },
  {
   "cell_type": "code",
   "execution_count": 345,
   "metadata": {},
   "outputs": [
    {
     "data": {
      "text/html": [
       "<div>\n",
       "<style scoped>\n",
       "    .dataframe tbody tr th:only-of-type {\n",
       "        vertical-align: middle;\n",
       "    }\n",
       "\n",
       "    .dataframe tbody tr th {\n",
       "        vertical-align: top;\n",
       "    }\n",
       "\n",
       "    .dataframe thead th {\n",
       "        text-align: right;\n",
       "    }\n",
       "</style>\n",
       "<table border=\"1\" class=\"dataframe\">\n",
       "  <thead>\n",
       "    <tr style=\"text-align: right;\">\n",
       "      <th></th>\n",
       "      <th>credit</th>\n",
       "      <th>title</th>\n",
       "      <th>link</th>\n",
       "      <th>summary</th>\n",
       "    </tr>\n",
       "  </thead>\n",
       "  <tbody>\n",
       "    <tr>\n",
       "      <th>0</th>\n",
       "      <td>The British Library</td>\n",
       "      <td>Image taken from page 51 of 'Unbeaten Tracks i...</td>\n",
       "      <td>https://www.flickr.com/photos/britishlibrary/1...</td>\n",
       "      <td>\\n\\nImage taken from:\\n\\nTitle: \"Unbeaten Trac...</td>\n",
       "    </tr>\n",
       "    <tr>\n",
       "      <th>1</th>\n",
       "      <td>The British Library</td>\n",
       "      <td>Image taken from page 506 of 'S. W. By the aut...</td>\n",
       "      <td>https://www.flickr.com/photos/britishlibrary/1...</td>\n",
       "      <td>\\n\\nImage taken from:\\n\\nTitle: \"S. W. By the ...</td>\n",
       "    </tr>\n",
       "    <tr>\n",
       "      <th>2</th>\n",
       "      <td>The British Library</td>\n",
       "      <td>Image taken from page 72 of 'America revisited...</td>\n",
       "      <td>https://www.flickr.com/photos/britishlibrary/1...</td>\n",
       "      <td>\\n\\nImage taken from:\\n\\nTitle: \"America revis...</td>\n",
       "    </tr>\n",
       "    <tr>\n",
       "      <th>3</th>\n",
       "      <td>The British Library</td>\n",
       "      <td>Image taken from page 31 of 'Cruel Fred and ot...</td>\n",
       "      <td>https://www.flickr.com/photos/britishlibrary/1...</td>\n",
       "      <td>\\n\\nImage taken from:\\n\\nTitle: \"Cruel Fred an...</td>\n",
       "    </tr>\n",
       "    <tr>\n",
       "      <th>4</th>\n",
       "      <td>The British Library</td>\n",
       "      <td>Image taken from page 244 of 'Peter Simple ......</td>\n",
       "      <td>https://www.flickr.com/photos/britishlibrary/1...</td>\n",
       "      <td>\\n\\nImage taken from:\\n\\nTitle: \"Peter Simple ...</td>\n",
       "    </tr>\n",
       "  </tbody>\n",
       "</table>\n",
       "</div>"
      ],
      "text/plain": [
       "                credit                                              title  \\\n",
       "0  The British Library  Image taken from page 51 of 'Unbeaten Tracks i...   \n",
       "1  The British Library  Image taken from page 506 of 'S. W. By the aut...   \n",
       "2  The British Library  Image taken from page 72 of 'America revisited...   \n",
       "3  The British Library  Image taken from page 31 of 'Cruel Fred and ot...   \n",
       "4  The British Library  Image taken from page 244 of 'Peter Simple ......   \n",
       "\n",
       "                                                link  \\\n",
       "0  https://www.flickr.com/photos/britishlibrary/1...   \n",
       "1  https://www.flickr.com/photos/britishlibrary/1...   \n",
       "2  https://www.flickr.com/photos/britishlibrary/1...   \n",
       "3  https://www.flickr.com/photos/britishlibrary/1...   \n",
       "4  https://www.flickr.com/photos/britishlibrary/1...   \n",
       "\n",
       "                                             summary  \n",
       "0  \\n\\nImage taken from:\\n\\nTitle: \"Unbeaten Trac...  \n",
       "1  \\n\\nImage taken from:\\n\\nTitle: \"S. W. By the ...  \n",
       "2  \\n\\nImage taken from:\\n\\nTitle: \"America revis...  \n",
       "3  \\n\\nImage taken from:\\n\\nTitle: \"Cruel Fred an...  \n",
       "4  \\n\\nImage taken from:\\n\\nTitle: \"Peter Simple ...  "
      ]
     },
     "execution_count": 345,
     "metadata": {},
     "output_type": "execute_result"
    }
   ],
   "source": [
    "df[['credit','title','link','summary']].head(5)"
   ]
  },
  {
   "cell_type": "markdown",
   "metadata": {},
   "source": [
    "Can clean up the `\\n` newline characters in the summary column"
   ]
  },
  {
   "cell_type": "code",
   "execution_count": 349,
   "metadata": {},
   "outputs": [],
   "source": [
    "summaryList=[s.replace(\"\\n\",'') for s in summaryList]"
   ]
  },
  {
   "cell_type": "code",
   "execution_count": 350,
   "metadata": {},
   "outputs": [
    {
     "data": {
      "text/plain": [
       "['Image taken from:Title: \"Unbeaten Tracks in Japan. An account of travels in the interior, including visits to the aborigines of Yezo and the shrines of Nikkô and Isé ... With map and illustrations, etc\"Author: BIRD, afterwards BISHOP, Isabella Lucy.Shelfmark: \"British Library HMNTS 010058.ee.53.\"Volume: 01Page: 51Place of Publishing: LondonDate of Publishing: 1880Publisher: John MurrayIssuance: monographicIdentifier: 000356195Explore:  Find this item in the British Library catalogue, \\'Explore\\'.  Open the page in the British Library\\'s itemViewer (page image 51)Download the PDF for this book Image found on book scan 51 (NB not a pagenumber)Download the OCR-derived text for this volume: (plain text) or (json)Click here to see all the illustrations in this book and click here to browse other illustrations published in books in the same year.Order a higher quality version from here.',\n",
       " 'Image taken from:Title: \"S. W. By the author of “A Modern Minister.”\"Author: WEIR, Saul.Shelfmark: \"British Library HMNTS 12640.m.10.\"Volume: 04Page: 506Date of Publishing: 1879Issuance: monographicIdentifier: 003880512Explore:Find this item in the British Library catalogue, \\'Explore\\'.Download the PDF for this book (volume: 04) Image found on book scan 506 (NB not necessarily a page number)Download the OCR-derived text for this volume: (plain text) or (json)Click here to see all the illustrations in this book and click here to browse other illustrations published in books in the same year.Order a higher quality version from here.',\n",
       " 'Image taken from:Title: \"America revisited ... Illustrated, etc\"Author: SALA, George Augustus Henry Fairfield.Shelfmark: \"British Library HMNTS 10410.s.1.\"Page: 72Place of Publishing: LondonDate of Publishing: 1882Publisher: Vizetelly & Co.Issuance: monographicIdentifier: 003228169Explore:Find this item in the British Library catalogue, \\'Explore\\'.Download the PDF for this book (volume: 0) Image found on book scan 72 (NB not necessarily a page number)Download the OCR-derived text for this volume: (plain text) or (json)Click here to see all the illustrations in this book and click here to browse other illustrations published in books in the same year.Order a higher quality version from here.',\n",
       " 'Image taken from:Title: \"Cruel Fred and other funny stories [in verse] and pictures\"Shelfmark: \"British Library HMNTS 11648.f.32.\"Page: 31Place of Publishing: EdinburghDate of Publishing: 1855Issuance: monographicIdentifier: 001315922Explore:Find this item in the British Library catalogue, \\'Explore\\'.Download the PDF for this book (volume: 0) Image found on book scan 31 (NB not necessarily a page number)Download the OCR-derived text for this volume: (plain text) or (json)Click here to see all the illustrations in this book and click here to browse other illustrations published in books in the same year.Order a higher quality version from here.',\n",
       " 'Image taken from:Title: \"Peter Simple ... Illustrated by J. A. Symington, with an introduction by D. Hannay\", \"Single Works\"Author: Marryat, FrederickContributor: HANNAY, David.Contributor: SYMINGTON, James Ayton.Shelfmark: \"British Library HMNTS 012624.g.12.\"Page: 244Place of Publishing: LondonDate of Publishing: 1895Publisher: Macmillan & Co.Issuance: monographicIdentifier: 002391357Explore:Find this item in the British Library catalogue, \\'Explore\\'.Download the PDF for this book (volume: 0) Image found on book scan 244 (NB not necessarily a page number)Download the OCR-derived text for this volume: (plain text) or (json)Click here to see all the illustrations in this book and click here to browse other illustrations published in books in the same year.Order a higher quality version from here.',\n",
       " 'Image taken from:Title: \"Histoire de la Nation suisse\"Author: MUYDEN, Berthold van.Shelfmark: \"British Library HMNTS 9304.e.22.\"Volume: 01Page: 315Place of Publishing: LausanneDate of Publishing: 1896Issuance: monographicIdentifier: 002595787Explore:Find this item in the British Library catalogue, \\'Explore\\'.Download the PDF for this book (volume: 01) Image found on book scan 315 (NB not necessarily a page number)Download the OCR-derived text for this volume: (plain text) or (json)Click here to see all the illustrations in this book and click here to browse other illustrations published in books in the same year.Order a higher quality version from here.',\n",
       " 'Image taken from:Title: \"The Letters of Charles Dickens. Edited by his sister-in-law and his eldest daughter\", \"Letters. Collections\"Author: Dickens, CharlesContributor: HOGARTH, Georgina.Shelfmark: \"British Library HMNTS 012273.ff.3/12.\"Volume: 09Page: 407Place of Publishing: LondonDate of Publishing: 1893Publisher: Macmillan & Co.Issuance: monographicIdentifier: 000931072Explore:Find this item in the British Library catalogue, \\'Explore\\'.Download the PDF for this book (volume: 09) Image found on book scan 407 (NB not necessarily a page number)Download the OCR-derived text for this volume: (plain text) or (json)Click here to see all the illustrations in this book and click here to browse other illustrations published in books in the same year.Order a higher quality version from here.',\n",
       " 'Image taken from:Title: \"Lærebog i Nordens Historie ... Med 10 ... Kort, etc\"Author: OTTOSEN, Johan.Shelfmark: \"British Library HMNTS 9424.cc.10.\"Page: 123Place of Publishing: KøbenhavnDate of Publishing: 1893Issuance: monographicIdentifier: 002731478Explore:Find this item in the British Library catalogue, \\'Explore\\'.Download the PDF for this book (volume: 0) Image found on book scan 123 (NB not necessarily a page number)Download the OCR-derived text for this volume: (plain text) or (json)Click here to see all the illustrations in this book and click here to browse other illustrations published in books in the same year.Order a higher quality version from here.',\n",
       " 'Image taken from:Title: \"[Geschichte der Schweiz, mit besonderer Rücksicht auf die Entwicklung des Verfassungs- und Kulturlebens von den ältesten Zeiten bis zur Gegenwart. Nach den Quellen und neuesten Forschungen gemeinfasslich dargestellt ... Mit kulturhistorischen Illustrationen und Plänen.]\"Author: DAENDLIKER, Karl.Shelfmark: \"British Library HMNTS 9305.g.3.\"Volume: 01Page: 644Place of Publishing: ZürichDate of Publishing: 1893Edition: Dritte verbesserte und teilweise umgestaltete Auflage.Issuance: monographicIdentifier: 000850411Explore:Find this item in the British Library catalogue, \\'Explore\\'.Download the PDF for this book (volume: 01) Image found on book scan 644 (NB not necessarily a page number)Download the OCR-derived text for this volume: (plain text) or (json)Click here to see all the illustrations in this book and click here to browse other illustrations published in books in the same year.Order a higher quality version from here.',\n",
       " 'Image taken from:Title: \"Humorous Poems ... With a preface by A. Ainger, and ... illustrations by C. E. Brock. L.P\", \"Poetical Works. Smaller Collections\"Author: Hood, ThomasContributor: Ainger, AlfredContributor: BROCK, Charles Edmund.Shelfmark: \"British Library HMNTS 11611.g.17.\"Page: 157Place of Publishing: LondonDate of Publishing: 1893Publisher: Macmillan & Co.Issuance: monographicIdentifier: 001726652Explore:Find this item in the British Library catalogue, \\'Explore\\'.Download the PDF for this book (volume: 0) Image found on book scan 157 (NB not necessarily a page number)Download the OCR-derived text for this volume: (plain text) or (json)Click here to see all the illustrations in this book and click here to browse other illustrations published in books in the same year.Order a higher quality version from here.',\n",
       " 'Image taken from:Title: \"Twenty Years among our hostile Indians ... Fully illustrated from original photographs\"Author: HUMFREVILLE, J. Lee.Shelfmark: \"British Library HMNTS 10006.dd.20.\"Page: 128Place of Publishing: New YorkDate of Publishing: 1899Publisher: Hunter & Co.Issuance: monographicIdentifier: 001765835Explore:  Find this item in the British Library catalogue, \\'Explore\\'.  Open the page in the British Library\\'s itemViewer (page image 128)Download the PDF for this book Image found on book scan 128 (NB not a pagenumber)Download the OCR-derived text for this volume: (plain text) or (json)Click here to see all the illustrations in this book and click here to browse other illustrations published in books in the same year.Order a higher quality version from here.',\n",
       " 'Image taken from:Title: \"Poems ... With a biographical and critical introduction by the Rev. Thomas Dale, and seventy-five illustrations, engraved by J. Orrin Smith, from drawings by John Gilbert\", \"Smaller Collections\"Author: Cowper, WilliamContributor: DALE, Thomas - Dean of RochesterContributor: Gilbert, John - SirShelfmark: \"British Library HMNTS 11611.bbb.42.\"Volume: 02Page: 207Place of Publishing: LondonDate of Publishing: 1841Publisher: Tilt & BogueIssuance: monographicIdentifier: 000806129Explore:Find this item in the British Library catalogue, \\'Explore\\'.Download the PDF for this book (volume: 02) Image found on book scan 207 (NB not necessarily a page number)Download the OCR-derived text for this volume: (plain text) or (json)Click here to see all the illustrations in this book and click here to browse other illustrations published in books in the same year.Order a higher quality version from here.',\n",
       " 'Image taken from:Title: \"Folk Songs, selected and edited by J. W. P. ... New edition ... enlarged. F.P\"Author: PALMER, John Williamson.Shelfmark: \"British Library HMNTS 11651.g.15.\"Page: 335Place of Publishing: New-York, Riverside, Cambridge printed, 1867Date of Publishing: 1867Issuance: monographicIdentifier: 002756081Explore:Find this item in the British Library catalogue, \\'Explore\\'.Download the PDF for this book (volume: 0) Image found on book scan 335 (NB not necessarily a page number)Download the OCR-derived text for this volume: (plain text) or (json)Click here to see all the illustrations in this book and click here to browse other illustrations published in books in the same year.Order a higher quality version from here.',\n",
       " 'Image taken from:Title: \"The Dodd Family Abroad. ... With illustrations by Phiz [i.e. H. K. Browne]\"Author: LEVER, Charles James.Shelfmark: \"British Library HMNTS 12620.d.20.\", \"British Library HMNTS 12643.w.28.\"Page: 533Place of Publishing: LondonDate of Publishing: 1854Issuance: monographicIdentifier: 002150812Explore:Find this item in the British Library catalogue, \\'Explore\\'.Download the PDF for this book (volume: 0) Image found on book scan 533 (NB not necessarily a page number)Download the OCR-derived text for this volume: (plain text) or (json)Click here to see all the illustrations in this book and click here to browse other illustrations published in books in the same year.Order a higher quality version from here.',\n",
       " 'Image taken from:Title: \"Tommy Toddles\\'s Comic Almenak, for all\\'t foaks e Leeds (e t\\' Wurld) an raand abaght (for 1862, 1863-69, 1870-74) ... Be Tommy Toddles, Eesquear\"Contributor: TODDLES, Tommy - pseudShelfmark: \"British Library HMNTS 1077.i.41.\"Page: 17Place of Publishing: LeedsDate of Publishing: 1862Publisher: J. Heaton & SonIssuance: monographicIdentifier: 001152774Explore:Find this item in the British Library catalogue, \\'Explore\\'.Download the PDF for this book (volume: 0) Image found on book scan 17 (NB not necessarily a page number)Download the OCR-derived text for this volume: (plain text) or (json)Click here to see all the illustrations in this book and click here to browse other illustrations published in books in the same year.Order a higher quality version from here.',\n",
       " 'Image taken from:Title: \"Viajes de Fr. G. por Francia, Belgica, Holanda y orillas del Rhin\"Shelfmark: \"British Library HMNTS 10108.f.15.\"Page: 600Place of Publishing: MadridDate of Publishing: 1862Issuance: monographicIdentifier: 001408187Explore:Find this item in the British Library catalogue, \\'Explore\\'.Download the PDF for this book (volume: 0) Image found on book scan 600 (NB not necessarily a page number)Download the OCR-derived text for this volume: (plain text) or (json)Click here to see all the illustrations in this book and click here to browse other illustrations published in books in the same year.Order a higher quality version from here.',\n",
       " 'Image taken from:Title: \"Sand and Canvas; a narrative of adventures in Egypt, with a sojourn among the artists at Rome. [With plates.]\"Author: BEVAN, Samuel.Shelfmark: \"British Library HMNTS 10095.e.27.\"Page: 280Place of Publishing: LondonDate of Publishing: 1849Publisher: Charles GilpinIssuance: monographicIdentifier: 000307622Explore:  Find this item in the British Library catalogue, \\'Explore\\'.  Open the page in the British Library\\'s itemViewer (page image 280)Download the PDF for this book Image found on book scan 280 (NB not a pagenumber)Download the OCR-derived text for this volume: (plain text) or (json)Click here to see all the illustrations in this book and click here to browse other illustrations published in books in the same year.Order a higher quality version from here.']"
      ]
     },
     "execution_count": 350,
     "metadata": {},
     "output_type": "execute_result"
    }
   ],
   "source": [
    "summaryList"
   ]
  },
  {
   "cell_type": "code",
   "execution_count": 351,
   "metadata": {},
   "outputs": [],
   "source": [
    "df['summary']=summaryList"
   ]
  },
  {
   "cell_type": "markdown",
   "metadata": {},
   "source": [
    "And finally get a request in a nice format (that we can export to csv etc)"
   ]
  },
  {
   "cell_type": "code",
   "execution_count": 353,
   "metadata": {},
   "outputs": [
    {
     "data": {
      "text/html": [
       "<div>\n",
       "<style scoped>\n",
       "    .dataframe tbody tr th:only-of-type {\n",
       "        vertical-align: middle;\n",
       "    }\n",
       "\n",
       "    .dataframe tbody tr th {\n",
       "        vertical-align: top;\n",
       "    }\n",
       "\n",
       "    .dataframe thead th {\n",
       "        text-align: right;\n",
       "    }\n",
       "</style>\n",
       "<table border=\"1\" class=\"dataframe\">\n",
       "  <thead>\n",
       "    <tr style=\"text-align: right;\">\n",
       "      <th></th>\n",
       "      <th>credit</th>\n",
       "      <th>title</th>\n",
       "      <th>link</th>\n",
       "      <th>summary</th>\n",
       "    </tr>\n",
       "  </thead>\n",
       "  <tbody>\n",
       "    <tr>\n",
       "      <th>0</th>\n",
       "      <td>The British Library</td>\n",
       "      <td>Image taken from page 51 of 'Unbeaten Tracks i...</td>\n",
       "      <td>https://www.flickr.com/photos/britishlibrary/1...</td>\n",
       "      <td>Image taken from:Title: \"Unbeaten Tracks in Ja...</td>\n",
       "    </tr>\n",
       "    <tr>\n",
       "      <th>1</th>\n",
       "      <td>The British Library</td>\n",
       "      <td>Image taken from page 506 of 'S. W. By the aut...</td>\n",
       "      <td>https://www.flickr.com/photos/britishlibrary/1...</td>\n",
       "      <td>Image taken from:Title: \"S. W. By the author o...</td>\n",
       "    </tr>\n",
       "    <tr>\n",
       "      <th>2</th>\n",
       "      <td>The British Library</td>\n",
       "      <td>Image taken from page 72 of 'America revisited...</td>\n",
       "      <td>https://www.flickr.com/photos/britishlibrary/1...</td>\n",
       "      <td>Image taken from:Title: \"America revisited ......</td>\n",
       "    </tr>\n",
       "    <tr>\n",
       "      <th>3</th>\n",
       "      <td>The British Library</td>\n",
       "      <td>Image taken from page 31 of 'Cruel Fred and ot...</td>\n",
       "      <td>https://www.flickr.com/photos/britishlibrary/1...</td>\n",
       "      <td>Image taken from:Title: \"Cruel Fred and other ...</td>\n",
       "    </tr>\n",
       "    <tr>\n",
       "      <th>4</th>\n",
       "      <td>The British Library</td>\n",
       "      <td>Image taken from page 244 of 'Peter Simple ......</td>\n",
       "      <td>https://www.flickr.com/photos/britishlibrary/1...</td>\n",
       "      <td>Image taken from:Title: \"Peter Simple ... Illu...</td>\n",
       "    </tr>\n",
       "  </tbody>\n",
       "</table>\n",
       "</div>"
      ],
      "text/plain": [
       "                credit                                              title  \\\n",
       "0  The British Library  Image taken from page 51 of 'Unbeaten Tracks i...   \n",
       "1  The British Library  Image taken from page 506 of 'S. W. By the aut...   \n",
       "2  The British Library  Image taken from page 72 of 'America revisited...   \n",
       "3  The British Library  Image taken from page 31 of 'Cruel Fred and ot...   \n",
       "4  The British Library  Image taken from page 244 of 'Peter Simple ......   \n",
       "\n",
       "                                                link  \\\n",
       "0  https://www.flickr.com/photos/britishlibrary/1...   \n",
       "1  https://www.flickr.com/photos/britishlibrary/1...   \n",
       "2  https://www.flickr.com/photos/britishlibrary/1...   \n",
       "3  https://www.flickr.com/photos/britishlibrary/1...   \n",
       "4  https://www.flickr.com/photos/britishlibrary/1...   \n",
       "\n",
       "                                             summary  \n",
       "0  Image taken from:Title: \"Unbeaten Tracks in Ja...  \n",
       "1  Image taken from:Title: \"S. W. By the author o...  \n",
       "2  Image taken from:Title: \"America revisited ......  \n",
       "3  Image taken from:Title: \"Cruel Fred and other ...  \n",
       "4  Image taken from:Title: \"Peter Simple ... Illu...  "
      ]
     },
     "execution_count": 353,
     "metadata": {},
     "output_type": "execute_result"
    }
   ],
   "source": [
    "df[['credit','title','link','summary']].head(5)"
   ]
  },
  {
   "cell_type": "markdown",
   "metadata": {},
   "source": [
    "# Working with the BNB"
   ]
  },
  {
   "cell_type": "markdown",
   "metadata": {},
   "source": [
    "Exercise 2 of the tutorial details with more complex data structures by retrieving items from the BNB and extracting\n",
    "information from the XML data"
   ]
  },
  {
   "cell_type": "markdown",
   "metadata": {},
   "source": [
    "For this exercise you are going to work with a ‘full record display’ for books from the BNB.  \n",
    "The example URL from the tutorial is http://bnb.data.bl.uk/id/resource/010712074\n",
    "\n",
    "Click on it and note the difference in the URL displayed in the browser!      \n",
    "`id` becomes `doc`"
   ]
  },
  {
   "cell_type": "markdown",
   "metadata": {},
   "source": [
    "HTML looks nice on a web page, but isn't so useful for extracting data (with a script or similar). Formats available through the API are:\n",
    "\n",
    "- rdf\n",
    "- ttl\n",
    "- json\n",
    "- xml\n",
    "- html"
   ]
  },
  {
   "cell_type": "markdown",
   "metadata": {},
   "source": [
    "Could pick json or xml realistically, so let's look at XML again:  \n",
    "https://bnb.data.bl.uk/doc/resource/010712074.xml"
   ]
  },
  {
   "cell_type": "code",
   "execution_count": 381,
   "metadata": {},
   "outputs": [],
   "source": [
    "url_list=[\n",
    "    'http://bnb.data.bl.uk/id/resource/009406660',\n",
    "    'http://bnb.data.bl.uk/id/resource/010055357',\n",
    "    'http://bnb.data.bl.uk/id/resource/009406743',\n",
    "    'http://bnb.data.bl.uk/id/resource/010053535',\n",
    "    'http://bnb.data.bl.uk/id/resource/008418912',\n",
    "    'http://bnb.data.bl.uk/id/resource/012702152',\n",
    "    'http://bnb.data.bl.uk/id/resource/009406658',\n",
    "    'http://bnb.data.bl.uk/id/resource/009097698',\n",
    "    'http://bnb.data.bl.uk/id/resource/010975194'\n",
    "    ]\n",
    "\n",
    "url_list=[url+'.xml' for url in url_list] # add '.xml' to the end of every url given here"
   ]
  },
  {
   "cell_type": "code",
   "execution_count": 382,
   "metadata": {},
   "outputs": [
    {
     "data": {
      "text/plain": [
       "['http://bnb.data.bl.uk/id/resource/009406660.xml',\n",
       " 'http://bnb.data.bl.uk/id/resource/010055357.xml',\n",
       " 'http://bnb.data.bl.uk/id/resource/009406743.xml',\n",
       " 'http://bnb.data.bl.uk/id/resource/010053535.xml',\n",
       " 'http://bnb.data.bl.uk/id/resource/008418912.xml',\n",
       " 'http://bnb.data.bl.uk/id/resource/012702152.xml',\n",
       " 'http://bnb.data.bl.uk/id/resource/009406658.xml',\n",
       " 'http://bnb.data.bl.uk/id/resource/009097698.xml',\n",
       " 'http://bnb.data.bl.uk/id/resource/010975194.xml']"
      ]
     },
     "execution_count": 382,
     "metadata": {},
     "output_type": "execute_result"
    }
   ],
   "source": [
    "url_list"
   ]
  },
  {
   "cell_type": "code",
   "execution_count": 425,
   "metadata": {},
   "outputs": [
    {
     "name": "stdout",
     "output_type": "stream",
     "text": [
      "[*] Title: Espedair Street\n",
      "[*] Description: Originally published: London : Macmillan, 1987.\n"
     ]
    }
   ],
   "source": [
    "from lxml import etree\n",
    "\n",
    "tree = etree.parse(opener.open(url_list[0]),parser).getroot()\n",
    "\n",
    "for sub in tree.xpath('//result/primaryTopic'):\n",
    "    description = ''.join(sub.xpath('.//description/text()'))\n",
    "    title= ''.join(sub.xpath('.//title/text()'))\n",
    "    print(\"[*] Title: {}\".format(title))\n",
    "    print(\"[*] Description: {}\".format(description))"
   ]
  },
  {
   "cell_type": "markdown",
   "metadata": {},
   "source": [
    "Alternatively, use a double backslash `\\\\` to act as a wildcard in the path. Can find the title like:"
   ]
  },
  {
   "cell_type": "code",
   "execution_count": 426,
   "metadata": {},
   "outputs": [
    {
     "data": {
      "text/plain": [
       "['Espedair Street']"
      ]
     },
     "execution_count": 426,
     "metadata": {},
     "output_type": "execute_result"
    }
   ],
   "source": [
    "tree.xpath('//title/text()')"
   ]
  },
  {
   "cell_type": "markdown",
   "metadata": {},
   "source": [
    "And the ISBN:"
   ]
  },
  {
   "cell_type": "code",
   "execution_count": 431,
   "metadata": {},
   "outputs": [
    {
     "data": {
      "text/plain": [
       "['0316858552']"
      ]
     },
     "execution_count": 431,
     "metadata": {},
     "output_type": "execute_result"
    }
   ],
   "source": [
    "tree.xpath('//ISBN10/text()')"
   ]
  },
  {
   "cell_type": "markdown",
   "metadata": {},
   "source": [
    "That's it for this tutorial! The next steps given are:\n",
    "\n",
    "- How would you amend the formula to display the publication information?\n",
    "- Now you have an ISBN for a BNB item, can you think of other online resources you could link to or use to further enhance the display?\n",
    "- How would you go about bringing in an additional source of data?\n",
    "\n",
    "It is left up to the reader to decide how to proceed!"
   ]
  }
 ],
 "metadata": {
  "kernelspec": {
   "display_name": "Python 3",
   "language": "python",
   "name": "python3"
  },
  "language_info": {
   "codemirror_mode": {
    "name": "ipython",
    "version": 3
   },
   "file_extension": ".py",
   "mimetype": "text/x-python",
   "name": "python",
   "nbconvert_exporter": "python",
   "pygments_lexer": "ipython3",
   "version": "3.7.3"
  }
 },
 "nbformat": 4,
 "nbformat_minor": 2
}
